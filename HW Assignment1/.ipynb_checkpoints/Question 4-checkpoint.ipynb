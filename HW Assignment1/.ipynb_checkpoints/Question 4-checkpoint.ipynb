{
 "cells": [
  {
   "cell_type": "code",
   "execution_count": 1,
   "metadata": {
    "collapsed": true
   },
   "outputs": [],
   "source": [
    "import nltk"
   ]
  },
  {
   "cell_type": "markdown",
   "metadata": {},
   "source": [
    "# Question 4"
   ]
  },
  {
   "cell_type": "markdown",
   "metadata": {},
   "source": [
    "## Under package nps_chat, see what files are in it."
   ]
  },
  {
   "cell_type": "code",
   "execution_count": 2,
   "metadata": {
    "collapsed": false
   },
   "outputs": [
    {
     "name": "stdout",
     "output_type": "stream",
     "text": [
      "The following files are in package nps_chat\n"
     ]
    },
    {
     "data": {
      "text/plain": [
       "['10-19-20s_706posts.xml',\n",
       " '10-19-30s_705posts.xml',\n",
       " '10-19-40s_686posts.xml',\n",
       " '10-19-adults_706posts.xml',\n",
       " '10-24-40s_706posts.xml',\n",
       " '10-26-teens_706posts.xml',\n",
       " '11-06-adults_706posts.xml',\n",
       " '11-08-20s_705posts.xml',\n",
       " '11-08-40s_706posts.xml',\n",
       " '11-08-adults_705posts.xml',\n",
       " '11-08-teens_706posts.xml',\n",
       " '11-09-20s_706posts.xml',\n",
       " '11-09-40s_706posts.xml',\n",
       " '11-09-adults_706posts.xml',\n",
       " '11-09-teens_706posts.xml']"
      ]
     },
     "execution_count": 2,
     "metadata": {},
     "output_type": "execute_result"
    }
   ],
   "source": [
    "print(\"The following files are in package nps_chat\")\n",
    "allFile = nltk.corpus.nps_chat.fileids()\n",
    "allFile"
   ]
  },
  {
   "cell_type": "code",
   "execution_count": 3,
   "metadata": {
    "collapsed": false
   },
   "outputs": [
    {
     "name": "stdout",
     "output_type": "stream",
     "text": [
      "User121 has posted 2963 posts\n"
     ]
    }
   ],
   "source": [
    "from nltk.corpus import nps_chat as nps\n",
    "user121Count = 0\n",
    "\n",
    "for files in allFile:\n",
    "    for posts in files:\n",
    "        posts = nps.xml_posts(files)\n",
    "        for post in posts:\n",
    "            user = post.get('user')\n",
    "            if ('User121' in user):\n",
    "                user121Count = user121Count + 1\n",
    "print(\"User121 has posted\",user121Count,\"posts\")"
   ]
  },
  {
   "cell_type": "markdown",
   "metadata": {
    "collapsed": true
   },
   "source": [
    "## Find out how many unique user in each age range group. (20s, 30s,...)(Hint: files' name)"
   ]
  },
  {
   "cell_type": "code",
   "execution_count": 4,
   "metadata": {
    "collapsed": false
   },
   "outputs": [
    {
     "name": "stdout",
     "output_type": "stream",
     "text": [
      "There are 126 unique users in '20s' group\n",
      "There are 44 unique users in '30s' group\n",
      "There are 50 unique users in '40s' group\n",
      "There are 99 unique users in 'adults' group\n",
      "There are 168 unique users in 'teens' group\n"
     ]
    }
   ],
   "source": [
    "for files in allFile:    \n",
    "    if('20s' in files):\n",
    "        dic1 = {}\n",
    "        count = 1\n",
    "        for posts in files:\n",
    "            posts = nps.xml_posts(files)\n",
    "            for post in posts:\n",
    "                user = post.get('user')[-6:]\n",
    "                if (user in dic1): \n",
    "                    count = count + 1\n",
    "                    dic1[user] =  dic1[user]\n",
    "                else: dic1[user] = count\n",
    "    elif('30s' in files):\n",
    "        dic2 = {}\n",
    "        for posts in files:\n",
    "            posts = nps.xml_posts(files)\n",
    "            for post in posts:\n",
    "                user = post.get('user')[-6:]\n",
    "                if (user in dic2): \n",
    "                    dic2[user] =  dic2[user] + 1\n",
    "                else: dic2[user] = 1    \n",
    "    elif('40s' in files):\n",
    "        dic3 = {}\n",
    "        for posts in files:\n",
    "            posts = nps.xml_posts(files)\n",
    "            for post in posts:\n",
    "                user = post.get('user')[-6:]\n",
    "                if (user in dic3): \n",
    "                    dic3[user] = dic3[user] + 1\n",
    "                else: dic3[user] = 1\n",
    "    elif('adults' in files):\n",
    "        dic4 = {}\n",
    "        count = 1\n",
    "        for posts in files:\n",
    "            posts = nps.xml_posts(files)\n",
    "            for post in posts:\n",
    "                user = post.get('user')[-6:]\n",
    "                if (user in dic4): \n",
    "                    count = count + 1\n",
    "                    dic4[user] = count\n",
    "                else: dic4[user] = count\n",
    "    elif('teens' in files):\n",
    "        dic5 = {}\n",
    "        count = 1\n",
    "        for posts in files:\n",
    "            posts = nps.xml_posts(files)\n",
    "            for post in posts:\n",
    "                user = post.get('user')[-6:]\n",
    "                if (user in dic5): \n",
    "                    count = count + 1\n",
    "                    dic5[user] = count\n",
    "                else: dic5[user] = count    \n",
    "                    \n",
    "print(\"There are\",len(dic1),\"unique users in '20s' group\")\n",
    "print(\"There are\",len(dic2),\"unique users in '30s' group\")\n",
    "print(\"There are\",len(dic3),\"unique users in '40s' group\")   \n",
    "print(\"There are\",len(dic4),\"unique users in 'adults' group\")\n",
    "print(\"There are\",len(dic5),\"unique users in 'teens' group\") "
   ]
  },
  {
   "cell_type": "code",
   "execution_count": null,
   "metadata": {
    "collapsed": true
   },
   "outputs": [],
   "source": []
  }
 ],
 "metadata": {
  "anaconda-cloud": {},
  "kernelspec": {
   "display_name": "Python [conda root]",
   "language": "python",
   "name": "conda-root-py"
  },
  "language_info": {
   "codemirror_mode": {
    "name": "ipython",
    "version": 3
   },
   "file_extension": ".py",
   "mimetype": "text/x-python",
   "name": "python",
   "nbconvert_exporter": "python",
   "pygments_lexer": "ipython3",
   "version": "3.5.2"
  }
 },
 "nbformat": 4,
 "nbformat_minor": 1
}
