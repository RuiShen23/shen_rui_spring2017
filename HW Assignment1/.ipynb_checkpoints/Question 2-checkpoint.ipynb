{
 "cells": [
  {
   "cell_type": "code",
   "execution_count": 1,
   "metadata": {
    "collapsed": true
   },
   "outputs": [],
   "source": [
    "import nltk"
   ]
  },
  {
   "cell_type": "markdown",
   "metadata": {},
   "source": [
    "# Question 2"
   ]
  },
  {
   "cell_type": "markdown",
   "metadata": {},
   "source": [
    "## Under package Gutenberg get content from file 'melville-moby_dick.txt.' (HINT: Words? Raw?)\n"
   ]
  },
  {
   "cell_type": "code",
   "execution_count": 2,
   "metadata": {
    "collapsed": false
   },
   "outputs": [
    {
     "name": "stdout",
     "output_type": "stream",
     "text": [
      "Please read melville-moby_dick: \n",
      "[Moby Dick\n"
     ]
    }
   ],
   "source": [
    "print(\"Please read melville-moby_dick: \")\n",
    "raw = nltk.corpus.gutenberg.raw('melville-moby_dick.txt')\n",
    "print (raw[:10]) # Please remove [:10] when grading"
   ]
  },
  {
   "cell_type": "markdown",
   "metadata": {},
   "source": [
    "## Find out frequency of 26 characters. (Turn uppercase into lowercase and count as one character)"
   ]
  },
  {
   "cell_type": "markdown",
   "metadata": {},
   "source": [
    "_**Method 1 (Before Class)**_"
   ]
  },
  {
   "cell_type": "code",
   "execution_count": 3,
   "metadata": {
    "collapsed": false
   },
   "outputs": [
    {
     "name": "stdout",
     "output_type": "stream",
     "text": [
      "Here's the frequency of 26 characters\n",
      "a 77916\n",
      "b 16877\n",
      "c 22507\n",
      "d 38219\n",
      "e 117092\n",
      "f 20833\n",
      "g 20820\n",
      "h 62896\n",
      "i 65434\n",
      "j 1082\n",
      "k 8059\n",
      "l 42793\n",
      "m 23277\n",
      "n 65617\n",
      "o 69326\n",
      "p 17255\n",
      "q 1556\n",
      "r 52134\n",
      "s 64231\n",
      "t 87996\n",
      "u 26697\n",
      "v 8598\n",
      "w 22222\n",
      "x 1030\n",
      "y 16872\n",
      "z 632\n"
     ]
    }
   ],
   "source": [
    "print(\"Here's the frequency of 26 characters\")\n",
    "charCount = {}\n",
    "letterCount = {}\n",
    "for x in raw:\n",
    "    if (x.lower() in charCount):\n",
    "        charCount[x.lower()]=charCount[x.lower()]+1\n",
    "    else:\n",
    "        charCount[x.lower()]=1\n",
    "for y in charCount.keys():\n",
    "    if y in map(chr, range(97, 123)):\n",
    "        letterCount[y] = charCount[y]\n",
    "for key in sorted(letterCount):\n",
    "    print(key, letterCount[key])"
   ]
  },
  {
   "cell_type": "markdown",
   "metadata": {},
   "source": [
    "## List all 26 characters in order base on their frequency. (From most frequent to least frequent)"
   ]
  },
  {
   "cell_type": "markdown",
   "metadata": {},
   "source": [
    "_**Method 1 (Before Class)**_"
   ]
  },
  {
   "cell_type": "code",
   "execution_count": 4,
   "metadata": {
    "collapsed": false
   },
   "outputs": [
    {
     "name": "stdout",
     "output_type": "stream",
     "text": [
      "e 117092\n",
      "t 87996\n",
      "a 77916\n",
      "o 69326\n",
      "n 65617\n",
      "i 65434\n",
      "s 64231\n",
      "h 62896\n",
      "r 52134\n",
      "l 42793\n",
      "d 38219\n",
      "u 26697\n",
      "m 23277\n",
      "c 22507\n",
      "w 22222\n",
      "f 20833\n",
      "g 20820\n",
      "p 17255\n",
      "b 16877\n",
      "y 16872\n",
      "v 8598\n",
      "k 8059\n",
      "q 1556\n",
      "j 1082\n",
      "x 1030\n",
      "z 632\n"
     ]
    }
   ],
   "source": [
    "for w in sorted(letterCount, key = letterCount.get, reverse=True):\n",
    "    print (w, letterCount[w])"
   ]
  },
  {
   "cell_type": "markdown",
   "metadata": {
    "collapsed": true
   },
   "source": [
    "_**Method 2 (After Class)**_"
   ]
  },
  {
   "cell_type": "code",
   "execution_count": 5,
   "metadata": {
    "collapsed": false
   },
   "outputs": [
    {
     "name": "stdout",
     "output_type": "stream",
     "text": [
      "[('e', 117092), ('t', 87996), ('a', 77916), ('o', 69326), ('n', 65617), ('i', 65434), ('s', 64231), ('h', 62896), ('r', 52134), ('l', 42793), ('d', 38219), ('u', 26697), ('m', 23277), ('c', 22507), ('w', 22222), ('f', 20833), ('g', 20820), ('p', 17255), ('b', 16877), ('y', 16872), ('v', 8598), ('k', 8059), ('q', 1556), ('j', 1082), ('x', 1030), ('z', 632)]\n"
     ]
    }
   ],
   "source": [
    "from nltk.probability import FreqDist\n",
    "\n",
    "ls = [l.lower() for l in raw if l.lower() in map(chr, range(97, 123))]\n",
    "fd = FreqDist(ls)\n",
    "mfd = fd.most_common(26)\n",
    "print(mfd)"
   ]
  },
  {
   "cell_type": "code",
   "execution_count": 6,
   "metadata": {
    "collapsed": false
   },
   "outputs": [
    {
     "data": {
      "text/plain": [
       "{'a': 77916,\n",
       " 'b': 16877,\n",
       " 'c': 22507,\n",
       " 'd': 38219,\n",
       " 'e': 117092,\n",
       " 'f': 20833,\n",
       " 'g': 20820,\n",
       " 'h': 62896,\n",
       " 'i': 65434,\n",
       " 'j': 1082,\n",
       " 'k': 8059,\n",
       " 'l': 42793,\n",
       " 'm': 23277,\n",
       " 'n': 65617,\n",
       " 'o': 69326,\n",
       " 'p': 17255,\n",
       " 'q': 1556,\n",
       " 'r': 52134,\n",
       " 's': 64231,\n",
       " 't': 87996,\n",
       " 'u': 26697,\n",
       " 'v': 8598,\n",
       " 'w': 22222,\n",
       " 'x': 1030,\n",
       " 'y': 16872,\n",
       " 'z': 632}"
      ]
     },
     "execution_count": 6,
     "metadata": {},
     "output_type": "execute_result"
    }
   ],
   "source": [
    "dict(mfd)"
   ]
  },
  {
   "cell_type": "code",
   "execution_count": null,
   "metadata": {
    "collapsed": true
   },
   "outputs": [],
   "source": []
  }
 ],
 "metadata": {
  "anaconda-cloud": {},
  "kernelspec": {
   "display_name": "Python [conda root]",
   "language": "python",
   "name": "conda-root-py"
  },
  "language_info": {
   "codemirror_mode": {
    "name": "ipython",
    "version": 3
   },
   "file_extension": ".py",
   "mimetype": "text/x-python",
   "name": "python",
   "nbconvert_exporter": "python",
   "pygments_lexer": "ipython3",
   "version": "3.5.2"
  }
 },
 "nbformat": 4,
 "nbformat_minor": 1
}
