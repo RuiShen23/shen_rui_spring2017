{
 "cells": [
  {
   "cell_type": "code",
   "execution_count": 1,
   "metadata": {
    "collapsed": true
   },
   "outputs": [],
   "source": [
    "import nltk;"
   ]
  },
  {
   "cell_type": "markdown",
   "metadata": {},
   "source": [
    "# Question 3"
   ]
  },
  {
   "cell_type": "markdown",
   "metadata": {},
   "source": [
    "## Under package Webtext, see what files are in it."
   ]
  },
  {
   "cell_type": "code",
   "execution_count": 2,
   "metadata": {
    "collapsed": false
   },
   "outputs": [
    {
     "name": "stdout",
     "output_type": "stream",
     "text": [
      "Package Webtext contains following files:\n"
     ]
    },
    {
     "data": {
      "text/plain": [
       "['firefox.txt',\n",
       " 'grail.txt',\n",
       " 'overheard.txt',\n",
       " 'pirates.txt',\n",
       " 'singles.txt',\n",
       " 'wine.txt']"
      ]
     },
     "execution_count": 2,
     "metadata": {},
     "output_type": "execute_result"
    }
   ],
   "source": [
    "print(\"Package Webtext contains following files:\")\n",
    "nltk.corpus.webtext.fileids()"
   ]
  },
  {
   "cell_type": "markdown",
   "metadata": {},
   "source": [
    "## Get content in file 'pirates.txt'."
   ]
  },
  {
   "cell_type": "code",
   "execution_count": 3,
   "metadata": {
    "collapsed": false
   },
   "outputs": [
    {
     "name": "stdout",
     "output_type": "stream",
     "text": [
      "Please read 'pirates.txt'\n",
      "PIRATES OF\n"
     ]
    }
   ],
   "source": [
    "print(\"Please read 'pirates.txt'\")\n",
    "raw = nltk.corpus.webtext.raw('pirates.txt')\n",
    "print(raw[:10]) #please remove[:10] while grading"
   ]
  },
  {
   "cell_type": "markdown",
   "metadata": {},
   "source": [
    "## According to the number of lines for Jack Sparrow and Will Turner, find out who is the real leading man in this movie"
   ]
  },
  {
   "cell_type": "code",
   "execution_count": 4,
   "metadata": {
    "collapsed": false
   },
   "outputs": [
    {
     "name": "stdout",
     "output_type": "stream",
     "text": [
      "Jack is the real leading man in this movie\n"
     ]
    }
   ],
   "source": [
    "sents = nltk.corpus.webtext.sents('pirates.txt')\n",
    "jackCount = 0\n",
    "willCount = 0\n",
    "for s in sents:\n",
    "    if (s[0]=='JACK' and s[1]=='SPARROW' and s[2]==':'):\n",
    "        jackCount = jackCount + 1\n",
    "    elif (s[0]=='WILL' and s[1]=='TURNER' and s[2]==':'):\n",
    "        willCount = willCount + 1  \n",
    "\n",
    "if (jackCount>willCount):\n",
    "    print (\"Jack is the real leading man in this movie\")\n",
    "elif (jackCount<willCount):\n",
    "    print (\"Will is the real leading man in this movie\")\n",
    "else:\n",
    "    print (\"They speak same lines\")"
   ]
  },
  {
   "cell_type": "code",
   "execution_count": null,
   "metadata": {
    "collapsed": true
   },
   "outputs": [],
   "source": []
  }
 ],
 "metadata": {
  "anaconda-cloud": {},
  "kernelspec": {
   "display_name": "Python [conda root]",
   "language": "python",
   "name": "conda-root-py"
  },
  "language_info": {
   "codemirror_mode": {
    "name": "ipython",
    "version": 3
   },
   "file_extension": ".py",
   "mimetype": "text/x-python",
   "name": "python",
   "nbconvert_exporter": "python",
   "pygments_lexer": "ipython3",
   "version": "3.5.2"
  }
 },
 "nbformat": 4,
 "nbformat_minor": 1
}
