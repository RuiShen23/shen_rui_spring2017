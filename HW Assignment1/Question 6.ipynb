{
 "cells": [
  {
   "cell_type": "code",
   "execution_count": 1,
   "metadata": {
    "collapsed": true
   },
   "outputs": [],
   "source": [
    "import nltk"
   ]
  },
  {
   "cell_type": "markdown",
   "metadata": {},
   "source": [
    "# Question 6"
   ]
  },
  {
   "cell_type": "markdown",
   "metadata": {},
   "source": [
    "## For every president, find out how many unique words they used in speech. "
   ]
  },
  {
   "cell_type": "markdown",
   "metadata": {},
   "source": [
    "* Under Inaugural Address package\n",
    "* We will just assume that President Bush means one person (technically it is incorrect but we will ignore it)"
   ]
  },
  {
   "cell_type": "code",
   "execution_count": 2,
   "metadata": {
    "collapsed": false
   },
   "outputs": [],
   "source": [
    "from nltk.corpus import inaugural as ina\n",
    "import string"
   ]
  },
  {
   "cell_type": "code",
   "execution_count": 3,
   "metadata": {
    "collapsed": false
   },
   "outputs": [
    {
     "name": "stdout",
     "output_type": "stream",
     "text": [
      "All files in this package\n",
      "['1789-Washington.txt', '1793-Washington.txt', '1797-Adams.txt', '1801-Jefferson.txt', '1805-Jefferson.txt', '1809-Madison.txt', '1813-Madison.txt', '1817-Monroe.txt', '1821-Monroe.txt', '1825-Adams.txt', '1829-Jackson.txt', '1833-Jackson.txt', '1837-VanBuren.txt', '1841-Harrison.txt', '1845-Polk.txt', '1849-Taylor.txt', '1853-Pierce.txt', '1857-Buchanan.txt', '1861-Lincoln.txt', '1865-Lincoln.txt', '1869-Grant.txt', '1873-Grant.txt', '1877-Hayes.txt', '1881-Garfield.txt', '1885-Cleveland.txt', '1889-Harrison.txt', '1893-Cleveland.txt', '1897-McKinley.txt', '1901-McKinley.txt', '1905-Roosevelt.txt', '1909-Taft.txt', '1913-Wilson.txt', '1917-Wilson.txt', '1921-Harding.txt', '1925-Coolidge.txt', '1929-Hoover.txt', '1933-Roosevelt.txt', '1937-Roosevelt.txt', '1941-Roosevelt.txt', '1945-Roosevelt.txt', '1949-Truman.txt', '1953-Eisenhower.txt', '1957-Eisenhower.txt', '1961-Kennedy.txt', '1965-Johnson.txt', '1969-Nixon.txt', '1973-Nixon.txt', '1977-Carter.txt', '1981-Reagan.txt', '1985-Reagan.txt', '1989-Bush.txt', '1993-Clinton.txt', '1997-Clinton.txt', '2001-Bush.txt', '2005-Bush.txt', '2009-Obama.txt']\n"
     ]
    }
   ],
   "source": [
    "allsp = ina.fileids()\n",
    "print(\"All files in this package\")\n",
    "print(allsp)"
   ]
  },
  {
   "cell_type": "code",
   "execution_count": 4,
   "metadata": {
    "collapsed": false
   },
   "outputs": [
    {
     "name": "stdout",
     "output_type": "stream",
     "text": [
      "All presidents names\n",
      "['Harding', 'Clinton', 'VanBuren', 'Kennedy', 'Reagan', 'Harrison', 'Eisenhower', 'Cleveland', 'Madison', 'Obama', 'Jefferson', 'Taylor', 'Bush', 'Hayes', 'Nixon', 'Johnson', 'Carter', 'Monroe', 'Polk', 'Pierce', 'McKinley', 'Washington', 'Grant', 'Garfield', 'Lincoln', 'Buchanan', 'Hoover', 'Taft', 'Coolidge', 'Wilson', 'Truman', 'Adams', 'Jackson', 'Roosevelt']\n"
     ]
    }
   ],
   "source": [
    "all_presidents = ina.fileids()\n",
    "\n",
    "clean_names = []\n",
    "for name in all_presidents:\n",
    "    clean_name = name[5:-4]\n",
    "    clean_names.append(clean_name)\n",
    "unique_names = list(set(clean_names))\n",
    "print (\"All presidents names\")\n",
    "print(unique_names)"
   ]
  },
  {
   "cell_type": "code",
   "execution_count": 5,
   "metadata": {
    "collapsed": false
   },
   "outputs": [
    {
     "name": "stdout",
     "output_type": "stream",
     "text": [
      "President Harding said 1119 unique words in his speeches\n",
      "President Clinton said 1058 unique words in his speeches\n",
      "President VanBuren said 1254 unique words in his speeches\n",
      "President Kennedy said 538 unique words in his speeches\n",
      "President Reagan said 1369 unique words in his speeches\n",
      "President Harrison said 2545 unique words in his speeches\n",
      "President Eisenhower said 1184 unique words in his speeches\n",
      "President Cleveland said 1168 unique words in his speeches\n",
      "President Madison said 865 unique words in his speeches\n",
      "President Obama said 892 unique words in his speeches\n",
      "President Jefferson said 1208 unique words in his speeches\n",
      "President Taylor said 483 unique words in his speeches\n",
      "President Bush said 1481 unique words in his speeches\n",
      "President Hayes said 803 unique words in his speeches\n",
      "President Nixon said 982 unique words in his speeches\n",
      "President Johnson said 530 unique words in his speeches\n",
      "President Carter said 495 unique words in his speeches\n",
      "President Monroe said 1688 unique words in his speeches\n",
      "President Polk said 1260 unique words in his speeches\n",
      "President Pierce said 1117 unique words in his speeches\n",
      "President McKinley said 1606 unique words in his speeches\n",
      "President Washington said 628 unique words in his speeches\n",
      "President Grant said 815 unique words in his speeches\n",
      "President Garfield said 973 unique words in his speeches\n",
      "President Lincoln said 1180 unique words in his speeches\n",
      "President Buchanan said 893 unique words in his speeches\n",
      "President Hoover said 993 unique words in his speeches\n",
      "President Taft said 1378 unique words in his speeches\n",
      "President Coolidge said 1160 unique words in his speeches\n",
      "President Wilson said 950 unique words in his speeches\n",
      "President Truman said 741 unique words in his speeches\n",
      "President Adams said 1441 unique words in his speeches\n",
      "President Jackson said 810 unique words in his speeches\n",
      "President Roosevelt said 1607 unique words in his speeches\n"
     ]
    }
   ],
   "source": [
    "for name in unique_names:\n",
    "    dic = {}\n",
    "    for speech in allsp:\n",
    "        if (name in speech):\n",
    "            words = ina.words(speech)\n",
    "            clean_words = [x.lower() for x in words]\n",
    "            cleanWords = list(filter(lambda x: x not in string.punctuation, clean_words))\n",
    "            for word in cleanWords:\n",
    "                if word in dic: dic[word]=dic[word]+1\n",
    "                else: dic[word] = 1\n",
    "    print(\"President\",name, \"said\",len(dic),\"unique words in his speeches\")"
   ]
  },
  {
   "cell_type": "code",
   "execution_count": null,
   "metadata": {
    "collapsed": true
   },
   "outputs": [],
   "source": []
  }
 ],
 "metadata": {
  "anaconda-cloud": {},
  "kernelspec": {
   "display_name": "Python [conda root]",
   "language": "python",
   "name": "conda-root-py"
  },
  "language_info": {
   "codemirror_mode": {
    "name": "ipython",
    "version": 3
   },
   "file_extension": ".py",
   "mimetype": "text/x-python",
   "name": "python",
   "nbconvert_exporter": "python",
   "pygments_lexer": "ipython3",
   "version": "3.5.2"
  }
 },
 "nbformat": 4,
 "nbformat_minor": 1
}
