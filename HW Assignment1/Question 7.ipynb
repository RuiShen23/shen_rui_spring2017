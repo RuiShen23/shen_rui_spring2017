{
 "cells": [
  {
   "cell_type": "code",
   "execution_count": 1,
   "metadata": {
    "collapsed": true
   },
   "outputs": [],
   "source": [
    "import nltk"
   ]
  },
  {
   "cell_type": "markdown",
   "metadata": {},
   "source": [
    "# Question 7"
   ]
  },
  {
   "cell_type": "markdown",
   "metadata": {},
   "source": [
    "## Use Name corpus, calculate the probability of a name being of a male or female base on the last character(s) of name."
   ]
  },
  {
   "cell_type": "code",
   "execution_count": 2,
   "metadata": {
    "collapsed": false
   },
   "outputs": [],
   "source": [
    "from nltk.corpus import names as n\n",
    "import string"
   ]
  },
  {
   "cell_type": "code",
   "execution_count": 3,
   "metadata": {
    "collapsed": false
   },
   "outputs": [],
   "source": [
    "ns = n.fileids()"
   ]
  },
  {
   "cell_type": "code",
   "execution_count": 4,
   "metadata": {
    "collapsed": false
   },
   "outputs": [
    {
     "name": "stdout",
     "output_type": "stream",
     "text": [
      "[ a ] male: 1.6% female: 98.4%\n",
      "[ b ] male: 70.0% female: 30.0%\n",
      "[ c ] male: 100.0% female: 0.0%\n",
      "[ d ] male: 85.4% female: 14.6%\n",
      "[ e ] male: 24.6% female: 75.4%\n",
      "[ f ] male: 92.6% female: 7.4%\n",
      "[ g ] male: 76.2% female: 23.8%\n",
      "[ h ] male: 47.0% female: 53.0%\n",
      "[ i ] male: 13.6% female: 86.4%\n",
      "[ j ] male: 75.0% female: 25.0%\n",
      "[ k ] male: 95.8% female: 4.2%\n",
      "[ l ] male: 51.1% female: 48.9%\n",
      "[ m ] male: 84.3% female: 15.7%\n",
      "[ n ] male: 55.3% female: 44.7%\n",
      "[ o ] male: 83.3% female: 16.7%\n",
      "[ p ] male: 90.0% female: 10.0%\n",
      "[ q ] male: 0.0% female: 0.0%\n",
      "[ r ] male: 80.2% female: 19.8%\n",
      "[ s ] male: 71.2% female: 28.8%\n",
      "[ t ] male: 70.7% female: 29.3%\n",
      "[ u ] male: 66.7% female: 33.3%\n",
      "[ v ] male: 88.9% female: 11.1%\n",
      "[ w ] male: 77.3% female: 22.7%\n",
      "[ x ] male: 50.0% female: 50.0%\n",
      "[ y ] male: 41.9% female: 58.1%\n",
      "[ z ] male: 73.3% female: 26.7%\n"
     ]
    }
   ],
   "source": [
    "for x in map(chr, range(97, 123)):\n",
    "    nameDic = {'female':[],'male':[]}\n",
    "    for f in ns:\n",
    "        for name in n.words(f):\n",
    "            if (name.endswith(x)):\n",
    "                if (name not in nameDic[f[0:-4]]): nameDic[f[0:-4]].append(name)\n",
    "    \n",
    "    if (len(nameDic['female']) == 0 and len(nameDic['male']) != 0): \n",
    "        maleP=1\n",
    "        femaleP=0\n",
    "    elif (len(nameDic['male']) == 0 and len(nameDic['female']) != 0): \n",
    "        femaleP=1\n",
    "        maleP=0\n",
    "    elif (len(nameDic['male']) == 0 and len(nameDic['female']) == 0):\n",
    "        maleP=0\n",
    "        femaleP=0\n",
    "    else:\n",
    "        maleP = len(nameDic['male'])/(len(nameDic['female'])+len(nameDic['male']))\n",
    "        femaleP =  len(nameDic['female'])/(len(nameDic['female'])+len(nameDic['male']))\n",
    "\n",
    "    print(\"[\",x,\"]\",\"male:\",'{:.1%}'.format(maleP),\"female:\", '{:.1%}'.format(femaleP))"
   ]
  },
  {
   "cell_type": "code",
   "execution_count": null,
   "metadata": {
    "collapsed": true
   },
   "outputs": [],
   "source": []
  }
 ],
 "metadata": {
  "anaconda-cloud": {},
  "kernelspec": {
   "display_name": "Python [conda root]",
   "language": "python",
   "name": "conda-root-py"
  },
  "language_info": {
   "codemirror_mode": {
    "name": "ipython",
    "version": 3
   },
   "file_extension": ".py",
   "mimetype": "text/x-python",
   "name": "python",
   "nbconvert_exporter": "python",
   "pygments_lexer": "ipython3",
   "version": "3.5.2"
  }
 },
 "nbformat": 4,
 "nbformat_minor": 1
}
