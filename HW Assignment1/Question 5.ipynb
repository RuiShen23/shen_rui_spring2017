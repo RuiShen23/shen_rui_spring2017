{
 "cells": [
  {
   "cell_type": "code",
   "execution_count": 1,
   "metadata": {
    "collapsed": true
   },
   "outputs": [],
   "source": [
    "import nltk"
   ]
  },
  {
   "cell_type": "markdown",
   "metadata": {},
   "source": [
    "# Question 5"
   ]
  },
  {
   "cell_type": "markdown",
   "metadata": {},
   "source": [
    "## Use Gutenberg and Web_text data. Find out what are the top 5 words that Shakespeare used but we do not use in currently."
   ]
  },
  {
   "cell_type": "markdown",
   "metadata": {},
   "source": [
    "## Take top 50 words from Shakespeare (all 3 books) and top 50 from Web_text (all the records)."
   ]
  },
  {
   "cell_type": "markdown",
   "metadata": {},
   "source": [
    "* Remove punctuation and stop words.\n",
    "* Remove the words we still use today, and get the unused list. Show the top 5 elements. "
   ]
  },
  {
   "cell_type": "code",
   "execution_count": 2,
   "metadata": {
    "collapsed": false
   },
   "outputs": [],
   "source": [
    "from nltk.corpus import gutenberg as gut\n",
    "from nltk.corpus import webtext as web\n",
    "from nltk.corpus import stopwords as st\n",
    "from nltk import FreqDist\n",
    "import string"
   ]
  },
  {
   "cell_type": "code",
   "execution_count": 3,
   "metadata": {
    "collapsed": true
   },
   "outputs": [],
   "source": [
    "stopWords = set(st.words(\"english\"))"
   ]
  },
  {
   "cell_type": "code",
   "execution_count": 4,
   "metadata": {
    "collapsed": false
   },
   "outputs": [
    {
     "name": "stdout",
     "output_type": "stream",
     "text": [
      "The top 50 words from Shakespeare are:\n",
      "['haue', 'ham', 'thou', 'shall', 'lord', 'come', 'king', 'enter', 'good', 'let', 'thy', 'caesar', 'vs', 'know', 'thee', 'would', 'like', 'brutus', 'vpon', 'bru', 'well', 'hath', 'selfe', 'man', 'may', 'macb', 'yet', 'heere', 'must', 'say', 'tis', 'th', 'make', 'speake', 'loue', 'giue', 'see', 'time', 'night', 'sir', 'one', 'st', 'cassi', 'ile', 'doe', 'hamlet', 'go', 'men', 'hor', 'vp']\n"
     ]
    }
   ],
   "source": [
    "shaDic = {}\n",
    "shaBooks = [file for file in gut.fileids() if file.startswith('shakespeare')]\n",
    "for file in shaBooks:\n",
    "    lwords = [word.lower() for word in gut.words(file)]\n",
    "    rePuncWords = list(filter(lambda x: x.isalpha(), lwords))\n",
    "    cleanWords = list(filter(lambda x: x not in stopWords, rePuncWords))\n",
    "    for word in cleanWords:\n",
    "        if (word in shaDic): shaDic[word] = shaDic[word] + 1\n",
    "        else: shaDic[word] = 1\n",
    "\n",
    "shaList = sorted(shaDic, key=shaDic.get, reverse=True)\n",
    "\n",
    "print(\"The top 50 words from Shakespeare are:\")\n",
    "print(shaList[:50])"
   ]
  },
  {
   "cell_type": "code",
   "execution_count": 5,
   "metadata": {
    "collapsed": false
   },
   "outputs": [
    {
     "name": "stdout",
     "output_type": "stream",
     "text": [
      "The top 50 words from web_text are:\n",
      "['girl', 'guy', 'like', 'man', 'know', 'woman', 'yeah', 'page', 'firefox', 'get', 'new', 'chick', 'one', 'oh', 'open', 'window', 'good', 'bookmarks', 'teen', 'well', 'firebird', 'cell', 'right', 'go', 'work', 'bar', 'menu', 'tab', 'lady', 'toolbar', 'boy', 'want', 'think', 'browser', 'jack', 'bookmark', 'old', 'really', 'going', 'download', 'url', 'back', 'time', 'black', 'manager', 'little', 'got', 'crash', 'would', 'button']\n"
     ]
    }
   ],
   "source": [
    "webDic = {}\n",
    "for file in web.fileids():\n",
    "    lwords = [word.lower() for word in web.words(file)]\n",
    "    rePuncWords = list(filter(lambda x: x.isalpha(), lwords))\n",
    "    cleanWords = list(filter(lambda x: x not in stopWords, rePuncWords))\n",
    "    for word in cleanWords:\n",
    "        if (word in webDic): webDic[word] = webDic[word] + 1\n",
    "        else: webDic[word] = 1\n",
    "\n",
    "print(\"The top 50 words from web_text are:\")\n",
    "webList = sorted(webDic, key=webDic.get, reverse=True)\n",
    "print(webList[:50])"
   ]
  },
  {
   "cell_type": "code",
   "execution_count": 6,
   "metadata": {
    "collapsed": false
   },
   "outputs": [
    {
     "name": "stdout",
     "output_type": "stream",
     "text": [
      "The top 5 words that Shakespare used but we don't used are:\n",
      "['haue', 'brutus', 'vpon', 'bru', 'hath']\n"
     ]
    }
   ],
   "source": [
    "print(\"The top 5 words that Shakespare used but we don't used are:\")\n",
    "oldWords = [word for word in shaList if word not in webList]\n",
    "print(oldWords[:5])"
   ]
  },
  {
   "cell_type": "code",
   "execution_count": null,
   "metadata": {
    "collapsed": false
   },
   "outputs": [],
   "source": []
  },
  {
   "cell_type": "code",
   "execution_count": null,
   "metadata": {
    "collapsed": false,
    "scrolled": false
   },
   "outputs": [],
   "source": []
  },
  {
   "cell_type": "code",
   "execution_count": null,
   "metadata": {
    "collapsed": true
   },
   "outputs": [],
   "source": []
  }
 ],
 "metadata": {
  "anaconda-cloud": {},
  "kernelspec": {
   "display_name": "Python [conda root]",
   "language": "python",
   "name": "conda-root-py"
  },
  "language_info": {
   "codemirror_mode": {
    "name": "ipython",
    "version": 3
   },
   "file_extension": ".py",
   "mimetype": "text/x-python",
   "name": "python",
   "nbconvert_exporter": "python",
   "pygments_lexer": "ipython3",
   "version": "3.5.2"
  }
 },
 "nbformat": 4,
 "nbformat_minor": 1
}
