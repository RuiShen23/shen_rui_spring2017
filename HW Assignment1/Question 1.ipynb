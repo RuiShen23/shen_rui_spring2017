{
 "cells": [
  {
   "cell_type": "code",
   "execution_count": 1,
   "metadata": {
    "collapsed": true
   },
   "outputs": [],
   "source": [
    "import nltk;"
   ]
  },
  {
   "cell_type": "markdown",
   "metadata": {},
   "source": [
    "# Question 1"
   ]
  },
  {
   "cell_type": "markdown",
   "metadata": {},
   "source": [
    "## Under package Gutenberg, see what files are in it."
   ]
  },
  {
   "cell_type": "code",
   "execution_count": 2,
   "metadata": {
    "collapsed": false
   },
   "outputs": [
    {
     "name": "stdout",
     "output_type": "stream",
     "text": [
      "package Gutenberg contains following files:\n"
     ]
    },
    {
     "data": {
      "text/plain": [
       "['austen-emma.txt',\n",
       " 'austen-persuasion.txt',\n",
       " 'austen-sense.txt',\n",
       " 'bible-kjv.txt',\n",
       " 'blake-poems.txt',\n",
       " 'bryant-stories.txt',\n",
       " 'burgess-busterbrown.txt',\n",
       " 'carroll-alice.txt',\n",
       " 'chesterton-ball.txt',\n",
       " 'chesterton-brown.txt',\n",
       " 'chesterton-thursday.txt',\n",
       " 'edgeworth-parents.txt',\n",
       " 'melville-moby_dick.txt',\n",
       " 'milton-paradise.txt',\n",
       " 'shakespeare-caesar.txt',\n",
       " 'shakespeare-hamlet.txt',\n",
       " 'shakespeare-macbeth.txt',\n",
       " 'whitman-leaves.txt']"
      ]
     },
     "execution_count": 2,
     "metadata": {},
     "output_type": "execute_result"
    }
   ],
   "source": [
    "print(\"package Gutenberg contains following files:\")\n",
    "nltk.corpus.gutenberg.fileids()"
   ]
  },
  {
   "cell_type": "markdown",
   "metadata": {},
   "source": [
    "## Find out how many words and how many unique words in file 'austen-persuasion.txt'."
   ]
  },
  {
   "cell_type": "code",
   "execution_count": 3,
   "metadata": {
    "collapsed": false
   },
   "outputs": [
    {
     "name": "stdout",
     "output_type": "stream",
     "text": [
      "There are 98171 words in file 'austen-persuasion.txt'\n"
     ]
    }
   ],
   "source": [
    "words = nltk.corpus.gutenberg.words('austen-persuasion.txt')\n",
    "\n",
    "print(\"There are\",len(words),  \"words in file 'austen-persuasion.txt'\")"
   ]
  },
  {
   "cell_type": "markdown",
   "metadata": {},
   "source": [
    "_**Method 1 (before class)**_"
   ]
  },
  {
   "cell_type": "code",
   "execution_count": 4,
   "metadata": {
    "collapsed": false
   },
   "outputs": [
    {
     "name": "stdout",
     "output_type": "stream",
     "text": [
      "There are 5835 unique words in file 'austen-persuasion.txt'\n"
     ]
    }
   ],
   "source": [
    "uniqueWords = {}\n",
    "\n",
    "lwords = [x.lower() for x in words]\n",
    "for y in lwords:\n",
    "    if (y in uniqueWords):\n",
    "        uniqueWords[y] = uniqueWords[y] + 1\n",
    "    else:\n",
    "        uniqueWords[y] = 1\n",
    "print(\"There are\",len(uniqueWords),\"unique words in file 'austen-persuasion.txt'\")"
   ]
  },
  {
   "cell_type": "markdown",
   "metadata": {},
   "source": [
    "_**Method 1 (after class)**_"
   ]
  },
  {
   "cell_type": "code",
   "execution_count": 5,
   "metadata": {
    "collapsed": false
   },
   "outputs": [
    {
     "name": "stdout",
     "output_type": "stream",
     "text": [
      "There are 5835 unique words in file 'austen-persuasion.txt'\n"
     ]
    }
   ],
   "source": [
    "count = len(set([word.lower() for word in words]))\n",
    "print(\"There are\",count,\"unique words in file 'austen-persuasion.txt'\")"
   ]
  },
  {
   "cell_type": "markdown",
   "metadata": {},
   "source": [
    "## Calculate the frequency for each words and show the top 10 most frequent words and their frequency.Try NOT to use FreqDist module.\n"
   ]
  },
  {
   "cell_type": "markdown",
   "metadata": {},
   "source": [
    "_**NO FreqDist**_"
   ]
  },
  {
   "cell_type": "code",
   "execution_count": 6,
   "metadata": {
    "collapsed": false
   },
   "outputs": [
    {
     "name": "stdout",
     "output_type": "stream",
     "text": [
      "Top 10 most frequent words and their frequency are:\n",
      "[[',', 6750], ['the', 3329], ['to', 2808], ['and', 2801], ['.', 2741], ['of', 2570], ['a', 1595], ['in', 1389], ['was', 1337], [';', 1290]]\n"
     ]
    }
   ],
   "source": [
    "print(\"Top 10 most frequent words and their frequency are:\")\n",
    "\n",
    "topTenWords = []\n",
    "for w in sorted(uniqueWords, key=uniqueWords.get, reverse=True):\n",
    "    topTenWords.append([w, uniqueWords[w]]);\n",
    "print (topTenWords[:10])\n",
    "    "
   ]
  },
  {
   "cell_type": "markdown",
   "metadata": {},
   "source": [
    "_**using FreqDist**_"
   ]
  },
  {
   "cell_type": "code",
   "execution_count": 7,
   "metadata": {
    "collapsed": false
   },
   "outputs": [
    {
     "name": "stdout",
     "output_type": "stream",
     "text": [
      "[(',', 6750), ('the', 3329), ('to', 2808), ('and', 2801), ('.', 2741), ('of', 2570), ('a', 1595), ('in', 1389), ('was', 1337), (';', 1290)]\n"
     ]
    }
   ],
   "source": [
    "from nltk import FreqDist\n",
    "uniWords = [x.lower() for x in words]\n",
    "v1 = FreqDist(uniWords).most_common(10)\n",
    "print(v1)"
   ]
  },
  {
   "cell_type": "code",
   "execution_count": null,
   "metadata": {
    "collapsed": true
   },
   "outputs": [],
   "source": []
  }
 ],
 "metadata": {
  "anaconda-cloud": {},
  "kernelspec": {
   "display_name": "Python [conda root]",
   "language": "python",
   "name": "conda-root-py"
  },
  "language_info": {
   "codemirror_mode": {
    "name": "ipython",
    "version": 3
   },
   "file_extension": ".py",
   "mimetype": "text/x-python",
   "name": "python",
   "nbconvert_exporter": "python",
   "pygments_lexer": "ipython3",
   "version": "3.5.2"
  }
 },
 "nbformat": 4,
 "nbformat_minor": 1
}
