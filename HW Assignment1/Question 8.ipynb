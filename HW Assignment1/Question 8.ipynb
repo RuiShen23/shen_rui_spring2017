{
 "cells": [
  {
   "cell_type": "code",
   "execution_count": 1,
   "metadata": {
    "collapsed": true
   },
   "outputs": [],
   "source": [
    "import nltk"
   ]
  },
  {
   "cell_type": "markdown",
   "metadata": {},
   "source": [
    "# Question 8"
   ]
  },
  {
   "cell_type": "markdown",
   "metadata": {},
   "source": [
    "## Find out how many unusual words people speak in chat (notice: usernames should not be counted)"
   ]
  },
  {
   "cell_type": "markdown",
   "metadata": {},
   "source": [
    "* If you find a word in nps_chat but not in wordlist, it is considered an unusual word. (e.g. Heyyyy, gr8, 4ever can be considered unusual words for this analysis)"
   ]
  },
  {
   "cell_type": "code",
   "execution_count": 2,
   "metadata": {
    "collapsed": false
   },
   "outputs": [],
   "source": [
    "from nltk.corpus import nps_chat as nps\n",
    "from nltk.corpus import words as w"
   ]
  },
  {
   "cell_type": "code",
   "execution_count": 3,
   "metadata": {
    "collapsed": false
   },
   "outputs": [],
   "source": [
    "en = [word.lower() for word in w.words('en')]\n",
    "\n",
    "en_basic = [word.lower() for word in w.words('en-basic')]\n",
    "\n",
    "difference = set([word for word in en_basic if word not in en])\n",
    "\n",
    "combineWordList = [word for word in (difference.union(word for word in en))] # all words in words package, no duplicates"
   ]
  },
  {
   "cell_type": "code",
   "execution_count": 4,
   "metadata": {
    "collapsed": false
   },
   "outputs": [
    {
     "name": "stdout",
     "output_type": "stream",
     "text": [
      "There are about 2095 unusual words in chat\n"
     ]
    }
   ],
   "source": [
    "chatDic = {}\n",
    "for file in nps.fileids():\n",
    "    lwords = [word.lower() for word in nps.words(file)]\n",
    "    rePuncWords = list(filter(lambda x: x.isalpha(), lwords))\n",
    "    for word in rePuncWords:\n",
    "        if (word in chatDic): chatDic[word] = chatDic[word] + 1\n",
    "        else: chatDic[word] = 1\n",
    "\n",
    "unusualWords = [word for word in chatDic if word not in combineWordList]\n",
    "\n",
    "print(\"There are about\", len(unusualWords), \"unusual words in chat\")"
   ]
  },
  {
   "cell_type": "code",
   "execution_count": null,
   "metadata": {
    "collapsed": false
   },
   "outputs": [],
   "source": []
  },
  {
   "cell_type": "code",
   "execution_count": null,
   "metadata": {
    "collapsed": true
   },
   "outputs": [],
   "source": []
  }
 ],
 "metadata": {
  "anaconda-cloud": {},
  "kernelspec": {
   "display_name": "Python [conda root]",
   "language": "python",
   "name": "conda-root-py"
  },
  "language_info": {
   "codemirror_mode": {
    "name": "ipython",
    "version": 3
   },
   "file_extension": ".py",
   "mimetype": "text/x-python",
   "name": "python",
   "nbconvert_exporter": "python",
   "pygments_lexer": "ipython3",
   "version": "3.5.2"
  }
 },
 "nbformat": 4,
 "nbformat_minor": 1
}
