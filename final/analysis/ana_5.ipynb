{
 "cells": [
  {
   "cell_type": "markdown",
   "metadata": {},
   "source": [
    "### Analysis_5\n",
    "If a user likes one movie, recommend five movies that the usesr might also like<br>\n",
    "\n",
    "Steps:<br>\n",
    "Take movieId1 as an example\n",
    "1. Find all users like movieId1 (if a user rates movieId1 >= his/her own average score, then consider him/her as like this movie)\n",
    "2. Given all users from step1, find out all other movies they like\n",
    "3. Based on movie's genre, the times they were liked, tmdb keyword relavance(fetch data from tmdb api), movie average score, calculate a final result"
   ]
  },
  {
   "cell_type": "code",
   "execution_count": 1,
   "metadata": {
    "collapsed": true
   },
   "outputs": [],
   "source": [
    "import os\n",
    "import pandas as pd\n",
    "from pandas import DataFrame as df\n",
    "from datetime import datetime\n",
    "import time\n",
    "from collections import Counter\n",
    "import json\n",
    "import requests"
   ]
  },
  {
   "cell_type": "code",
   "execution_count": 2,
   "metadata": {
    "collapsed": false
   },
   "outputs": [],
   "source": [
    "key = os.getenv('auth_key')"
   ]
  },
  {
   "cell_type": "code",
   "execution_count": 3,
   "metadata": {
    "collapsed": true
   },
   "outputs": [],
   "source": [
    "rootdir = os.path.expanduser('~')+'/final/data'"
   ]
  },
  {
   "cell_type": "code",
   "execution_count": 4,
   "metadata": {
    "collapsed": true
   },
   "outputs": [],
   "source": [
    "ratings = pd.read_csv(rootdir+'/ml-20m-dataset/ratings.csv')\n",
    "movies = pd.read_csv(rootdir+'/ml-20m-dataset/movies.csv')\n",
    "tags = pd.read_csv(rootdir+'/ml-20m-dataset/tags.csv')\n",
    "links = pd.read_csv(rootdir+'/ml-20m-dataset/links.csv')"
   ]
  },
  {
   "cell_type": "markdown",
   "metadata": {},
   "source": [
    "**I need to find an example**<br>\n",
    "I want to choose a movie from movies that have 20 ratings and average rating is 3. <br>\n",
    "Among these movies, I prefer the ones with bigger standard deviation <br>\n",
    "I decided to go for \"Lan Yu\" (only because it's the same pronunciation as one of my favorite teams in my favorite novel :) )"
   ]
  },
  {
   "cell_type": "code",
   "execution_count": 5,
   "metadata": {
    "collapsed": false
   },
   "outputs": [],
   "source": [
    "movies['year'] = movies['title'].apply(lambda x: x[-5:-1])"
   ]
  },
  {
   "cell_type": "code",
   "execution_count": 6,
   "metadata": {
    "collapsed": true
   },
   "outputs": [],
   "source": [
    "year_filter = movies['title'].apply(lambda x: True if x[-5:-1].isdigit() else False)"
   ]
  },
  {
   "cell_type": "code",
   "execution_count": 7,
   "metadata": {
    "collapsed": true
   },
   "outputs": [],
   "source": [
    "movies = movies[year_filter]"
   ]
  },
  {
   "cell_type": "code",
   "execution_count": 8,
   "metadata": {
    "collapsed": false
   },
   "outputs": [
    {
     "data": {
      "text/html": [
       "<div>\n",
       "<table border=\"1\" class=\"dataframe\">\n",
       "  <thead>\n",
       "    <tr style=\"text-align: right;\">\n",
       "      <th></th>\n",
       "      <th>movieId</th>\n",
       "      <th>title</th>\n",
       "      <th>genres</th>\n",
       "      <th>year</th>\n",
       "    </tr>\n",
       "  </thead>\n",
       "  <tbody>\n",
       "    <tr>\n",
       "      <th>0</th>\n",
       "      <td>1</td>\n",
       "      <td>Toy Story (1995)</td>\n",
       "      <td>Adventure|Animation|Children|Comedy|Fantasy</td>\n",
       "      <td>1995</td>\n",
       "    </tr>\n",
       "    <tr>\n",
       "      <th>1</th>\n",
       "      <td>2</td>\n",
       "      <td>Jumanji (1995)</td>\n",
       "      <td>Adventure|Children|Fantasy</td>\n",
       "      <td>1995</td>\n",
       "    </tr>\n",
       "    <tr>\n",
       "      <th>2</th>\n",
       "      <td>3</td>\n",
       "      <td>Grumpier Old Men (1995)</td>\n",
       "      <td>Comedy|Romance</td>\n",
       "      <td>1995</td>\n",
       "    </tr>\n",
       "  </tbody>\n",
       "</table>\n",
       "</div>"
      ],
      "text/plain": [
       "   movieId                    title  \\\n",
       "0        1         Toy Story (1995)   \n",
       "1        2           Jumanji (1995)   \n",
       "2        3  Grumpier Old Men (1995)   \n",
       "\n",
       "                                        genres  year  \n",
       "0  Adventure|Animation|Children|Comedy|Fantasy  1995  \n",
       "1                   Adventure|Children|Fantasy  1995  \n",
       "2                               Comedy|Romance  1995  "
      ]
     },
     "execution_count": 8,
     "metadata": {},
     "output_type": "execute_result"
    }
   ],
   "source": [
    "movies.head(3)"
   ]
  },
  {
   "cell_type": "code",
   "execution_count": 9,
   "metadata": {
    "collapsed": true
   },
   "outputs": [],
   "source": [
    "a = ratings.groupby('movieId').count().reset_index()"
   ]
  },
  {
   "cell_type": "code",
   "execution_count": 10,
   "metadata": {
    "collapsed": false,
    "scrolled": false
   },
   "outputs": [],
   "source": [
    "b = ratings[['movieId','rating']].merge(a[a['userId']==20][['movieId']],on='movieId',how='inner')[['movieId','rating']].groupby('movieId').mean().round().reset_index()"
   ]
  },
  {
   "cell_type": "code",
   "execution_count": 11,
   "metadata": {
    "collapsed": false
   },
   "outputs": [
    {
     "data": {
      "text/plain": [
       "(93, 2)"
      ]
     },
     "execution_count": 11,
     "metadata": {},
     "output_type": "execute_result"
    }
   ],
   "source": [
    "b[b['rating']==3].shape"
   ]
  },
  {
   "cell_type": "code",
   "execution_count": 12,
   "metadata": {
    "collapsed": false
   },
   "outputs": [
    {
     "data": {
      "text/html": [
       "<div>\n",
       "<table border=\"1\" class=\"dataframe\">\n",
       "  <thead>\n",
       "    <tr style=\"text-align: right;\">\n",
       "      <th></th>\n",
       "      <th>rating</th>\n",
       "    </tr>\n",
       "    <tr>\n",
       "      <th>movieId</th>\n",
       "      <th></th>\n",
       "    </tr>\n",
       "  </thead>\n",
       "  <tbody>\n",
       "    <tr>\n",
       "      <th>49735</th>\n",
       "      <td>1.336482</td>\n",
       "    </tr>\n",
       "    <tr>\n",
       "      <th>983</th>\n",
       "      <td>1.386969</td>\n",
       "    </tr>\n",
       "    <tr>\n",
       "      <th>5514</th>\n",
       "      <td>1.409320</td>\n",
       "    </tr>\n",
       "    <tr>\n",
       "      <th>109420</th>\n",
       "      <td>1.520691</td>\n",
       "    </tr>\n",
       "    <tr>\n",
       "      <th>6026</th>\n",
       "      <td>1.532756</td>\n",
       "    </tr>\n",
       "  </tbody>\n",
       "</table>\n",
       "</div>"
      ],
      "text/plain": [
       "           rating\n",
       "movieId          \n",
       "49735    1.336482\n",
       "983      1.386969\n",
       "5514     1.409320\n",
       "109420   1.520691\n",
       "6026     1.532756"
      ]
     },
     "execution_count": 12,
     "metadata": {},
     "output_type": "execute_result"
    }
   ],
   "source": [
    "ratings[['movieId','rating']].merge(b[b['rating']==3][['movieId']],on='movieId')[['movieId','rating']].groupby('movieId').std().sort_values(by='rating').tail(5)"
   ]
  },
  {
   "cell_type": "code",
   "execution_count": 13,
   "metadata": {
    "collapsed": false
   },
   "outputs": [
    {
     "data": {
      "text/html": [
       "<div>\n",
       "<table border=\"1\" class=\"dataframe\">\n",
       "  <thead>\n",
       "    <tr style=\"text-align: right;\">\n",
       "      <th></th>\n",
       "      <th>movieId</th>\n",
       "      <th>title</th>\n",
       "      <th>genres</th>\n",
       "      <th>year</th>\n",
       "    </tr>\n",
       "  </thead>\n",
       "  <tbody>\n",
       "    <tr>\n",
       "      <th>5417</th>\n",
       "      <td>5514</td>\n",
       "      <td>Lan Yu (2001)</td>\n",
       "      <td>Drama|Romance</td>\n",
       "      <td>2001</td>\n",
       "    </tr>\n",
       "  </tbody>\n",
       "</table>\n",
       "</div>"
      ],
      "text/plain": [
       "      movieId          title         genres  year\n",
       "5417     5514  Lan Yu (2001)  Drama|Romance  2001"
      ]
     },
     "execution_count": 13,
     "metadata": {},
     "output_type": "execute_result"
    }
   ],
   "source": [
    "movies[movies['movieId']==5514]"
   ]
  },
  {
   "cell_type": "code",
   "execution_count": null,
   "metadata": {
    "collapsed": true
   },
   "outputs": [],
   "source": []
  },
  {
   "cell_type": "markdown",
   "metadata": {},
   "source": [
    "**Find out users who liked movieId 5514**<br>\n",
    "For each and every user that rated movieId 5514, find out if the rating is above this user's average rating.<br>\n",
    "If yes, then consider this user likes movieId 5514, otherwise ignore. <br>"
   ]
  },
  {
   "cell_type": "code",
   "execution_count": 14,
   "metadata": {
    "collapsed": false
   },
   "outputs": [],
   "source": [
    "c = ratings[ratings['movieId']==5514].reset_index()[['userId','rating']]"
   ]
  },
  {
   "cell_type": "code",
   "execution_count": 15,
   "metadata": {
    "collapsed": false
   },
   "outputs": [],
   "source": [
    "user_avgRating = c['userId'].apply(lambda x: ratings[ratings['userId']==x]['rating'].mean())"
   ]
  },
  {
   "cell_type": "code",
   "execution_count": 16,
   "metadata": {
    "collapsed": false
   },
   "outputs": [],
   "source": [
    "c['user_avg'] = user_avgRating"
   ]
  },
  {
   "cell_type": "code",
   "execution_count": 17,
   "metadata": {
    "collapsed": false
   },
   "outputs": [],
   "source": [
    "user_like_5514 = c[c['rating']>c['user_avg']]"
   ]
  },
  {
   "cell_type": "code",
   "execution_count": 18,
   "metadata": {
    "collapsed": false
   },
   "outputs": [
    {
     "data": {
      "text/html": [
       "<div>\n",
       "<table border=\"1\" class=\"dataframe\">\n",
       "  <thead>\n",
       "    <tr style=\"text-align: right;\">\n",
       "      <th></th>\n",
       "      <th>index</th>\n",
       "      <th>userId</th>\n",
       "      <th>rating</th>\n",
       "      <th>user_avg</th>\n",
       "    </tr>\n",
       "  </thead>\n",
       "  <tbody>\n",
       "    <tr>\n",
       "      <th>0</th>\n",
       "      <td>0</td>\n",
       "      <td>7571</td>\n",
       "      <td>4.0</td>\n",
       "      <td>3.529274</td>\n",
       "    </tr>\n",
       "    <tr>\n",
       "      <th>1</th>\n",
       "      <td>2</td>\n",
       "      <td>49285</td>\n",
       "      <td>4.0</td>\n",
       "      <td>3.385081</td>\n",
       "    </tr>\n",
       "    <tr>\n",
       "      <th>2</th>\n",
       "      <td>4</td>\n",
       "      <td>53640</td>\n",
       "      <td>4.5</td>\n",
       "      <td>3.349975</td>\n",
       "    </tr>\n",
       "    <tr>\n",
       "      <th>3</th>\n",
       "      <td>5</td>\n",
       "      <td>53853</td>\n",
       "      <td>3.5</td>\n",
       "      <td>2.862251</td>\n",
       "    </tr>\n",
       "    <tr>\n",
       "      <th>4</th>\n",
       "      <td>6</td>\n",
       "      <td>53967</td>\n",
       "      <td>4.0</td>\n",
       "      <td>3.661082</td>\n",
       "    </tr>\n",
       "    <tr>\n",
       "      <th>5</th>\n",
       "      <td>9</td>\n",
       "      <td>65043</td>\n",
       "      <td>4.0</td>\n",
       "      <td>3.213178</td>\n",
       "    </tr>\n",
       "    <tr>\n",
       "      <th>6</th>\n",
       "      <td>13</td>\n",
       "      <td>76992</td>\n",
       "      <td>3.5</td>\n",
       "      <td>3.478659</td>\n",
       "    </tr>\n",
       "    <tr>\n",
       "      <th>7</th>\n",
       "      <td>15</td>\n",
       "      <td>88785</td>\n",
       "      <td>4.0</td>\n",
       "      <td>3.687766</td>\n",
       "    </tr>\n",
       "    <tr>\n",
       "      <th>8</th>\n",
       "      <td>16</td>\n",
       "      <td>91583</td>\n",
       "      <td>4.0</td>\n",
       "      <td>3.890430</td>\n",
       "    </tr>\n",
       "  </tbody>\n",
       "</table>\n",
       "</div>"
      ],
      "text/plain": [
       "   index  userId  rating  user_avg\n",
       "0      0    7571     4.0  3.529274\n",
       "1      2   49285     4.0  3.385081\n",
       "2      4   53640     4.5  3.349975\n",
       "3      5   53853     3.5  2.862251\n",
       "4      6   53967     4.0  3.661082\n",
       "5      9   65043     4.0  3.213178\n",
       "6     13   76992     3.5  3.478659\n",
       "7     15   88785     4.0  3.687766\n",
       "8     16   91583     4.0  3.890430"
      ]
     },
     "execution_count": 18,
     "metadata": {},
     "output_type": "execute_result"
    }
   ],
   "source": [
    "user_like_5514.reset_index()"
   ]
  },
  {
   "cell_type": "markdown",
   "metadata": {},
   "source": [
    "**Find out all other movies liked by these users**"
   ]
  },
  {
   "cell_type": "code",
   "execution_count": 19,
   "metadata": {
    "collapsed": true
   },
   "outputs": [],
   "source": [
    "movie_list = []"
   ]
  },
  {
   "cell_type": "code",
   "execution_count": 20,
   "metadata": {
    "collapsed": true
   },
   "outputs": [],
   "source": [
    "def find_like_movies(user_id):\n",
    "    user_avg = user_like_5514['user_avg'][user_like_5514['userId']==user_id].values[0]\n",
    "    df_temp = ratings[ratings['userId']==user_id]\n",
    "    list_temp = df_temp[df_temp['rating'].apply(lambda x: x > user_avg)]['movieId'].values\n",
    "    for x in list_temp:\n",
    "        movie_list.append(x)"
   ]
  },
  {
   "cell_type": "code",
   "execution_count": 21,
   "metadata": {
    "collapsed": false
   },
   "outputs": [
    {
     "data": {
      "text/plain": [
       "0     None\n",
       "2     None\n",
       "4     None\n",
       "5     None\n",
       "6     None\n",
       "9     None\n",
       "13    None\n",
       "15    None\n",
       "16    None\n",
       "Name: userId, dtype: object"
      ]
     },
     "execution_count": 21,
     "metadata": {},
     "output_type": "execute_result"
    }
   ],
   "source": [
    "user_like_5514['userId'].apply(find_like_movies)"
   ]
  },
  {
   "cell_type": "code",
   "execution_count": 22,
   "metadata": {
    "collapsed": false
   },
   "outputs": [
    {
     "data": {
      "text/plain": [
       "4367"
      ]
     },
     "execution_count": 22,
     "metadata": {},
     "output_type": "execute_result"
    }
   ],
   "source": [
    "len(movie_list)"
   ]
  },
  {
   "cell_type": "code",
   "execution_count": 23,
   "metadata": {
    "collapsed": false
   },
   "outputs": [
    {
     "data": {
      "text/plain": [
       "2864"
      ]
     },
     "execution_count": 23,
     "metadata": {},
     "output_type": "execute_result"
    }
   ],
   "source": [
    "len(set(movie_list))"
   ]
  },
  {
   "cell_type": "code",
   "execution_count": 24,
   "metadata": {
    "collapsed": false
   },
   "outputs": [],
   "source": [
    "counts = Counter(movie_list)"
   ]
  },
  {
   "cell_type": "code",
   "execution_count": 25,
   "metadata": {
    "collapsed": false
   },
   "outputs": [
    {
     "data": {
      "text/plain": [
       "[(5514, 9),\n",
       " (7361, 7),\n",
       " (1247, 6),\n",
       " (2692, 6),\n",
       " (2997, 6),\n",
       " (4034, 6),\n",
       " (4226, 6),\n",
       " (4308, 6),\n",
       " (4993, 6),\n",
       " (6016, 6)]"
      ]
     },
     "execution_count": 25,
     "metadata": {},
     "output_type": "execute_result"
    }
   ],
   "source": [
    "counts.most_common(10)"
   ]
  },
  {
   "cell_type": "markdown",
   "metadata": {},
   "source": [
    "**Calculate movie score** <br>\n",
    "Use movie's genre, times it being liked, imbd keyword relevance, and movie average rating to find out top five movies that might interest the user. <br>\n",
    "I haven't learn algorithm or machine learning before, so I'd just make up some percentage and points for this analysis as of now.<br>\n",
    "MovieReleveceScore = 20(genres) + 30(times it being liked) + 30(keyword relevance) + 20(movie avg rating)"
   ]
  },
  {
   "cell_type": "markdown",
   "metadata": {},
   "source": [
    "**Create new dataframe**"
   ]
  },
  {
   "cell_type": "code",
   "execution_count": 26,
   "metadata": {
    "collapsed": false
   },
   "outputs": [],
   "source": [
    "series_id = pd.Series(data=list(counts.keys()))"
   ]
  },
  {
   "cell_type": "code",
   "execution_count": 27,
   "metadata": {
    "collapsed": false
   },
   "outputs": [
    {
     "data": {
      "text/plain": [
       "(2864,)"
      ]
     },
     "execution_count": 27,
     "metadata": {},
     "output_type": "execute_result"
    }
   ],
   "source": [
    "series_id.shape"
   ]
  },
  {
   "cell_type": "code",
   "execution_count": 28,
   "metadata": {
    "collapsed": false
   },
   "outputs": [],
   "source": [
    "df_score = series_id.reset_index().rename(columns={0:'movieId'})"
   ]
  },
  {
   "cell_type": "code",
   "execution_count": 29,
   "metadata": {
    "collapsed": false,
    "scrolled": true
   },
   "outputs": [],
   "source": [
    "df_score = df_score.drop(['index'],axis=1)"
   ]
  },
  {
   "cell_type": "code",
   "execution_count": 30,
   "metadata": {
    "collapsed": false,
    "scrolled": true
   },
   "outputs": [
    {
     "data": {
      "text/html": [
       "<div>\n",
       "<table border=\"1\" class=\"dataframe\">\n",
       "  <thead>\n",
       "    <tr style=\"text-align: right;\">\n",
       "      <th></th>\n",
       "      <th>movieId</th>\n",
       "    </tr>\n",
       "  </thead>\n",
       "  <tbody>\n",
       "    <tr>\n",
       "      <th>0</th>\n",
       "      <td>1</td>\n",
       "    </tr>\n",
       "    <tr>\n",
       "      <th>1</th>\n",
       "      <td>8195</td>\n",
       "    </tr>\n",
       "  </tbody>\n",
       "</table>\n",
       "</div>"
      ],
      "text/plain": [
       "   movieId\n",
       "0        1\n",
       "1     8195"
      ]
     },
     "execution_count": 30,
     "metadata": {},
     "output_type": "execute_result"
    }
   ],
   "source": [
    "df_score.head(2)"
   ]
  },
  {
   "cell_type": "code",
   "execution_count": 31,
   "metadata": {
    "collapsed": true
   },
   "outputs": [],
   "source": [
    "series_occurrence = df_score['movieId'].apply(lambda x: counts[x])"
   ]
  },
  {
   "cell_type": "code",
   "execution_count": 32,
   "metadata": {
    "collapsed": true
   },
   "outputs": [],
   "source": [
    "df_score['like_occurence'] = series_occurrence"
   ]
  },
  {
   "cell_type": "code",
   "execution_count": 33,
   "metadata": {
    "collapsed": false
   },
   "outputs": [],
   "source": [
    "df_score = df_score.merge(movies[['movieId','title','genres']],on='movieId',how='inner')"
   ]
  },
  {
   "cell_type": "code",
   "execution_count": 34,
   "metadata": {
    "collapsed": false
   },
   "outputs": [
    {
     "data": {
      "text/html": [
       "<div>\n",
       "<table border=\"1\" class=\"dataframe\">\n",
       "  <thead>\n",
       "    <tr style=\"text-align: right;\">\n",
       "      <th></th>\n",
       "      <th>movieId</th>\n",
       "      <th>like_occurence</th>\n",
       "      <th>title</th>\n",
       "      <th>genres</th>\n",
       "    </tr>\n",
       "  </thead>\n",
       "  <tbody>\n",
       "    <tr>\n",
       "      <th>0</th>\n",
       "      <td>1</td>\n",
       "      <td>4</td>\n",
       "      <td>Toy Story (1995)</td>\n",
       "      <td>Adventure|Animation|Children|Comedy|Fantasy</td>\n",
       "    </tr>\n",
       "    <tr>\n",
       "      <th>1</th>\n",
       "      <td>8195</td>\n",
       "      <td>1</td>\n",
       "      <td>Avventura, L' (Adventure, The) (1960)</td>\n",
       "      <td>Drama|Mystery|Romance</td>\n",
       "    </tr>\n",
       "    <tr>\n",
       "      <th>2</th>\n",
       "      <td>6</td>\n",
       "      <td>3</td>\n",
       "      <td>Heat (1995)</td>\n",
       "      <td>Action|Crime|Thriller</td>\n",
       "    </tr>\n",
       "  </tbody>\n",
       "</table>\n",
       "</div>"
      ],
      "text/plain": [
       "   movieId  like_occurence                                  title  \\\n",
       "0        1               4                       Toy Story (1995)   \n",
       "1     8195               1  Avventura, L' (Adventure, The) (1960)   \n",
       "2        6               3                            Heat (1995)   \n",
       "\n",
       "                                        genres  \n",
       "0  Adventure|Animation|Children|Comedy|Fantasy  \n",
       "1                        Drama|Mystery|Romance  \n",
       "2                        Action|Crime|Thriller  "
      ]
     },
     "execution_count": 34,
     "metadata": {},
     "output_type": "execute_result"
    }
   ],
   "source": [
    "df_score.head(3)"
   ]
  },
  {
   "cell_type": "markdown",
   "metadata": {},
   "source": [
    "**Part1: genre**<br>\n",
    "Drama|Romance <br>\n",
    "If a movie has exactly these two genres, gets 20 points.<br>\n",
    "If a moive miss one of them, - 10 points each <br>\n",
    "If a movie has irrelevant genres, - 1 point each<br>\n",
    "Min point is 0"
   ]
  },
  {
   "cell_type": "code",
   "execution_count": 35,
   "metadata": {
    "collapsed": true
   },
   "outputs": [],
   "source": [
    "def get_genre_score(genres):\n",
    "    # if only one genre\n",
    "    if '|' not in genres:\n",
    "        if genres=='Drama' or genres=='Romance':\n",
    "            return 10\n",
    "        else: return 0\n",
    "    # if two genres\n",
    "    else: \n",
    "        if len(genres.split('|'))==2:\n",
    "            if 'Drama' in genres:\n",
    "                if 'Romance' in genres:\n",
    "                    return 20\n",
    "                else: return 9\n",
    "            else:\n",
    "                if 'Romance' in genres:\n",
    "                    return 9\n",
    "                else: return 0\n",
    "    # if more than two genres\n",
    "        else:\n",
    "            if 'Drama' in genres:\n",
    "                if 'Romance' in genres:\n",
    "                    return 22-len(genres.split('|'))\n",
    "                else: return 11-len(genres.split('|'))\n",
    "            else:\n",
    "                if 'Romance' in genres:\n",
    "                    return 11-len(genres.split('|'))\n",
    "                else: return 0"
   ]
  },
  {
   "cell_type": "code",
   "execution_count": 36,
   "metadata": {
    "collapsed": true
   },
   "outputs": [],
   "source": [
    "df_score['genre_score'] = df_score['genres'].apply(get_genre_score)"
   ]
  },
  {
   "cell_type": "code",
   "execution_count": 37,
   "metadata": {
    "collapsed": false
   },
   "outputs": [
    {
     "data": {
      "text/html": [
       "<div>\n",
       "<table border=\"1\" class=\"dataframe\">\n",
       "  <thead>\n",
       "    <tr style=\"text-align: right;\">\n",
       "      <th></th>\n",
       "      <th>movieId</th>\n",
       "      <th>like_occurence</th>\n",
       "      <th>title</th>\n",
       "      <th>genres</th>\n",
       "      <th>genre_score</th>\n",
       "    </tr>\n",
       "  </thead>\n",
       "  <tbody>\n",
       "    <tr>\n",
       "      <th>0</th>\n",
       "      <td>1</td>\n",
       "      <td>4</td>\n",
       "      <td>Toy Story (1995)</td>\n",
       "      <td>Adventure|Animation|Children|Comedy|Fantasy</td>\n",
       "      <td>0</td>\n",
       "    </tr>\n",
       "    <tr>\n",
       "      <th>1</th>\n",
       "      <td>8195</td>\n",
       "      <td>1</td>\n",
       "      <td>Avventura, L' (Adventure, The) (1960)</td>\n",
       "      <td>Drama|Mystery|Romance</td>\n",
       "      <td>19</td>\n",
       "    </tr>\n",
       "    <tr>\n",
       "      <th>2</th>\n",
       "      <td>6</td>\n",
       "      <td>3</td>\n",
       "      <td>Heat (1995)</td>\n",
       "      <td>Action|Crime|Thriller</td>\n",
       "      <td>0</td>\n",
       "    </tr>\n",
       "  </tbody>\n",
       "</table>\n",
       "</div>"
      ],
      "text/plain": [
       "   movieId  like_occurence                                  title  \\\n",
       "0        1               4                       Toy Story (1995)   \n",
       "1     8195               1  Avventura, L' (Adventure, The) (1960)   \n",
       "2        6               3                            Heat (1995)   \n",
       "\n",
       "                                        genres  genre_score  \n",
       "0  Adventure|Animation|Children|Comedy|Fantasy            0  \n",
       "1                        Drama|Mystery|Romance           19  \n",
       "2                        Action|Crime|Thriller            0  "
      ]
     },
     "execution_count": 37,
     "metadata": {},
     "output_type": "execute_result"
    }
   ],
   "source": [
    "df_score.head(3)"
   ]
  },
  {
   "cell_type": "code",
   "execution_count": null,
   "metadata": {
    "collapsed": true
   },
   "outputs": [],
   "source": []
  },
  {
   "cell_type": "markdown",
   "metadata": {},
   "source": [
    "**Part2: times it being liked**<br>\n",
    "Since there are max 9 users like this movie, score=10\\*(times_liked/3)"
   ]
  },
  {
   "cell_type": "code",
   "execution_count": 38,
   "metadata": {
    "collapsed": true
   },
   "outputs": [],
   "source": [
    "df_score['like_score'] = df_score['like_occurence'].apply(lambda x: (10*x/3))"
   ]
  },
  {
   "cell_type": "code",
   "execution_count": 39,
   "metadata": {
    "collapsed": false
   },
   "outputs": [
    {
     "data": {
      "text/html": [
       "<div>\n",
       "<table border=\"1\" class=\"dataframe\">\n",
       "  <thead>\n",
       "    <tr style=\"text-align: right;\">\n",
       "      <th></th>\n",
       "      <th>movieId</th>\n",
       "      <th>like_occurence</th>\n",
       "      <th>title</th>\n",
       "      <th>genres</th>\n",
       "      <th>genre_score</th>\n",
       "      <th>like_score</th>\n",
       "    </tr>\n",
       "  </thead>\n",
       "  <tbody>\n",
       "    <tr>\n",
       "      <th>0</th>\n",
       "      <td>1</td>\n",
       "      <td>4</td>\n",
       "      <td>Toy Story (1995)</td>\n",
       "      <td>Adventure|Animation|Children|Comedy|Fantasy</td>\n",
       "      <td>0</td>\n",
       "      <td>13.333333</td>\n",
       "    </tr>\n",
       "    <tr>\n",
       "      <th>1</th>\n",
       "      <td>8195</td>\n",
       "      <td>1</td>\n",
       "      <td>Avventura, L' (Adventure, The) (1960)</td>\n",
       "      <td>Drama|Mystery|Romance</td>\n",
       "      <td>19</td>\n",
       "      <td>3.333333</td>\n",
       "    </tr>\n",
       "    <tr>\n",
       "      <th>2</th>\n",
       "      <td>6</td>\n",
       "      <td>3</td>\n",
       "      <td>Heat (1995)</td>\n",
       "      <td>Action|Crime|Thriller</td>\n",
       "      <td>0</td>\n",
       "      <td>10.000000</td>\n",
       "    </tr>\n",
       "  </tbody>\n",
       "</table>\n",
       "</div>"
      ],
      "text/plain": [
       "   movieId  like_occurence                                  title  \\\n",
       "0        1               4                       Toy Story (1995)   \n",
       "1     8195               1  Avventura, L' (Adventure, The) (1960)   \n",
       "2        6               3                            Heat (1995)   \n",
       "\n",
       "                                        genres  genre_score  like_score  \n",
       "0  Adventure|Animation|Children|Comedy|Fantasy            0   13.333333  \n",
       "1                        Drama|Mystery|Romance           19    3.333333  \n",
       "2                        Action|Crime|Thriller            0   10.000000  "
      ]
     },
     "execution_count": 39,
     "metadata": {},
     "output_type": "execute_result"
    }
   ],
   "source": [
    "df_score.head(3)"
   ]
  },
  {
   "cell_type": "code",
   "execution_count": null,
   "metadata": {
    "collapsed": true
   },
   "outputs": [],
   "source": []
  },
  {
   "cell_type": "markdown",
   "metadata": {},
   "source": [
    "**Part3: tmdb keyword relevance**<br>\n",
    "fetch data first"
   ]
  },
  {
   "cell_type": "code",
   "execution_count": 40,
   "metadata": {
    "collapsed": false
   },
   "outputs": [],
   "source": [
    "keyword_data = rootdir+'/tmdb_movie_keyword_data/'"
   ]
  },
  {
   "cell_type": "code",
   "execution_count": 41,
   "metadata": {
    "collapsed": false
   },
   "outputs": [],
   "source": [
    "df_tmdbid = links[['movieId','tmdbId']].merge(df_score[['movieId']],on='movieId',how='inner')"
   ]
  },
  {
   "cell_type": "code",
   "execution_count": 42,
   "metadata": {
    "collapsed": false
   },
   "outputs": [
    {
     "data": {
      "text/plain": [
       "(2864, 2)"
      ]
     },
     "execution_count": 42,
     "metadata": {},
     "output_type": "execute_result"
    }
   ],
   "source": [
    "df_tmdbid.shape"
   ]
  },
  {
   "cell_type": "markdown",
   "metadata": {},
   "source": [
    "Seems like I have two NaN to take care, assign 0 to these two ids"
   ]
  },
  {
   "cell_type": "code",
   "execution_count": 43,
   "metadata": {
    "collapsed": false
   },
   "outputs": [],
   "source": [
    "df_tmdbid['tmdbId'] = df_tmdbid['tmdbId'].fillna(0.0).astype(int)"
   ]
  },
  {
   "cell_type": "code",
   "execution_count": 44,
   "metadata": {
    "collapsed": false
   },
   "outputs": [
    {
     "data": {
      "text/html": [
       "<div>\n",
       "<table border=\"1\" class=\"dataframe\">\n",
       "  <thead>\n",
       "    <tr style=\"text-align: right;\">\n",
       "      <th></th>\n",
       "      <th>movieId</th>\n",
       "      <th>tmdbId</th>\n",
       "    </tr>\n",
       "  </thead>\n",
       "  <tbody>\n",
       "    <tr>\n",
       "      <th>194</th>\n",
       "      <td>720</td>\n",
       "      <td>0</td>\n",
       "    </tr>\n",
       "    <tr>\n",
       "      <th>2762</th>\n",
       "      <td>87370</td>\n",
       "      <td>0</td>\n",
       "    </tr>\n",
       "  </tbody>\n",
       "</table>\n",
       "</div>"
      ],
      "text/plain": [
       "      movieId  tmdbId\n",
       "194       720       0\n",
       "2762    87370       0"
      ]
     },
     "execution_count": 44,
     "metadata": {},
     "output_type": "execute_result"
    }
   ],
   "source": [
    "df_tmdbid[df_tmdbid['tmdbId']==0]"
   ]
  },
  {
   "cell_type": "code",
   "execution_count": 45,
   "metadata": {
    "collapsed": false
   },
   "outputs": [
    {
     "data": {
      "text/html": [
       "<div>\n",
       "<table border=\"1\" class=\"dataframe\">\n",
       "  <thead>\n",
       "    <tr style=\"text-align: right;\">\n",
       "      <th></th>\n",
       "      <th>movieId</th>\n",
       "      <th>tmdbId</th>\n",
       "    </tr>\n",
       "  </thead>\n",
       "  <tbody>\n",
       "    <tr>\n",
       "      <th>1347</th>\n",
       "      <td>5514</td>\n",
       "      <td>27062</td>\n",
       "    </tr>\n",
       "  </tbody>\n",
       "</table>\n",
       "</div>"
      ],
      "text/plain": [
       "      movieId  tmdbId\n",
       "1347     5514   27062"
      ]
     },
     "execution_count": 45,
     "metadata": {},
     "output_type": "execute_result"
    }
   ],
   "source": [
    "df_tmdbid[df_tmdbid['movieId']==5514]"
   ]
  },
  {
   "cell_type": "code",
   "execution_count": 46,
   "metadata": {
    "collapsed": true
   },
   "outputs": [],
   "source": [
    "def id_file_name(tmdb_id):\n",
    "    file_name = keyword_data+'id_'+str(tmdb_id)+'.json'\n",
    "    return file_name"
   ]
  },
  {
   "cell_type": "code",
   "execution_count": null,
   "metadata": {
    "collapsed": false
   },
   "outputs": [],
   "source": [
    "error_list = []\n",
    "for tmdb_id in df_tmdbid['tmdbId']:\n",
    "    r = requests.get('https://api.themoviedb.org/3/movie/' + str(tmdb_id) + '/keywords?api_key=' + key)\n",
    "    if r.status_code==requests.codes.ok:\n",
    "        file = id_file_name(tmdb_id)\n",
    "        with open(file, 'w') as fp:\n",
    "            json.dump(r.json(),fp)\n",
    "        time.sleep(0.7)\n",
    "    else:\n",
    "        print(\"Error occured when processing id\",tmdb_id,\"Error code:\",r.status_code)\n",
    "        error_list.append(tmdb_id)\n",
    "        print(r.headers)\n",
    "        time.sleep(0.7)"
   ]
  },
  {
   "cell_type": "markdown",
   "metadata": {},
   "source": [
    "Error code 404, ignore them for now"
   ]
  },
  {
   "cell_type": "code",
   "execution_count": null,
   "metadata": {
    "collapsed": true
   },
   "outputs": [],
   "source": []
  },
  {
   "cell_type": "code",
   "execution_count": 49,
   "metadata": {
    "collapsed": false
   },
   "outputs": [
    {
     "data": {
      "text/plain": [
       "[{'id': 478, 'name': 'china'}, {'id': 10198, 'name': 'gay relationship'}]"
      ]
     },
     "execution_count": 49,
     "metadata": {},
     "output_type": "execute_result"
    }
   ],
   "source": [
    "json.loads(open(keyword_data+'id_27062.json').read())['keywords']"
   ]
  },
  {
   "cell_type": "markdown",
   "metadata": {
    "collapsed": true
   },
   "source": [
    "For each movie, read corresponding json file.<br>\n",
    "If the movie contains both keywords: 30 points. <br>\n",
    "If the movie contains only one keyword: 20 points. <br>\n",
    "If none of the keywords were found: 0 points. <br>"
   ]
  },
  {
   "cell_type": "code",
   "execution_count": 50,
   "metadata": {
    "collapsed": true
   },
   "outputs": [],
   "source": [
    "def keyword_score(tmdbid):\n",
    "    temp_id_list = [] \n",
    "    try:\n",
    "        for record in json.loads(open(keyword_data + 'id_' + str(tmdbid) + '.json').read())['keywords']:\n",
    "            temp_id_list.append(record['id'])\n",
    "    except FileNotFoundError:\n",
    "        print('File for id_', tmdbid,' not found')\n",
    "    if 478 in temp_id_list:\n",
    "        if 10198 in temp_id_list:\n",
    "            return 30\n",
    "        else: return 20\n",
    "    else:\n",
    "        if 10198 in temp_id_list:\n",
    "            return 20\n",
    "        else: return 0"
   ]
  },
  {
   "cell_type": "code",
   "execution_count": 51,
   "metadata": {
    "collapsed": false
   },
   "outputs": [
    {
     "name": "stdout",
     "output_type": "stream",
     "text": [
      "File for id_ 0  not found\n",
      "File for id_ 253768  not found\n",
      "File for id_ 0  not found\n",
      "File for id_ 58423  not found\n"
     ]
    }
   ],
   "source": [
    "series_keyword_score = df_tmdbid['tmdbId'].apply(keyword_score)"
   ]
  },
  {
   "cell_type": "code",
   "execution_count": 52,
   "metadata": {
    "collapsed": true
   },
   "outputs": [],
   "source": [
    "df_score['keyword_score'] = series_keyword_score"
   ]
  },
  {
   "cell_type": "code",
   "execution_count": 53,
   "metadata": {
    "collapsed": false
   },
   "outputs": [
    {
     "data": {
      "text/html": [
       "<div>\n",
       "<table border=\"1\" class=\"dataframe\">\n",
       "  <thead>\n",
       "    <tr style=\"text-align: right;\">\n",
       "      <th></th>\n",
       "      <th>movieId</th>\n",
       "      <th>like_occurence</th>\n",
       "      <th>title</th>\n",
       "      <th>genres</th>\n",
       "      <th>genre_score</th>\n",
       "      <th>like_score</th>\n",
       "      <th>keyword_score</th>\n",
       "    </tr>\n",
       "  </thead>\n",
       "  <tbody>\n",
       "    <tr>\n",
       "      <th>0</th>\n",
       "      <td>1</td>\n",
       "      <td>4</td>\n",
       "      <td>Toy Story (1995)</td>\n",
       "      <td>Adventure|Animation|Children|Comedy|Fantasy</td>\n",
       "      <td>0</td>\n",
       "      <td>13.333333</td>\n",
       "      <td>0</td>\n",
       "    </tr>\n",
       "    <tr>\n",
       "      <th>1</th>\n",
       "      <td>8195</td>\n",
       "      <td>1</td>\n",
       "      <td>Avventura, L' (Adventure, The) (1960)</td>\n",
       "      <td>Drama|Mystery|Romance</td>\n",
       "      <td>19</td>\n",
       "      <td>3.333333</td>\n",
       "      <td>0</td>\n",
       "    </tr>\n",
       "    <tr>\n",
       "      <th>2</th>\n",
       "      <td>6</td>\n",
       "      <td>3</td>\n",
       "      <td>Heat (1995)</td>\n",
       "      <td>Action|Crime|Thriller</td>\n",
       "      <td>0</td>\n",
       "      <td>10.000000</td>\n",
       "      <td>0</td>\n",
       "    </tr>\n",
       "    <tr>\n",
       "      <th>3</th>\n",
       "      <td>7</td>\n",
       "      <td>1</td>\n",
       "      <td>Sabrina (1995)</td>\n",
       "      <td>Comedy|Romance</td>\n",
       "      <td>9</td>\n",
       "      <td>3.333333</td>\n",
       "      <td>0</td>\n",
       "    </tr>\n",
       "    <tr>\n",
       "      <th>4</th>\n",
       "      <td>51884</td>\n",
       "      <td>1</td>\n",
       "      <td>Namesake, The (2006)</td>\n",
       "      <td>Drama|Romance</td>\n",
       "      <td>20</td>\n",
       "      <td>3.333333</td>\n",
       "      <td>0</td>\n",
       "    </tr>\n",
       "  </tbody>\n",
       "</table>\n",
       "</div>"
      ],
      "text/plain": [
       "   movieId  like_occurence                                  title  \\\n",
       "0        1               4                       Toy Story (1995)   \n",
       "1     8195               1  Avventura, L' (Adventure, The) (1960)   \n",
       "2        6               3                            Heat (1995)   \n",
       "3        7               1                         Sabrina (1995)   \n",
       "4    51884               1                   Namesake, The (2006)   \n",
       "\n",
       "                                        genres  genre_score  like_score  \\\n",
       "0  Adventure|Animation|Children|Comedy|Fantasy            0   13.333333   \n",
       "1                        Drama|Mystery|Romance           19    3.333333   \n",
       "2                        Action|Crime|Thriller            0   10.000000   \n",
       "3                               Comedy|Romance            9    3.333333   \n",
       "4                                Drama|Romance           20    3.333333   \n",
       "\n",
       "   keyword_score  \n",
       "0              0  \n",
       "1              0  \n",
       "2              0  \n",
       "3              0  \n",
       "4              0  "
      ]
     },
     "execution_count": 53,
     "metadata": {},
     "output_type": "execute_result"
    }
   ],
   "source": [
    "df_score.head()"
   ]
  },
  {
   "cell_type": "code",
   "execution_count": null,
   "metadata": {
    "collapsed": true
   },
   "outputs": [],
   "source": []
  },
  {
   "cell_type": "code",
   "execution_count": null,
   "metadata": {
    "collapsed": true
   },
   "outputs": [],
   "source": []
  },
  {
   "cell_type": "markdown",
   "metadata": {},
   "source": [
    "**Part4: movie avg rating**<br>\n",
    "Score = 20\\*(avg_rating/5)"
   ]
  },
  {
   "cell_type": "code",
   "execution_count": 54,
   "metadata": {
    "collapsed": false
   },
   "outputs": [],
   "source": [
    "df_score = df_score.merge(ratings[['movieId','rating']].groupby('movieId').mean().reset_index(),on='movieId',how='inner')"
   ]
  },
  {
   "cell_type": "code",
   "execution_count": 55,
   "metadata": {
    "collapsed": false
   },
   "outputs": [
    {
     "data": {
      "text/html": [
       "<div>\n",
       "<table border=\"1\" class=\"dataframe\">\n",
       "  <thead>\n",
       "    <tr style=\"text-align: right;\">\n",
       "      <th></th>\n",
       "      <th>movieId</th>\n",
       "      <th>like_occurence</th>\n",
       "      <th>title</th>\n",
       "      <th>genres</th>\n",
       "      <th>genre_score</th>\n",
       "      <th>like_score</th>\n",
       "      <th>keyword_score</th>\n",
       "      <th>rating</th>\n",
       "    </tr>\n",
       "  </thead>\n",
       "  <tbody>\n",
       "    <tr>\n",
       "      <th>0</th>\n",
       "      <td>1</td>\n",
       "      <td>4</td>\n",
       "      <td>Toy Story (1995)</td>\n",
       "      <td>Adventure|Animation|Children|Comedy|Fantasy</td>\n",
       "      <td>0</td>\n",
       "      <td>13.333333</td>\n",
       "      <td>0</td>\n",
       "      <td>3.921240</td>\n",
       "    </tr>\n",
       "    <tr>\n",
       "      <th>1</th>\n",
       "      <td>8195</td>\n",
       "      <td>1</td>\n",
       "      <td>Avventura, L' (Adventure, The) (1960)</td>\n",
       "      <td>Drama|Mystery|Romance</td>\n",
       "      <td>19</td>\n",
       "      <td>3.333333</td>\n",
       "      <td>0</td>\n",
       "      <td>3.949074</td>\n",
       "    </tr>\n",
       "    <tr>\n",
       "      <th>2</th>\n",
       "      <td>6</td>\n",
       "      <td>3</td>\n",
       "      <td>Heat (1995)</td>\n",
       "      <td>Action|Crime|Thriller</td>\n",
       "      <td>0</td>\n",
       "      <td>10.000000</td>\n",
       "      <td>0</td>\n",
       "      <td>3.834930</td>\n",
       "    </tr>\n",
       "  </tbody>\n",
       "</table>\n",
       "</div>"
      ],
      "text/plain": [
       "   movieId  like_occurence                                  title  \\\n",
       "0        1               4                       Toy Story (1995)   \n",
       "1     8195               1  Avventura, L' (Adventure, The) (1960)   \n",
       "2        6               3                            Heat (1995)   \n",
       "\n",
       "                                        genres  genre_score  like_score  \\\n",
       "0  Adventure|Animation|Children|Comedy|Fantasy            0   13.333333   \n",
       "1                        Drama|Mystery|Romance           19    3.333333   \n",
       "2                        Action|Crime|Thriller            0   10.000000   \n",
       "\n",
       "   keyword_score    rating  \n",
       "0              0  3.921240  \n",
       "1              0  3.949074  \n",
       "2              0  3.834930  "
      ]
     },
     "execution_count": 55,
     "metadata": {},
     "output_type": "execute_result"
    }
   ],
   "source": [
    "df_score.head(3)"
   ]
  },
  {
   "cell_type": "code",
   "execution_count": 56,
   "metadata": {
    "collapsed": true
   },
   "outputs": [],
   "source": [
    "df_score['rating_score'] = df_score['rating'].apply(lambda x: 4*x)"
   ]
  },
  {
   "cell_type": "code",
   "execution_count": 57,
   "metadata": {
    "collapsed": false
   },
   "outputs": [
    {
     "data": {
      "text/html": [
       "<div>\n",
       "<table border=\"1\" class=\"dataframe\">\n",
       "  <thead>\n",
       "    <tr style=\"text-align: right;\">\n",
       "      <th></th>\n",
       "      <th>movieId</th>\n",
       "      <th>like_occurence</th>\n",
       "      <th>title</th>\n",
       "      <th>genres</th>\n",
       "      <th>genre_score</th>\n",
       "      <th>like_score</th>\n",
       "      <th>keyword_score</th>\n",
       "      <th>rating</th>\n",
       "      <th>rating_score</th>\n",
       "    </tr>\n",
       "  </thead>\n",
       "  <tbody>\n",
       "    <tr>\n",
       "      <th>0</th>\n",
       "      <td>1</td>\n",
       "      <td>4</td>\n",
       "      <td>Toy Story (1995)</td>\n",
       "      <td>Adventure|Animation|Children|Comedy|Fantasy</td>\n",
       "      <td>0</td>\n",
       "      <td>13.333333</td>\n",
       "      <td>0</td>\n",
       "      <td>3.921240</td>\n",
       "      <td>15.684958</td>\n",
       "    </tr>\n",
       "    <tr>\n",
       "      <th>1</th>\n",
       "      <td>8195</td>\n",
       "      <td>1</td>\n",
       "      <td>Avventura, L' (Adventure, The) (1960)</td>\n",
       "      <td>Drama|Mystery|Romance</td>\n",
       "      <td>19</td>\n",
       "      <td>3.333333</td>\n",
       "      <td>0</td>\n",
       "      <td>3.949074</td>\n",
       "      <td>15.796296</td>\n",
       "    </tr>\n",
       "    <tr>\n",
       "      <th>2</th>\n",
       "      <td>6</td>\n",
       "      <td>3</td>\n",
       "      <td>Heat (1995)</td>\n",
       "      <td>Action|Crime|Thriller</td>\n",
       "      <td>0</td>\n",
       "      <td>10.000000</td>\n",
       "      <td>0</td>\n",
       "      <td>3.834930</td>\n",
       "      <td>15.339721</td>\n",
       "    </tr>\n",
       "    <tr>\n",
       "      <th>3</th>\n",
       "      <td>7</td>\n",
       "      <td>1</td>\n",
       "      <td>Sabrina (1995)</td>\n",
       "      <td>Comedy|Romance</td>\n",
       "      <td>9</td>\n",
       "      <td>3.333333</td>\n",
       "      <td>0</td>\n",
       "      <td>3.366484</td>\n",
       "      <td>13.465936</td>\n",
       "    </tr>\n",
       "    <tr>\n",
       "      <th>4</th>\n",
       "      <td>51884</td>\n",
       "      <td>1</td>\n",
       "      <td>Namesake, The (2006)</td>\n",
       "      <td>Drama|Romance</td>\n",
       "      <td>20</td>\n",
       "      <td>3.333333</td>\n",
       "      <td>0</td>\n",
       "      <td>3.734216</td>\n",
       "      <td>14.936864</td>\n",
       "    </tr>\n",
       "  </tbody>\n",
       "</table>\n",
       "</div>"
      ],
      "text/plain": [
       "   movieId  like_occurence                                  title  \\\n",
       "0        1               4                       Toy Story (1995)   \n",
       "1     8195               1  Avventura, L' (Adventure, The) (1960)   \n",
       "2        6               3                            Heat (1995)   \n",
       "3        7               1                         Sabrina (1995)   \n",
       "4    51884               1                   Namesake, The (2006)   \n",
       "\n",
       "                                        genres  genre_score  like_score  \\\n",
       "0  Adventure|Animation|Children|Comedy|Fantasy            0   13.333333   \n",
       "1                        Drama|Mystery|Romance           19    3.333333   \n",
       "2                        Action|Crime|Thriller            0   10.000000   \n",
       "3                               Comedy|Romance            9    3.333333   \n",
       "4                                Drama|Romance           20    3.333333   \n",
       "\n",
       "   keyword_score    rating  rating_score  \n",
       "0              0  3.921240     15.684958  \n",
       "1              0  3.949074     15.796296  \n",
       "2              0  3.834930     15.339721  \n",
       "3              0  3.366484     13.465936  \n",
       "4              0  3.734216     14.936864  "
      ]
     },
     "execution_count": 57,
     "metadata": {},
     "output_type": "execute_result"
    }
   ],
   "source": [
    "df_score.head()"
   ]
  },
  {
   "cell_type": "markdown",
   "metadata": {},
   "source": [
    "**Part5: Calculate total score**"
   ]
  },
  {
   "cell_type": "code",
   "execution_count": 58,
   "metadata": {
    "collapsed": true
   },
   "outputs": [],
   "source": [
    "df_score['total'] = df_score.genre_score+df_score.like_score+df_score.keyword_score+df_score.rating_score"
   ]
  },
  {
   "cell_type": "code",
   "execution_count": 59,
   "metadata": {
    "collapsed": false
   },
   "outputs": [
    {
     "data": {
      "text/html": [
       "<div>\n",
       "<table border=\"1\" class=\"dataframe\">\n",
       "  <thead>\n",
       "    <tr style=\"text-align: right;\">\n",
       "      <th></th>\n",
       "      <th>title</th>\n",
       "      <th>genres</th>\n",
       "    </tr>\n",
       "  </thead>\n",
       "  <tbody>\n",
       "    <tr>\n",
       "      <th>1347</th>\n",
       "      <td>Spanglish (2004)</td>\n",
       "      <td>Comedy|Drama|Romance</td>\n",
       "    </tr>\n",
       "    <tr>\n",
       "      <th>1562</th>\n",
       "      <td>Happy Together (a.k.a. Buenos Aires Affair) (C...</td>\n",
       "      <td>Drama|Romance</td>\n",
       "    </tr>\n",
       "    <tr>\n",
       "      <th>2206</th>\n",
       "      <td>Pianist, The (2002)</td>\n",
       "      <td>Drama|War</td>\n",
       "    </tr>\n",
       "    <tr>\n",
       "      <th>104</th>\n",
       "      <td>Eat Drink Man Woman (Yin shi nan nu) (1994)</td>\n",
       "      <td>Comedy|Drama|Romance</td>\n",
       "    </tr>\n",
       "    <tr>\n",
       "      <th>137</th>\n",
       "      <td>Lan Yu (2001)</td>\n",
       "      <td>Drama|Romance</td>\n",
       "    </tr>\n",
       "  </tbody>\n",
       "</table>\n",
       "</div>"
      ],
      "text/plain": [
       "                                                  title                genres\n",
       "1347                                   Spanglish (2004)  Comedy|Drama|Romance\n",
       "1562  Happy Together (a.k.a. Buenos Aires Affair) (C...         Drama|Romance\n",
       "2206                                Pianist, The (2002)             Drama|War\n",
       "104         Eat Drink Man Woman (Yin shi nan nu) (1994)  Comedy|Drama|Romance\n",
       "137                                       Lan Yu (2001)         Drama|Romance"
      ]
     },
     "execution_count": 59,
     "metadata": {},
     "output_type": "execute_result"
    }
   ],
   "source": [
    "df_score.sort_values(by='total',ascending=False)[['title','genres']].head()"
   ]
  }
 ],
 "metadata": {
  "anaconda-cloud": {},
  "kernelspec": {
   "display_name": "Python [conda root]",
   "language": "python",
   "name": "conda-root-py"
  },
  "language_info": {
   "codemirror_mode": {
    "name": "ipython",
    "version": 3
   },
   "file_extension": ".py",
   "mimetype": "text/x-python",
   "name": "python",
   "nbconvert_exporter": "python",
   "pygments_lexer": "ipython3",
   "version": "3.5.2"
  }
 },
 "nbformat": 4,
 "nbformat_minor": 1
}
