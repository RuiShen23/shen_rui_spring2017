{
 "cells": [
  {
   "cell_type": "markdown",
   "metadata": {},
   "source": [
    "# Work with json and path"
   ]
  },
  {
   "cell_type": "markdown",
   "metadata": {},
   "source": [
    "## Part 1"
   ]
  },
  {
   "cell_type": "code",
   "execution_count": 1,
   "metadata": {
    "collapsed": true
   },
   "outputs": [],
   "source": [
    "import os\n",
    "import shutil\n",
    "import glob\n",
    "import fnmatch\n",
    "import json\n",
    "from nltk import FreqDist"
   ]
  },
  {
   "cell_type": "markdown",
   "metadata": {},
   "source": [
    "### Folder structure: \n",
    "Data Processed<br>\n",
    "&nbsp;&nbsp;&nbsp;&nbsp; terms<br>\n",
    "&nbsp;&nbsp;&nbsp;&nbsp;&nbsp;&nbsp;&nbsp;&nbsp;country<br>\n",
    "&nbsp;&nbsp;&nbsp;&nbsp;&nbsp;&nbsp;&nbsp;&nbsp;&nbsp;&nbsp;&nbsp;&nbsp;state<br>\n",
    "&nbsp;&nbsp;&nbsp;&nbsp;&nbsp;&nbsp;&nbsp;&nbsp;&nbsp;&nbsp;&nbsp;&nbsp;&nbsp;&nbsp;&nbsp;&nbsp;city<br>\n",
    "&nbsp;&nbsp;&nbsp;&nbsp;&nbsp;&nbsp;&nbsp;&nbsp;&nbsp;&nbsp;&nbsp;&nbsp;&nbsp;&nbsp;&nbsp;&nbsp;&nbsp;&nbsp;&nbsp;&nbsp;rating<br>\n",
    "&nbsp;&nbsp;&nbsp;&nbsp;&nbsp;&nbsp;&nbsp;&nbsp;&nbsp;&nbsp;&nbsp;&nbsp;&nbsp;&nbsp;&nbsp;&nbsp;&nbsp;&nbsp;&nbsp;&nbsp;&nbsp;&nbsp;&nbsp;&nbsp;price"
   ]
  },
  {
   "cell_type": "markdown",
   "metadata": {},
   "source": [
    "#### create Data Processed folder"
   ]
  },
  {
   "cell_type": "code",
   "execution_count": 3,
   "metadata": {
    "collapsed": false
   },
   "outputs": [],
   "source": [
    "os.mkdir(qpath+'Data Processed')"
   ]
  },
  {
   "cell_type": "markdown",
   "metadata": {},
   "source": [
    "#### loop through all files to get information"
   ]
  },
  {
   "cell_type": "code",
   "execution_count": 2,
   "metadata": {
    "collapsed": true
   },
   "outputs": [],
   "source": [
    "rpath = '/Users/Rui/Documents/INFO 7374/Assignment 2 - Requirements/Data/'  #Please change to cooresponding local folder while grading\n",
    "qpath = '/Users/Rui/Documents/INFO 7374/Assignment2/'    \n",
    "workpath = '/Users/Rui/Documents/INFO 7374/Assignment2/Data Processed/'"
   ]
  },
  {
   "cell_type": "code",
   "execution_count": 4,
   "metadata": {
    "collapsed": false
   },
   "outputs": [
    {
     "name": "stdout",
     "output_type": "stream",
     "text": [
      "11728\n"
     ]
    }
   ],
   "source": [
    "allfiles = glob.glob(rpath+'*')\n",
    "print(len(allfiles))"
   ]
  },
  {
   "cell_type": "markdown",
   "metadata": {},
   "source": [
    "#### try some methods, see how to get value names faster"
   ]
  },
  {
   "cell_type": "code",
   "execution_count": 5,
   "metadata": {
    "collapsed": false
   },
   "outputs": [],
   "source": [
    "term_list = []\n",
    "\n",
    "for file in allfiles:\n",
    "    term_list.append(json.loads(open(file).read())['term'])"
   ]
  },
  {
   "cell_type": "code",
   "execution_count": 6,
   "metadata": {
    "collapsed": false
   },
   "outputs": [],
   "source": [
    "term_list = FreqDist(term_list).most_common(100)"
   ]
  },
  {
   "cell_type": "code",
   "execution_count": 7,
   "metadata": {
    "collapsed": false
   },
   "outputs": [
    {
     "name": "stdout",
     "output_type": "stream",
     "text": [
      "[('restaurants', 6372), ('attractions', 4265), ('hotels', 1091)]\n"
     ]
    }
   ],
   "source": [
    "print(term_list)"
   ]
  },
  {
   "cell_type": "markdown",
   "metadata": {
    "collapsed": false
   },
   "source": [
    "#### create a function to create folder"
   ]
  },
  {
   "cell_type": "code",
   "execution_count": 8,
   "metadata": {
    "collapsed": true
   },
   "outputs": [],
   "source": [
    "def create_folder(fdr_path, fdr_name):\n",
    "    os.mkdir(os.path.join(fdr_path, fdr_name))"
   ]
  },
  {
   "cell_type": "markdown",
   "metadata": {},
   "source": [
    "#### create term folders under Data Processed"
   ]
  },
  {
   "cell_type": "code",
   "execution_count": 9,
   "metadata": {
    "collapsed": false
   },
   "outputs": [],
   "source": [
    "for term in term_list:\n",
    "    create_folder(workpath, term[0].title())"
   ]
  },
  {
   "cell_type": "markdown",
   "metadata": {},
   "source": [
    "move files to coresponding term folder"
   ]
  },
  {
   "cell_type": "code",
   "execution_count": 10,
   "metadata": {
    "collapsed": true
   },
   "outputs": [],
   "source": [
    "for file in allfiles:\n",
    "    ft = json.loads(open(file).read())['term']\n",
    "    for term in term_list:\n",
    "        if ft==term[0]:\n",
    "            shutil.copy(file, workpath+term[0].title())"
   ]
  },
  {
   "cell_type": "markdown",
   "metadata": {},
   "source": [
    "#### create country folders in each term folder"
   ]
  },
  {
   "cell_type": "code",
   "execution_count": 11,
   "metadata": {
    "collapsed": false
   },
   "outputs": [],
   "source": [
    "for term in term_list:\n",
    "    wp = workpath + term[0].title() +'/'\n",
    "    country_list = []\n",
    "    for file in glob.glob(wp+'*'):\n",
    "        country_list.append(json.loads(open(file).read())['location']['country'])\n",
    "    country_list = FreqDist(country_list).most_common(100)\n",
    "    for country in country_list:\n",
    "        create_folder(wp, country[0])"
   ]
  },
  {
   "cell_type": "markdown",
   "metadata": {},
   "source": [
    "#### move to country folders"
   ]
  },
  {
   "cell_type": "code",
   "execution_count": 12,
   "metadata": {
    "collapsed": false
   },
   "outputs": [],
   "source": [
    "for term in term_list:\n",
    "    wp = workpath + term[0].title() +'/'\n",
    "    for file in glob.glob(wp+'*'):\n",
    "        if (os.path.isfile(file) == True):\n",
    "            fc = json.loads(open(file).read())['location']['country']\n",
    "            shutil.move(file, wp + fc + '/' + os.path.basename(file))"
   ]
  },
  {
   "cell_type": "markdown",
   "metadata": {},
   "source": [
    "#### create state folders in each country \n",
    "do this by function is way better than loops...I can manually create a path instead of using 3 for loops : )"
   ]
  },
  {
   "cell_type": "code",
   "execution_count": 13,
   "metadata": {
    "collapsed": false
   },
   "outputs": [],
   "source": [
    "def create_state_folders(t, c):\n",
    "    t = t.title()\n",
    "    c = c.upper()\n",
    "    wp = os.path.join(workpath + t + '/' + c + '/')\n",
    "    state_list = []\n",
    "    for file in glob.glob(wp + '*'):\n",
    "        if (os.path.isfile(file) == True):\n",
    "            state_list.append(json.loads(open(file).read())['location']['state'])\n",
    "    state_list = FreqDist(state_list).most_common(100)\n",
    "    for state in state_list:\n",
    "        create_folder(wp, state[0])"
   ]
  },
  {
   "cell_type": "code",
   "execution_count": 14,
   "metadata": {
    "collapsed": false
   },
   "outputs": [],
   "source": [
    "attraction_path = workpath+'Attractions/'\n",
    "attraction_country_list = os.listdir(attraction_path)\n",
    "\n",
    "for country in attraction_country_list:\n",
    "    create_state_folders('attractions', country)"
   ]
  },
  {
   "cell_type": "code",
   "execution_count": 15,
   "metadata": {
    "collapsed": true
   },
   "outputs": [],
   "source": [
    "hotels_path =  workpath+'Hotels/'\n",
    "hotels_country_list = os.listdir(hotels_path)\n",
    "for country in hotels_country_list:\n",
    "    create_state_folders('hotels', country)"
   ]
  },
  {
   "cell_type": "code",
   "execution_count": 16,
   "metadata": {
    "collapsed": true
   },
   "outputs": [],
   "source": [
    "restaurants_path =  workpath+'Restaurants/'\n",
    "restaurants_country_list = os.listdir(restaurants_path)\n",
    "\n",
    "for country in restaurants_country_list:\n",
    "    create_state_folders('restaurants', country)"
   ]
  },
  {
   "cell_type": "markdown",
   "metadata": {},
   "source": [
    "#### move to state folders\n",
    "same thing...better to do with function"
   ]
  },
  {
   "cell_type": "code",
   "execution_count": 17,
   "metadata": {
    "collapsed": false
   },
   "outputs": [],
   "source": [
    "def move_to_state_folders(t, c):\n",
    "    t = t.title()\n",
    "    c = c.upper()\n",
    "    wp = os.path.join(workpath + t + '/' + c + '/')\n",
    "    for file in glob.glob(wp+'*'):\n",
    "        if (os.path.isfile(file) == True):\n",
    "            fs = json.loads(open(file).read())['location']['state']\n",
    "            shutil.move(file, wp + fs + '/' + os.path.basename(file))     "
   ]
  },
  {
   "cell_type": "code",
   "execution_count": 18,
   "metadata": {
    "collapsed": false
   },
   "outputs": [],
   "source": [
    "for country in attraction_country_list:\n",
    "    move_to_state_folders('attractions', country)"
   ]
  },
  {
   "cell_type": "code",
   "execution_count": 19,
   "metadata": {
    "collapsed": true
   },
   "outputs": [],
   "source": [
    "for country in hotels_country_list:\n",
    "    move_to_state_folders('hotels', country)"
   ]
  },
  {
   "cell_type": "code",
   "execution_count": 20,
   "metadata": {
    "collapsed": true
   },
   "outputs": [],
   "source": [
    "for country in restaurants_country_list:\n",
    "    move_to_state_folders('restaurants', country)"
   ]
  },
  {
   "cell_type": "code",
   "execution_count": 21,
   "metadata": {
    "collapsed": false
   },
   "outputs": [
    {
     "data": {
      "text/plain": [
       "['/Users/Rui/Documents/INFO 7374/Assignment2/Data Processed/Hotels/AU/ACT/',\n",
       " '/Users/Rui/Documents/INFO 7374/Assignment2/Data Processed/Hotels/AU/NSW/',\n",
       " '/Users/Rui/Documents/INFO 7374/Assignment2/Data Processed/Hotels/AU/QLD/',\n",
       " '/Users/Rui/Documents/INFO 7374/Assignment2/Data Processed/Hotels/AU/SA/',\n",
       " '/Users/Rui/Documents/INFO 7374/Assignment2/Data Processed/Hotels/AU/TAS/']"
      ]
     },
     "execution_count": 21,
     "metadata": {},
     "output_type": "execute_result"
    }
   ],
   "source": [
    "glob.glob(workpath + 'Hotels/AU/*/')"
   ]
  },
  {
   "cell_type": "markdown",
   "metadata": {},
   "source": [
    "#### create city folders in each state"
   ]
  },
  {
   "cell_type": "code",
   "execution_count": 22,
   "metadata": {
    "collapsed": false
   },
   "outputs": [],
   "source": [
    "def create_city_folders(t, c):\n",
    "    t = t.title()\n",
    "    c = c.upper()\n",
    "    wp = glob.glob(workpath + t + '/' + c + '/' + '*/')\n",
    "    for wp2 in wp:\n",
    "        city_list = []\n",
    "        for file in glob.glob(wp2 + '*'):\n",
    "            if (os.path.isfile(file) == True):\n",
    "                if json.loads(open(file).read())['location']['city'] != '':\n",
    "                    city_list.append(json.loads(open(file).read())['location']['city'].title())\n",
    "        city_list = FreqDist(city_list).most_common(100)\n",
    "        for city in city_list:\n",
    "            create_folder(wp2, city[0])"
   ]
  },
  {
   "cell_type": "code",
   "execution_count": 23,
   "metadata": {
    "collapsed": false
   },
   "outputs": [],
   "source": [
    "for country in attraction_country_list:\n",
    "    create_city_folders('attractions', country)"
   ]
  },
  {
   "cell_type": "code",
   "execution_count": 24,
   "metadata": {
    "collapsed": true
   },
   "outputs": [],
   "source": [
    "for country in hotels_country_list:\n",
    "    create_city_folders('hotels', country)"
   ]
  },
  {
   "cell_type": "code",
   "execution_count": 25,
   "metadata": {
    "collapsed": true
   },
   "outputs": [],
   "source": [
    "for country in restaurants_country_list:\n",
    "    create_city_folders('restaurants', country)"
   ]
  },
  {
   "cell_type": "markdown",
   "metadata": {},
   "source": [
    "#### move to city folders"
   ]
  },
  {
   "cell_type": "code",
   "execution_count": 26,
   "metadata": {
    "collapsed": false
   },
   "outputs": [],
   "source": [
    "def move_to_city_folders(t, c):\n",
    "    t = t.title()\n",
    "    c = c.upper()\n",
    "    wp = glob.glob(workpath + t + '/' + c + '/' + '*/')\n",
    "    for wp2 in wp:  \n",
    "        for file in glob.glob(wp2 +'*'):\n",
    "            if (os.path.isfile(file) == True):                \n",
    "                fci = json.loads(open(file).read())['location']['city'].title()\n",
    "                shutil.move(file, wp2 + fci + '/' + os.path.basename(file))            "
   ]
  },
  {
   "cell_type": "code",
   "execution_count": 27,
   "metadata": {
    "collapsed": false
   },
   "outputs": [],
   "source": [
    "for country in attraction_country_list:\n",
    "    move_to_city_folders('attractions', country)"
   ]
  },
  {
   "cell_type": "code",
   "execution_count": 28,
   "metadata": {
    "collapsed": true
   },
   "outputs": [],
   "source": [
    "for country in hotels_country_list:\n",
    "    move_to_city_folders('hotels', country)"
   ]
  },
  {
   "cell_type": "code",
   "execution_count": 29,
   "metadata": {
    "collapsed": true
   },
   "outputs": [],
   "source": [
    "for country in restaurants_country_list:\n",
    "    move_to_city_folders('restaurants', country)"
   ]
  },
  {
   "cell_type": "markdown",
   "metadata": {
    "collapsed": true
   },
   "source": [
    "#### create 0-1 1-2...4-5 5 rating folders accordingly for each city"
   ]
  },
  {
   "cell_type": "code",
   "execution_count": 30,
   "metadata": {
    "collapsed": true
   },
   "outputs": [],
   "source": [
    "def rate_func(f):\n",
    "    rate_output = 0\n",
    "    t_rate = json.loads(open(f).read())['rating']\n",
    "    if 0 <= t_rate <= 1: \n",
    "        rate_output = 'Rating 0-1'\n",
    "    elif 1 < t_rate <= 2:\n",
    "        rate_output = 'Rating 1-2'\n",
    "    elif 2 < t_rate <= 3:\n",
    "        rate_output = 'Rating 2-3'\n",
    "    elif 3 < t_rate <= 4:\n",
    "        rate_output = 'Rating 3-4'   \n",
    "    elif 4 < t_rate <=5:\n",
    "        rate_output = 'Rating 4-5'\n",
    "    return rate_output"
   ]
  },
  {
   "cell_type": "code",
   "execution_count": 31,
   "metadata": {
    "collapsed": false
   },
   "outputs": [
    {
     "data": {
      "text/plain": [
       "['/Users/Rui/Documents/INFO 7374/Assignment2/Data Processed/Hotels/AU/ACT/Acton',\n",
       " '/Users/Rui/Documents/INFO 7374/Assignment2/Data Processed/Hotels/AU/ACT/Barton',\n",
       " '/Users/Rui/Documents/INFO 7374/Assignment2/Data Processed/Hotels/AU/ACT/Belconnen',\n",
       " '/Users/Rui/Documents/INFO 7374/Assignment2/Data Processed/Hotels/AU/ACT/Bonython']"
      ]
     },
     "execution_count": 31,
     "metadata": {},
     "output_type": "execute_result"
    }
   ],
   "source": [
    "glob.glob(workpath + 'Hotels/AU/ACT/*')[:4]"
   ]
  },
  {
   "cell_type": "code",
   "execution_count": 32,
   "metadata": {
    "collapsed": true
   },
   "outputs": [],
   "source": [
    "def create_rating_folders(t, c):\n",
    "    t = t.title()\n",
    "    c = c.upper()\n",
    "    wp = glob.glob(workpath + t + '/' + c + '/' + '*/')\n",
    "    for wp2 in wp:                \n",
    "        for wp3 in glob.glob(wp2 + '*'):\n",
    "            rating_list = []\n",
    "            for file in glob.glob(wp3 + '*/*'):   \n",
    "                if os.path.isfile(file)==True:\n",
    "                    rating = rate_func(file)                \n",
    "                    rating_list.append(rating)\n",
    "            rating_list = FreqDist(rating_list).most_common(5)\n",
    "            for rt in rating_list:\n",
    "                create_folder(wp3+'/', rt[0])"
   ]
  },
  {
   "cell_type": "code",
   "execution_count": 33,
   "metadata": {
    "collapsed": false
   },
   "outputs": [],
   "source": [
    "for country in attraction_country_list:\n",
    "    create_rating_folders('attractions', country)"
   ]
  },
  {
   "cell_type": "code",
   "execution_count": 34,
   "metadata": {
    "collapsed": false
   },
   "outputs": [],
   "source": [
    "for country in hotels_country_list:\n",
    "    create_rating_folders('hotels', country)"
   ]
  },
  {
   "cell_type": "code",
   "execution_count": 35,
   "metadata": {
    "collapsed": true
   },
   "outputs": [],
   "source": [
    "for country in restaurants_country_list:\n",
    "    create_rating_folders('restaurants', country)"
   ]
  },
  {
   "cell_type": "code",
   "execution_count": 36,
   "metadata": {
    "collapsed": true
   },
   "outputs": [],
   "source": [
    "def move_to_rating_folders(t, c):\n",
    "    t = t.title()\n",
    "    c = c.upper()\n",
    "    wp = glob.glob(workpath + t + '/' + c + '/' + '*/*')\n",
    "    for wp2 in wp:\n",
    "        for file in glob.glob(wp2 + '/*'):\n",
    "            if (os.path.isfile(file) == True):                \n",
    "                filerating = rate_func(file)\n",
    "                shutil.move(file, (wp2 + '/' + filerating + '/' + os.path.basename(file)))  "
   ]
  },
  {
   "cell_type": "code",
   "execution_count": 37,
   "metadata": {
    "collapsed": false
   },
   "outputs": [],
   "source": [
    "for country in attraction_country_list:\n",
    "    move_to_rating_folders('attractions', country)"
   ]
  },
  {
   "cell_type": "code",
   "execution_count": 43,
   "metadata": {
    "collapsed": false
   },
   "outputs": [],
   "source": [
    "for country in hotels_country_list:\n",
    "    move_to_rating_folders('hotels', country)"
   ]
  },
  {
   "cell_type": "code",
   "execution_count": 44,
   "metadata": {
    "collapsed": true
   },
   "outputs": [],
   "source": [
    "for country in restaurants_country_list:\n",
    "    move_to_rating_folders('restaurants', country)"
   ]
  },
  {
   "cell_type": "markdown",
   "metadata": {},
   "source": [
    "#### create \\$ - \\$\\$\\$\\$\\$ price folders accordingly for each rating"
   ]
  },
  {
   "cell_type": "code",
   "execution_count": 45,
   "metadata": {
    "collapsed": true
   },
   "outputs": [],
   "source": [
    "def create_price_folders(t, c):\n",
    "    t = t.title()\n",
    "    c = c.upper()\n",
    "    wp = glob.glob(workpath + t + '/' + c + '/*')\n",
    "    for wp2 in wp:      \n",
    "        for wp3 in glob.glob(wp2 + '/*'): \n",
    "            for wp4 in glob.glob(wp3 + '/*'):\n",
    "                price_list = []                                    \n",
    "                for file in glob.glob(wp4 + '/*'):\n",
    "                    if os.path.isfile(file)==True:                          \n",
    "                        if 'price' in json.loads(open(file).read()):\n",
    "                            price = json.loads(open(file).read())['price']\n",
    "                            price_list.append(price)\n",
    "                price_list = FreqDist(price_list).most_common(100)\n",
    "                for pr in price_list:\n",
    "                    create_folder(wp4+'/', pr[0])"
   ]
  },
  {
   "cell_type": "code",
   "execution_count": 46,
   "metadata": {
    "collapsed": false
   },
   "outputs": [],
   "source": [
    "for country in attraction_country_list:\n",
    "    create_price_folders('attractions', country)"
   ]
  },
  {
   "cell_type": "code",
   "execution_count": 47,
   "metadata": {
    "collapsed": true
   },
   "outputs": [],
   "source": [
    "for country in hotels_country_list:\n",
    "    create_price_folders('hotels', country)"
   ]
  },
  {
   "cell_type": "code",
   "execution_count": 53,
   "metadata": {
    "collapsed": true
   },
   "outputs": [],
   "source": [
    "for country in restaurants_country_list:\n",
    "    create_price_folders('restaurants', country)"
   ]
  },
  {
   "cell_type": "code",
   "execution_count": 49,
   "metadata": {
    "collapsed": true
   },
   "outputs": [],
   "source": [
    "def move_to_price_folders(t, c):\n",
    "    t = t.title()\n",
    "    c = c.upper()\n",
    "    wp = glob.glob(workpath + t + '/' + c + '/' + '*/*')\n",
    "    for wp2 in wp:\n",
    "        for wp3 in glob.glob(wp2 + '/*'):\n",
    "            for file in glob.glob(wp3 + '/*'):    \n",
    "                if (os.path.isfile(file) == True):      \n",
    "                    if 'price' in json.loads(open(file).read()):\n",
    "                        price = json.loads(open(file).read())['price']\n",
    "                        shutil.move(file, (wp3 + '/' + price + '/' + os.path.basename(file)))  "
   ]
  },
  {
   "cell_type": "code",
   "execution_count": 50,
   "metadata": {
    "collapsed": false
   },
   "outputs": [],
   "source": [
    "for country in attraction_country_list:\n",
    "    move_to_price_folders('attractions', country)"
   ]
  },
  {
   "cell_type": "code",
   "execution_count": 51,
   "metadata": {
    "collapsed": false
   },
   "outputs": [],
   "source": [
    "for country in hotels_country_list:\n",
    "    move_to_price_folders('hotels', country)"
   ]
  },
  {
   "cell_type": "code",
   "execution_count": 54,
   "metadata": {
    "collapsed": false
   },
   "outputs": [],
   "source": [
    "for country in restaurants_country_list:\n",
    "    move_to_price_folders('restaurants', country)"
   ]
  },
  {
   "cell_type": "markdown",
   "metadata": {},
   "source": [
    "#### clean up empty rating folders"
   ]
  },
  {
   "cell_type": "code",
   "execution_count": 58,
   "metadata": {
    "collapsed": false
   },
   "outputs": [],
   "source": [
    "for a in glob.glob(workpath+'*'):\n",
    "    for b in glob.glob(a+'/*'):\n",
    "        for c in glob.glob(b+'/*'):\n",
    "            for d in glob.glob(c+'/*'):\n",
    "                for e in glob.glob(d+'/*'):\n",
    "                    if (os.path.isdir(e)):\n",
    "                        if len(os.listdir(e+'/')) == 0:\n",
    "                            os.rmdir(e)"
   ]
  },
  {
   "cell_type": "markdown",
   "metadata": {},
   "source": [
    " "
   ]
  }
 ],
 "metadata": {
  "anaconda-cloud": {},
  "kernelspec": {
   "display_name": "Python [conda root]",
   "language": "python",
   "name": "conda-root-py"
  },
  "language_info": {
   "codemirror_mode": {
    "name": "ipython",
    "version": 3
   },
   "file_extension": ".py",
   "mimetype": "text/x-python",
   "name": "python",
   "nbconvert_exporter": "python",
   "pygments_lexer": "ipython3",
   "version": "3.5.2"
  }
 },
 "nbformat": 4,
 "nbformat_minor": 1
}
