{
 "cells": [
  {
   "cell_type": "markdown",
   "metadata": {},
   "source": [
    "# Work with json and path"
   ]
  },
  {
   "cell_type": "markdown",
   "metadata": {},
   "source": [
    "## Part 2"
   ]
  },
  {
   "cell_type": "code",
   "execution_count": 1,
   "metadata": {
    "collapsed": true
   },
   "outputs": [],
   "source": [
    "import os\n",
    "import shutil\n",
    "import glob\n",
    "import fnmatch\n",
    "import json\n",
    "from nltk import FreqDist\n",
    "import csv"
   ]
  },
  {
   "cell_type": "markdown",
   "metadata": {},
   "source": [
    "#### move all restaurants json files to a new folder called Restaurants"
   ]
  },
  {
   "cell_type": "code",
   "execution_count": 2,
   "metadata": {
    "collapsed": true
   },
   "outputs": [],
   "source": [
    "def create_folder(fdr_path, fdr_name):\n",
    "    os.mkdir(os.path.join(fdr_path, fdr_name))"
   ]
  },
  {
   "cell_type": "code",
   "execution_count": 3,
   "metadata": {
    "collapsed": true
   },
   "outputs": [],
   "source": [
    "qpath = '/Users/Rui/Documents/INFO 7374/Assignment2/'"
   ]
  },
  {
   "cell_type": "code",
   "execution_count": 4,
   "metadata": {
    "collapsed": false
   },
   "outputs": [],
   "source": [
    "create_folder(qpath, 'Restaurants')"
   ]
  },
  {
   "cell_type": "code",
   "execution_count": 5,
   "metadata": {
    "collapsed": true
   },
   "outputs": [],
   "source": [
    "create_folder(qpath+'Restaurants','json files')"
   ]
  },
  {
   "cell_type": "code",
   "execution_count": 6,
   "metadata": {
    "collapsed": true
   },
   "outputs": [],
   "source": [
    "workpath = '/Users/Rui/Documents/INFO 7374/Assignment2/Restaurants/json files'\n",
    "rpath = '/Users/Rui/Documents/INFO 7374/Assignment 2 - Requirements/Data/'"
   ]
  },
  {
   "cell_type": "code",
   "execution_count": 7,
   "metadata": {
    "collapsed": false
   },
   "outputs": [],
   "source": [
    "allfiles = glob.glob(rpath+'*')\n",
    "\n",
    "for file in allfiles:\n",
    "    ft = json.loads(open(file).read())['term']\n",
    "    if ft=='restaurants':\n",
    "        shutil.copy(file, workpath)"
   ]
  },
  {
   "cell_type": "code",
   "execution_count": 8,
   "metadata": {
    "collapsed": false
   },
   "outputs": [
    {
     "name": "stdout",
     "output_type": "stream",
     "text": [
      "6372\n"
     ]
    }
   ],
   "source": [
    "allfiles = glob.glob(workpath+'/*')\n",
    "print(len(allfiles))"
   ]
  },
  {
   "cell_type": "markdown",
   "metadata": {},
   "source": [
    "#### create a csv file under Restaurants folder to for output and a function for writing to file"
   ]
  },
  {
   "cell_type": "code",
   "execution_count": 9,
   "metadata": {
    "collapsed": true
   },
   "outputs": [],
   "source": [
    "with open((qpath+'Restaurants/'+'RestaurantsOpenHours.csv'),'w+',newline='') as fp:\n",
    "    fieldnames = ['Name of restaurant','City','Country code','Day of week','Start time hour','Start time minute','End time hour','End time minute']\n",
    "    writer = csv.DictWriter(fp, fieldnames=fieldnames)\n",
    "    writer.writeheader() "
   ]
  },
  {
   "cell_type": "code",
   "execution_count": 10,
   "metadata": {
    "collapsed": true
   },
   "outputs": [],
   "source": [
    "def write_to_file(res_list):  #res_list is a list of dictionaries\n",
    "    with open((qpath+'Restaurants/'+'RestaurantsOpenHours.csv'),'a',newline='') as fp:   \n",
    "        fieldnames = ['Name of restaurant','City','Country code','Day of week','Start time hour','Start time minute','End time hour','End time minute']\n",
    "        writer = csv.DictWriter(fp, fieldnames=fieldnames)        \n",
    "        a = 0\n",
    "        while a < len(res_list):\n",
    "            writer.writerow(res_list[a])\n",
    "            a = a + 1"
   ]
  },
  {
   "cell_type": "markdown",
   "metadata": {},
   "source": [
    "#### try some examples..."
   ]
  },
  {
   "cell_type": "code",
   "execution_count": 11,
   "metadata": {
    "collapsed": false
   },
   "outputs": [
    {
     "name": "stdout",
     "output_type": "stream",
     "text": [
      "1 Abercrombie Lane\n",
      "Sydney\n",
      "AU\n",
      "[{'day': 0, 'end': '1530', 'is_overnight': False, 'start': '0730'}, {'day': 1, 'end': '1530', 'is_overnight': False, 'start': '0730'}, {'day': 2, 'end': '1530', 'is_overnight': False, 'start': '0730'}, {'day': 3, 'end': '1530', 'is_overnight': False, 'start': '0730'}, {'day': 4, 'end': '1530', 'is_overnight': False, 'start': '0730'}]\n",
      "{'day': 0, 'end': '1530', 'is_overnight': False, 'start': '0730'}\n",
      "0\n",
      "15\n",
      "30\n",
      "07\n",
      "30\n"
     ]
    }
   ],
   "source": [
    "print(json.loads(open(allfiles[0]).read())['name'])\n",
    "print(json.loads(open(allfiles[0]).read())['location']['city'])\n",
    "print(json.loads(open(allfiles[0]).read())['location']['country'])\n",
    "print(json.loads(open(allfiles[0]).read())['hours'][0]['open'])\n",
    "print(json.loads(open(allfiles[0]).read())['hours'][0]['open'][0])\n",
    "print(json.loads(open(allfiles[0]).read())['hours'][0]['open'][0]['day'])\n",
    "print(json.loads(open(allfiles[0]).read())['hours'][0]['open'][0]['end'][:2])\n",
    "print(json.loads(open(allfiles[0]).read())['hours'][0]['open'][0]['end'][2:])\n",
    "print(json.loads(open(allfiles[0]).read())['hours'][0]['open'][0]['start'][:2])\n",
    "print(json.loads(open(allfiles[0]).read())['hours'][0]['open'][0]['start'][2:])"
   ]
  },
  {
   "cell_type": "markdown",
   "metadata": {},
   "source": [
    "#### country and city are two common attributes shared by many files, thus I categorized allfiles into subfolders accordingly"
   ]
  },
  {
   "cell_type": "code",
   "execution_count": 12,
   "metadata": {
    "collapsed": false
   },
   "outputs": [],
   "source": [
    "wp = workpath +'/'\n",
    "country_list = []\n",
    "for file in glob.glob(wp+'*'):\n",
    "    country_list.append(json.loads(open(file).read())['location']['country'])\n",
    "country_list = FreqDist(country_list).most_common(100)\n",
    "for country in country_list:\n",
    "    create_folder(wp, country[0])"
   ]
  },
  {
   "cell_type": "code",
   "execution_count": 13,
   "metadata": {
    "collapsed": true
   },
   "outputs": [],
   "source": [
    "for file in glob.glob(wp+'*'):\n",
    "    if (os.path.isfile(file) == True):\n",
    "        fc = json.loads(open(file).read())['location']['country']\n",
    "        shutil.move(file, wp + fc + '/' + os.path.basename(file))"
   ]
  },
  {
   "cell_type": "code",
   "execution_count": 14,
   "metadata": {
    "collapsed": false
   },
   "outputs": [],
   "source": [
    "for folder in glob.glob(wp+'*'):\n",
    "    city_list =[]\n",
    "    for file in glob.glob(folder + '/*'):\n",
    "        if (os.path.isfile(file) == True):\n",
    "            city_list.append(json.loads(open(file).read())['location']['city'].title())\n",
    "    city_list = FreqDist(city_list).most_common(100)\n",
    "    for city in city_list:\n",
    "        create_folder(folder+'/', city[0])"
   ]
  },
  {
   "cell_type": "code",
   "execution_count": 15,
   "metadata": {
    "collapsed": false
   },
   "outputs": [],
   "source": [
    "for folder in glob.glob(wp+'*'):\n",
    "    for file in glob.glob(folder + '/*'): \n",
    "        if (os.path.isfile(file) == True):\n",
    "            fc = json.loads(open(file).read())['location']['city']\n",
    "            shutil.move(file, folder+'/'+fc+'/'+os.path.basename(file))     "
   ]
  },
  {
   "cell_type": "markdown",
   "metadata": {},
   "source": [
    "Dictionary must looks like this...<br>\n",
    "{'Name of restaurant':name,'City':city,'Country code':country,'Day of week':day,'Start time hour':s_hour,'Start time minute':s_min,'End time hour':e_hour,'End time minute':e_min}"
   ]
  },
  {
   "cell_type": "markdown",
   "metadata": {},
   "source": [
    "#### Actual Work\n",
    "loop through ['open'] dictionary and insert into my csv file"
   ]
  },
  {
   "cell_type": "code",
   "execution_count": 16,
   "metadata": {
    "collapsed": false
   },
   "outputs": [],
   "source": [
    "for country_folder in glob.glob(workpath+'/*'):\n",
    "    country = os.path.basename(country_folder)\n",
    "    for city_folder in glob.glob(country_folder+'/*'):\n",
    "        city = os.path.basename(city_folder)\n",
    "        for file in glob.glob(city_folder+'/*'):\n",
    "            file_list = []\n",
    "            name = json.loads(open(file).read())['name']\n",
    "            if 'hours' in json.loads(open(file).read()):            \n",
    "                open_info = json.loads(open(file).read())['hours'][0]['open']\n",
    "                for ed in open_info:\n",
    "                    day = ed['day']\n",
    "                    s_hour = ed['start'][:2]\n",
    "                    s_min = ed['start'][2:]\n",
    "                    e_hour = ed['end'][:2]\n",
    "                    e_min = ed['end'][2:]\n",
    "                    ed_dict = {'Name of restaurant':name,'City':city,'Country code':country,'Day of week':day,'Start time hour':s_hour,'Start time minute':s_min,'End time hour':e_hour,'End time minute':e_min}\n",
    "                    file_list.append(ed_dict)\n",
    "            write_to_file(file_list)"
   ]
  },
  {
   "cell_type": "markdown",
   "metadata": {},
   "source": [
    "1. the leading 0 for minutes were actually written to csv file but was dropped as soon as the file was opened.<br>\n",
    "2. one way to solve the problem is to open the file with texteditor, save the file with txt extension.<br>\n",
    "3. open the txt file again in excel, select first column -> Data-> Text to columns -> Delimited-> Comma-> Text-> Finish<br>\n",
    "4. then save the file to xlsx..."
   ]
  },
  {
   "cell_type": "code",
   "execution_count": null,
   "metadata": {
    "collapsed": true
   },
   "outputs": [],
   "source": []
  },
  {
   "cell_type": "code",
   "execution_count": null,
   "metadata": {
    "collapsed": true
   },
   "outputs": [],
   "source": []
  }
 ],
 "metadata": {
  "anaconda-cloud": {},
  "kernelspec": {
   "display_name": "Python [conda root]",
   "language": "python",
   "name": "conda-root-py"
  },
  "language_info": {
   "codemirror_mode": {
    "name": "ipython",
    "version": 3
   },
   "file_extension": ".py",
   "mimetype": "text/x-python",
   "name": "python",
   "nbconvert_exporter": "python",
   "pygments_lexer": "ipython3",
   "version": "3.5.2"
  }
 },
 "nbformat": 4,
 "nbformat_minor": 1
}
