{
 "cells": [
  {
   "cell_type": "markdown",
   "metadata": {},
   "source": []
  },
  {
   "cell_type": "code",
   "execution_count": 1,
   "metadata": {
    "collapsed": true
   },
   "outputs": [],
   "source": [
    "from pandas import Series, DataFrame\n",
    "import pandas as pd\n",
    "import os\n",
    "import numpy as np"
   ]
  },
  {
   "cell_type": "code",
   "execution_count": 5,
   "metadata": {
    "collapsed": false
   },
   "outputs": [
    {
     "data": {
      "text/plain": [
       "Year Type                                                  Calendar\n",
       "Year                                                           2016\n",
       "Organization Group Code                                           3\n",
       "Organization Group         Human Welfare & Neighborhood Development\n",
       "Department Code                                                 WOM\n",
       "Department                        Department of the Status of Women\n",
       "Union Code                                                      323\n",
       "Union                             Members of Boards and Commissions\n",
       "Job Family Code                                                0900\n",
       "Job Family                                               Management\n",
       "Job Code                                                       0111\n",
       "Job                                      Bdcomm Mbr, Grp2,M=$25/Mtg\n",
       "Employee Identifier                                           33958\n",
       "Salaries                                                        200\n",
       "Overtime                                                          0\n",
       "Other Salaries                                                    0\n",
       "Total Salary                                                    200\n",
       "Retirement                                                        0\n",
       "Health/Dental                                                 51.45\n",
       "Other Benefits                                                15.83\n",
       "Total Benefits                                                67.28\n",
       "Total Compensation                                           267.28\n",
       "Name: 2, dtype: object"
      ]
     },
     "execution_count": 5,
     "metadata": {},
     "output_type": "execute_result"
    }
   ],
   "source": [
    "df_origin = pd.read_csv(os.getcwd() + '/Data/employee_compensation.csv')\n",
    "df_origin.ix[2]"
   ]
  },
  {
   "cell_type": "markdown",
   "metadata": {},
   "source": [
    "\\>1"
   ]
  },
  {
   "cell_type": "code",
   "execution_count": 72,
   "metadata": {
    "collapsed": false
   },
   "outputs": [
    {
     "data": {
      "text/html": [
       "<div>\n",
       "<table border=\"1\" class=\"dataframe\">\n",
       "  <thead>\n",
       "    <tr style=\"text-align: right;\">\n",
       "      <th></th>\n",
       "      <th>Year Type</th>\n",
       "      <th>Year</th>\n",
       "      <th>Organization Group Code</th>\n",
       "      <th>Organization Group</th>\n",
       "      <th>Department Code</th>\n",
       "      <th>Department</th>\n",
       "      <th>Union Code</th>\n",
       "      <th>Union</th>\n",
       "      <th>Job Family Code</th>\n",
       "      <th>Job Family</th>\n",
       "      <th>...</th>\n",
       "      <th>Employee Identifier</th>\n",
       "      <th>Salaries</th>\n",
       "      <th>Overtime</th>\n",
       "      <th>Other Salaries</th>\n",
       "      <th>Total Salary</th>\n",
       "      <th>Retirement</th>\n",
       "      <th>Health/Dental</th>\n",
       "      <th>Other Benefits</th>\n",
       "      <th>Total Benefits</th>\n",
       "      <th>Total Compensation</th>\n",
       "    </tr>\n",
       "  </thead>\n",
       "  <tbody>\n",
       "    <tr>\n",
       "      <th>0</th>\n",
       "      <td>Calendar</td>\n",
       "      <td>2013</td>\n",
       "      <td>2</td>\n",
       "      <td>Public Works, Transportation &amp; Commerce</td>\n",
       "      <td>AIR</td>\n",
       "      <td>Airport Commission</td>\n",
       "      <td>38.0</td>\n",
       "      <td>Plumbers and Pipefitters, Local 38</td>\n",
       "      <td>7300</td>\n",
       "      <td>Journeyman Trade</td>\n",
       "      <td>...</td>\n",
       "      <td>52206</td>\n",
       "      <td>98528.52</td>\n",
       "      <td>0.00</td>\n",
       "      <td>3955.59</td>\n",
       "      <td>102484.11</td>\n",
       "      <td>20142.55</td>\n",
       "      <td>12918.24</td>\n",
       "      <td>8371.76</td>\n",
       "      <td>41432.55</td>\n",
       "      <td>143916.66</td>\n",
       "    </tr>\n",
       "    <tr>\n",
       "      <th>2</th>\n",
       "      <td>Calendar</td>\n",
       "      <td>2016</td>\n",
       "      <td>3</td>\n",
       "      <td>Human Welfare &amp; Neighborhood Development</td>\n",
       "      <td>WOM</td>\n",
       "      <td>Department of the Status of Women</td>\n",
       "      <td>323.0</td>\n",
       "      <td>Members of Boards and Commissions</td>\n",
       "      <td>0900</td>\n",
       "      <td>Management</td>\n",
       "      <td>...</td>\n",
       "      <td>33958</td>\n",
       "      <td>200.00</td>\n",
       "      <td>0.00</td>\n",
       "      <td>0.00</td>\n",
       "      <td>200.00</td>\n",
       "      <td>0.00</td>\n",
       "      <td>51.45</td>\n",
       "      <td>15.83</td>\n",
       "      <td>67.28</td>\n",
       "      <td>267.28</td>\n",
       "    </tr>\n",
       "    <tr>\n",
       "      <th>3</th>\n",
       "      <td>Calendar</td>\n",
       "      <td>2016</td>\n",
       "      <td>6</td>\n",
       "      <td>General Administration &amp; Finance</td>\n",
       "      <td>HRD</td>\n",
       "      <td>Human Resources</td>\n",
       "      <td>790.0</td>\n",
       "      <td>SEIU - Miscellaneous, Local 1021</td>\n",
       "      <td>8100</td>\n",
       "      <td>Legal &amp; Court</td>\n",
       "      <td>...</td>\n",
       "      <td>33073</td>\n",
       "      <td>1783.00</td>\n",
       "      <td>0.00</td>\n",
       "      <td>0.00</td>\n",
       "      <td>1783.00</td>\n",
       "      <td>325.05</td>\n",
       "      <td>257.23</td>\n",
       "      <td>153.85</td>\n",
       "      <td>736.13</td>\n",
       "      <td>2519.13</td>\n",
       "    </tr>\n",
       "    <tr>\n",
       "      <th>5</th>\n",
       "      <td>Calendar</td>\n",
       "      <td>2016</td>\n",
       "      <td>2</td>\n",
       "      <td>Public Works, Transportation &amp; Commerce</td>\n",
       "      <td>DBI</td>\n",
       "      <td>Department of Building Inspection</td>\n",
       "      <td>790.0</td>\n",
       "      <td>SEIU - Miscellaneous, Local 1021</td>\n",
       "      <td>1400</td>\n",
       "      <td>Clerical, Secretarial &amp; Steno</td>\n",
       "      <td>...</td>\n",
       "      <td>23930</td>\n",
       "      <td>80207.24</td>\n",
       "      <td>2232.53</td>\n",
       "      <td>1568.00</td>\n",
       "      <td>84007.77</td>\n",
       "      <td>15064.98</td>\n",
       "      <td>13890.29</td>\n",
       "      <td>6888.51</td>\n",
       "      <td>35843.78</td>\n",
       "      <td>119851.55</td>\n",
       "    </tr>\n",
       "  </tbody>\n",
       "</table>\n",
       "<p>4 rows × 22 columns</p>\n",
       "</div>"
      ],
      "text/plain": [
       "  Year Type  Year  Organization Group Code  \\\n",
       "0  Calendar  2013                        2   \n",
       "2  Calendar  2016                        3   \n",
       "3  Calendar  2016                        6   \n",
       "5  Calendar  2016                        2   \n",
       "\n",
       "                         Organization Group Department Code  \\\n",
       "0   Public Works, Transportation & Commerce             AIR   \n",
       "2  Human Welfare & Neighborhood Development             WOM   \n",
       "3          General Administration & Finance             HRD   \n",
       "5   Public Works, Transportation & Commerce             DBI   \n",
       "\n",
       "                          Department  Union Code  \\\n",
       "0                 Airport Commission        38.0   \n",
       "2  Department of the Status of Women       323.0   \n",
       "3                    Human Resources       790.0   \n",
       "5  Department of Building Inspection       790.0   \n",
       "\n",
       "                                Union Job Family Code  \\\n",
       "0  Plumbers and Pipefitters, Local 38            7300   \n",
       "2   Members of Boards and Commissions            0900   \n",
       "3    SEIU - Miscellaneous, Local 1021            8100   \n",
       "5    SEIU - Miscellaneous, Local 1021            1400   \n",
       "\n",
       "                      Job Family         ...         Employee Identifier  \\\n",
       "0               Journeyman Trade         ...                       52206   \n",
       "2                     Management         ...                       33958   \n",
       "3                  Legal & Court         ...                       33073   \n",
       "5  Clerical, Secretarial & Steno         ...                       23930   \n",
       "\n",
       "   Salaries  Overtime  Other Salaries  Total Salary  Retirement  \\\n",
       "0  98528.52      0.00         3955.59     102484.11    20142.55   \n",
       "2    200.00      0.00            0.00        200.00        0.00   \n",
       "3   1783.00      0.00            0.00       1783.00      325.05   \n",
       "5  80207.24   2232.53         1568.00      84007.77    15064.98   \n",
       "\n",
       "   Health/Dental  Other Benefits  Total Benefits  Total Compensation  \n",
       "0       12918.24         8371.76        41432.55           143916.66  \n",
       "2          51.45           15.83           67.28              267.28  \n",
       "3         257.23          153.85          736.13             2519.13  \n",
       "5       13890.29         6888.51        35843.78           119851.55  \n",
       "\n",
       "[4 rows x 22 columns]"
      ]
     },
     "execution_count": 72,
     "metadata": {},
     "output_type": "execute_result"
    }
   ],
   "source": [
    "df_1 = df_origin[df_origin['Year Type']=='Calendar']\n",
    "df_1.head(4)"
   ]
  },
  {
   "cell_type": "code",
   "execution_count": 73,
   "metadata": {
    "collapsed": false,
    "scrolled": true
   },
   "outputs": [
    {
     "data": {
      "text/html": [
       "<div>\n",
       "<table border=\"1\" class=\"dataframe\">\n",
       "  <thead>\n",
       "    <tr style=\"text-align: right;\">\n",
       "      <th></th>\n",
       "      <th>Salaries</th>\n",
       "      <th>Overtime</th>\n",
       "      <th>Other Salaries</th>\n",
       "      <th>Total Salary</th>\n",
       "      <th>Retirement</th>\n",
       "      <th>Health/Dental</th>\n",
       "      <th>Other Benefits</th>\n",
       "      <th>Total Benefits</th>\n",
       "      <th>Total Compensation</th>\n",
       "    </tr>\n",
       "    <tr>\n",
       "      <th>Employee Identifier</th>\n",
       "      <th></th>\n",
       "      <th></th>\n",
       "      <th></th>\n",
       "      <th></th>\n",
       "      <th></th>\n",
       "      <th></th>\n",
       "      <th></th>\n",
       "      <th></th>\n",
       "      <th></th>\n",
       "    </tr>\n",
       "  </thead>\n",
       "  <tbody>\n",
       "    <tr>\n",
       "      <th>1</th>\n",
       "      <td>40334.303333</td>\n",
       "      <td>0.00</td>\n",
       "      <td>29.673333</td>\n",
       "      <td>40363.976667</td>\n",
       "      <td>8415.146667</td>\n",
       "      <td>8626.160</td>\n",
       "      <td>3172.630</td>\n",
       "      <td>20213.936667</td>\n",
       "      <td>60577.913333</td>\n",
       "    </tr>\n",
       "    <tr>\n",
       "      <th>2</th>\n",
       "      <td>11061.700000</td>\n",
       "      <td>0.00</td>\n",
       "      <td>0.000000</td>\n",
       "      <td>11061.700000</td>\n",
       "      <td>2058.580000</td>\n",
       "      <td>1768.100</td>\n",
       "      <td>853.530</td>\n",
       "      <td>4680.210000</td>\n",
       "      <td>15741.910000</td>\n",
       "    </tr>\n",
       "    <tr>\n",
       "      <th>3</th>\n",
       "      <td>13722.000000</td>\n",
       "      <td>964.83</td>\n",
       "      <td>0.000000</td>\n",
       "      <td>14686.830000</td>\n",
       "      <td>2498.760000</td>\n",
       "      <td>2870.730</td>\n",
       "      <td>1181.230</td>\n",
       "      <td>6550.720000</td>\n",
       "      <td>21237.550000</td>\n",
       "    </tr>\n",
       "    <tr>\n",
       "      <th>4</th>\n",
       "      <td>18574.880000</td>\n",
       "      <td>0.00</td>\n",
       "      <td>210.000000</td>\n",
       "      <td>18784.880000</td>\n",
       "      <td>1463.340000</td>\n",
       "      <td>4829.960</td>\n",
       "      <td>1448.095</td>\n",
       "      <td>7741.395000</td>\n",
       "      <td>26526.275000</td>\n",
       "    </tr>\n",
       "    <tr>\n",
       "      <th>5</th>\n",
       "      <td>19525.227500</td>\n",
       "      <td>0.00</td>\n",
       "      <td>5.177500</td>\n",
       "      <td>19530.405000</td>\n",
       "      <td>0.000000</td>\n",
       "      <td>1341.605</td>\n",
       "      <td>1543.940</td>\n",
       "      <td>2885.545000</td>\n",
       "      <td>22415.950000</td>\n",
       "    </tr>\n",
       "  </tbody>\n",
       "</table>\n",
       "</div>"
      ],
      "text/plain": [
       "                         Salaries  Overtime  Other Salaries  Total Salary  \\\n",
       "Employee Identifier                                                         \n",
       "1                    40334.303333      0.00       29.673333  40363.976667   \n",
       "2                    11061.700000      0.00        0.000000  11061.700000   \n",
       "3                    13722.000000    964.83        0.000000  14686.830000   \n",
       "4                    18574.880000      0.00      210.000000  18784.880000   \n",
       "5                    19525.227500      0.00        5.177500  19530.405000   \n",
       "\n",
       "                      Retirement  Health/Dental  Other Benefits  \\\n",
       "Employee Identifier                                               \n",
       "1                    8415.146667       8626.160        3172.630   \n",
       "2                    2058.580000       1768.100         853.530   \n",
       "3                    2498.760000       2870.730        1181.230   \n",
       "4                    1463.340000       4829.960        1448.095   \n",
       "5                       0.000000       1341.605        1543.940   \n",
       "\n",
       "                     Total Benefits  Total Compensation  \n",
       "Employee Identifier                                      \n",
       "1                      20213.936667        60577.913333  \n",
       "2                       4680.210000        15741.910000  \n",
       "3                       6550.720000        21237.550000  \n",
       "4                       7741.395000        26526.275000  \n",
       "5                       2885.545000        22415.950000  "
      ]
     },
     "execution_count": 73,
     "metadata": {},
     "output_type": "execute_result"
    }
   ],
   "source": [
    "df_1 = df_1.iloc[:,8:22]\n",
    "df_1.groupby('Employee Identifier').mean().head(5)"
   ]
  },
  {
   "cell_type": "code",
   "execution_count": 74,
   "metadata": {
    "collapsed": false
   },
   "outputs": [
    {
     "data": {
      "text/plain": [
       "(52706, 9)"
      ]
     },
     "execution_count": 74,
     "metadata": {},
     "output_type": "execute_result"
    }
   ],
   "source": [
    "df_1.groupby('Employee Identifier').mean().shape"
   ]
  },
  {
   "cell_type": "code",
   "execution_count": 75,
   "metadata": {
    "collapsed": false
   },
   "outputs": [
    {
     "data": {
      "text/plain": [
       "(168882, 14)"
      ]
     },
     "execution_count": 75,
     "metadata": {},
     "output_type": "execute_result"
    }
   ],
   "source": [
    "df_1.shape"
   ]
  },
  {
   "cell_type": "markdown",
   "metadata": {},
   "source": [
    "\\>2"
   ]
  },
  {
   "cell_type": "code",
   "execution_count": 76,
   "metadata": {
    "collapsed": false
   },
   "outputs": [
    {
     "data": {
      "text/html": [
       "<div>\n",
       "<table border=\"1\" class=\"dataframe\">\n",
       "  <thead>\n",
       "    <tr style=\"text-align: right;\">\n",
       "      <th></th>\n",
       "      <th>Job Family Code</th>\n",
       "      <th>Job Family</th>\n",
       "      <th>Job Code</th>\n",
       "      <th>Job</th>\n",
       "      <th>Employee Identifier</th>\n",
       "      <th>Salaries</th>\n",
       "      <th>Overtime</th>\n",
       "      <th>Other Salaries</th>\n",
       "      <th>Total Salary</th>\n",
       "      <th>Retirement</th>\n",
       "      <th>Health/Dental</th>\n",
       "      <th>Other Benefits</th>\n",
       "      <th>Total Benefits</th>\n",
       "      <th>Total Compensation</th>\n",
       "    </tr>\n",
       "  </thead>\n",
       "  <tbody>\n",
       "    <tr>\n",
       "      <th>14</th>\n",
       "      <td>3400</td>\n",
       "      <td>Agriculture &amp; Horticulture</td>\n",
       "      <td>3417</td>\n",
       "      <td>Gardener</td>\n",
       "      <td>23029</td>\n",
       "      <td>63978.00</td>\n",
       "      <td>17039.61</td>\n",
       "      <td>2184.23</td>\n",
       "      <td>83201.84</td>\n",
       "      <td>14287.99</td>\n",
       "      <td>13054.95</td>\n",
       "      <td>6721.63</td>\n",
       "      <td>34064.57</td>\n",
       "      <td>117266.41</td>\n",
       "    </tr>\n",
       "    <tr>\n",
       "      <th>23</th>\n",
       "      <td>7100</td>\n",
       "      <td>Administrative-Labor &amp; Trades</td>\n",
       "      <td>7120</td>\n",
       "      <td>Bldgs &amp; Grounds Maint Supt</td>\n",
       "      <td>20763</td>\n",
       "      <td>133977.95</td>\n",
       "      <td>20699.15</td>\n",
       "      <td>0.00</td>\n",
       "      <td>154677.10</td>\n",
       "      <td>24039.10</td>\n",
       "      <td>13890.30</td>\n",
       "      <td>10671.44</td>\n",
       "      <td>48600.84</td>\n",
       "      <td>203277.94</td>\n",
       "    </tr>\n",
       "  </tbody>\n",
       "</table>\n",
       "</div>"
      ],
      "text/plain": [
       "   Job Family Code                     Job Family Job Code  \\\n",
       "14            3400     Agriculture & Horticulture     3417   \n",
       "23            7100  Administrative-Labor & Trades     7120   \n",
       "\n",
       "                           Job  Employee Identifier   Salaries  Overtime  \\\n",
       "14                    Gardener                23029   63978.00  17039.61   \n",
       "23  Bldgs & Grounds Maint Supt                20763  133977.95  20699.15   \n",
       "\n",
       "    Other Salaries  Total Salary  Retirement  Health/Dental  Other Benefits  \\\n",
       "14         2184.23      83201.84    14287.99       13054.95         6721.63   \n",
       "23            0.00     154677.10    24039.10       13890.30        10671.44   \n",
       "\n",
       "    Total Benefits  Total Compensation  \n",
       "14        34064.57           117266.41  \n",
       "23        48600.84           203277.94  "
      ]
     },
     "execution_count": 76,
     "metadata": {},
     "output_type": "execute_result"
    }
   ],
   "source": [
    "df_1[df_1['Overtime']>df_1['Salaries']*0.05].head(2)"
   ]
  },
  {
   "cell_type": "code",
   "execution_count": 87,
   "metadata": {
    "collapsed": false
   },
   "outputs": [
    {
     "data": {
      "text/html": [
       "<div>\n",
       "<table border=\"1\" class=\"dataframe\">\n",
       "  <thead>\n",
       "    <tr style=\"text-align: right;\">\n",
       "      <th></th>\n",
       "      <th>Job Family Code</th>\n",
       "      <th>Job Family</th>\n",
       "      <th>Job Code</th>\n",
       "      <th>Job</th>\n",
       "      <th>Employee Identifier</th>\n",
       "      <th>Salaries</th>\n",
       "      <th>Overtime</th>\n",
       "      <th>Other Salaries</th>\n",
       "      <th>Total Salary</th>\n",
       "      <th>Retirement</th>\n",
       "      <th>Health/Dental</th>\n",
       "      <th>Other Benefits</th>\n",
       "      <th>Total Benefits</th>\n",
       "      <th>Total Compensation</th>\n",
       "    </tr>\n",
       "  </thead>\n",
       "  <tbody>\n",
       "    <tr>\n",
       "      <th>14</th>\n",
       "      <td>3400</td>\n",
       "      <td>Agriculture &amp; Horticulture</td>\n",
       "      <td>3417</td>\n",
       "      <td>Gardener</td>\n",
       "      <td>23029</td>\n",
       "      <td>63978.00</td>\n",
       "      <td>17039.61</td>\n",
       "      <td>2184.23</td>\n",
       "      <td>83201.84</td>\n",
       "      <td>14287.99</td>\n",
       "      <td>13054.95</td>\n",
       "      <td>6721.63</td>\n",
       "      <td>34064.57</td>\n",
       "      <td>117266.41</td>\n",
       "    </tr>\n",
       "    <tr>\n",
       "      <th>23</th>\n",
       "      <td>7100</td>\n",
       "      <td>Administrative-Labor &amp; Trades</td>\n",
       "      <td>7120</td>\n",
       "      <td>Bldgs &amp; Grounds Maint Supt</td>\n",
       "      <td>20763</td>\n",
       "      <td>133977.95</td>\n",
       "      <td>20699.15</td>\n",
       "      <td>0.00</td>\n",
       "      <td>154677.10</td>\n",
       "      <td>24039.10</td>\n",
       "      <td>13890.30</td>\n",
       "      <td>10671.44</td>\n",
       "      <td>48600.84</td>\n",
       "      <td>203277.94</td>\n",
       "    </tr>\n",
       "    <tr>\n",
       "      <th>38</th>\n",
       "      <td>7300</td>\n",
       "      <td>Journeyman Trade</td>\n",
       "      <td>7372</td>\n",
       "      <td>Stationary Eng, Sewage Plant</td>\n",
       "      <td>8705</td>\n",
       "      <td>86530.02</td>\n",
       "      <td>17962.95</td>\n",
       "      <td>10555.21</td>\n",
       "      <td>115048.18</td>\n",
       "      <td>18665.90</td>\n",
       "      <td>12918.24</td>\n",
       "      <td>9328.44</td>\n",
       "      <td>40912.58</td>\n",
       "      <td>155960.76</td>\n",
       "    </tr>\n",
       "  </tbody>\n",
       "</table>\n",
       "</div>"
      ],
      "text/plain": [
       "   Job Family Code                     Job Family Job Code  \\\n",
       "14            3400     Agriculture & Horticulture     3417   \n",
       "23            7100  Administrative-Labor & Trades     7120   \n",
       "38            7300               Journeyman Trade     7372   \n",
       "\n",
       "                             Job  Employee Identifier   Salaries  Overtime  \\\n",
       "14                      Gardener                23029   63978.00  17039.61   \n",
       "23    Bldgs & Grounds Maint Supt                20763  133977.95  20699.15   \n",
       "38  Stationary Eng, Sewage Plant                 8705   86530.02  17962.95   \n",
       "\n",
       "    Other Salaries  Total Salary  Retirement  Health/Dental  Other Benefits  \\\n",
       "14         2184.23      83201.84    14287.99       13054.95         6721.63   \n",
       "23            0.00     154677.10    24039.10       13890.30        10671.44   \n",
       "38        10555.21     115048.18    18665.90       12918.24         9328.44   \n",
       "\n",
       "    Total Benefits  Total Compensation  \n",
       "14        34064.57           117266.41  \n",
       "23        48600.84           203277.94  \n",
       "38        40912.58           155960.76  "
      ]
     },
     "execution_count": 87,
     "metadata": {},
     "output_type": "execute_result"
    }
   ],
   "source": [
    "df_1[df_1['Overtime']>df_1['Salaries']*0.05].head(3)"
   ]
  },
  {
   "cell_type": "code",
   "execution_count": 88,
   "metadata": {
    "collapsed": true
   },
   "outputs": [],
   "source": [
    "s_bool = df_1['Overtime']>df_1['Salaries']*0.05"
   ]
  },
  {
   "cell_type": "markdown",
   "metadata": {},
   "source": [
    "\\>3"
   ]
  },
  {
   "cell_type": "code",
   "execution_count": null,
   "metadata": {
    "collapsed": false
   },
   "outputs": [],
   "source": []
  },
  {
   "cell_type": "code",
   "execution_count": null,
   "metadata": {
    "collapsed": true
   },
   "outputs": [],
   "source": []
  },
  {
   "cell_type": "code",
   "execution_count": null,
   "metadata": {
    "collapsed": true
   },
   "outputs": [],
   "source": []
  },
  {
   "cell_type": "code",
   "execution_count": null,
   "metadata": {
    "collapsed": true
   },
   "outputs": [],
   "source": []
  },
  {
   "cell_type": "code",
   "execution_count": null,
   "metadata": {
    "collapsed": true
   },
   "outputs": [],
   "source": []
  },
  {
   "cell_type": "code",
   "execution_count": null,
   "metadata": {
    "collapsed": true
   },
   "outputs": [],
   "source": []
  },
  {
   "cell_type": "code",
   "execution_count": null,
   "metadata": {
    "collapsed": true
   },
   "outputs": [],
   "source": []
  }
 ],
 "metadata": {
  "kernelspec": {
   "display_name": "Python [conda root]",
   "language": "python",
   "name": "conda-root-py"
  },
  "language_info": {
   "codemirror_mode": {
    "name": "ipython",
    "version": 3
   },
   "file_extension": ".py",
   "mimetype": "text/x-python",
   "name": "python",
   "nbconvert_exporter": "python",
   "pygments_lexer": "ipython3",
   "version": "3.5.2"
  }
 },
 "nbformat": 4,
 "nbformat_minor": 1
}
