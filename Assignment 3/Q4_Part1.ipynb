{
 "cells": [
  {
   "cell_type": "markdown",
   "metadata": {},
   "source": [
    "1. The first step is always take a look at the data\n",
    "2. Clean and reshape dataframe to the format that I can start working<br>\n",
    "    \\* two marjor formats:<br>\n",
    "    \\* Won/Nominated for xxx. Another x wins & y nominations <br>\n",
    "    \\* x wins & y nominations\n",
    "3. The 'Awards_won' and 'Awards_nomitated' column is a sum of both Won/Nominated for and another (...)."
   ]
  },
  {
   "cell_type": "markdown",
   "metadata": {},
   "source": [
    "### Step 1"
   ]
  },
  {
   "cell_type": "code",
   "execution_count": 1,
   "metadata": {
    "collapsed": true
   },
   "outputs": [],
   "source": [
    "from pandas import Series, DataFrame\n",
    "import pandas as pd\n",
    "import os\n",
    "import numpy as np"
   ]
  },
  {
   "cell_type": "code",
   "execution_count": 2,
   "metadata": {
    "collapsed": false,
    "scrolled": true
   },
   "outputs": [
    {
     "data": {
      "text/html": [
       "<div>\n",
       "<table border=\"1\" class=\"dataframe\">\n",
       "  <thead>\n",
       "    <tr style=\"text-align: right;\">\n",
       "      <th></th>\n",
       "      <th>totalSeasons</th>\n",
       "      <th>Plot</th>\n",
       "      <th>Rated</th>\n",
       "      <th>Response</th>\n",
       "      <th>Language</th>\n",
       "      <th>Title</th>\n",
       "      <th>Country</th>\n",
       "      <th>Writer</th>\n",
       "      <th>Metascore</th>\n",
       "      <th>imdbRating</th>\n",
       "      <th>...</th>\n",
       "      <th>Released</th>\n",
       "      <th>Actors</th>\n",
       "      <th>Year</th>\n",
       "      <th>Genre</th>\n",
       "      <th>Awards</th>\n",
       "      <th>Runtime</th>\n",
       "      <th>Type</th>\n",
       "      <th>Poster</th>\n",
       "      <th>imdbVotes</th>\n",
       "      <th>imdbID</th>\n",
       "    </tr>\n",
       "  </thead>\n",
       "  <tbody>\n",
       "    <tr>\n",
       "      <th>0</th>\n",
       "      <td>none</td>\n",
       "      <td>NaN</td>\n",
       "      <td>NaN</td>\n",
       "      <td>True</td>\n",
       "      <td>English</td>\n",
       "      <td>Book of Love: The Definitive Reason Why Men Ar...</td>\n",
       "      <td>USA</td>\n",
       "      <td>Jeffrey W. Byrd; Eric George</td>\n",
       "      <td>NaN</td>\n",
       "      <td>6.6</td>\n",
       "      <td>...</td>\n",
       "      <td>14 Feb 2002</td>\n",
       "      <td>40 Glocc; Angelle Brooks; David Brown; Qadr Ca...</td>\n",
       "      <td>2002</td>\n",
       "      <td>Romance; Comedy</td>\n",
       "      <td>NaN</td>\n",
       "      <td>91 min</td>\n",
       "      <td>movie</td>\n",
       "      <td>NaN</td>\n",
       "      <td>79.0</td>\n",
       "      <td>tt0156376</td>\n",
       "    </tr>\n",
       "  </tbody>\n",
       "</table>\n",
       "<p>1 rows × 21 columns</p>\n",
       "</div>"
      ],
      "text/plain": [
       "  totalSeasons Plot Rated Response Language  \\\n",
       "0         none  NaN   NaN     True  English   \n",
       "\n",
       "                                               Title Country  \\\n",
       "0  Book of Love: The Definitive Reason Why Men Ar...     USA   \n",
       "\n",
       "                         Writer  Metascore  imdbRating    ...      \\\n",
       "0  Jeffrey W. Byrd; Eric George        NaN         6.6    ...       \n",
       "\n",
       "      Released                                             Actors  Year  \\\n",
       "0  14 Feb 2002  40 Glocc; Angelle Brooks; David Brown; Qadr Ca...  2002   \n",
       "\n",
       "             Genre Awards Runtime   Type Poster imdbVotes     imdbID  \n",
       "0  Romance; Comedy    NaN  91 min  movie    NaN      79.0  tt0156376  \n",
       "\n",
       "[1 rows x 21 columns]"
      ]
     },
     "execution_count": 2,
     "metadata": {},
     "output_type": "execute_result"
    }
   ],
   "source": [
    "df_origin = pd.read_csv(os.getcwd() + '/Data/movies_awards.csv')\n",
    "df_origin.head(1)"
   ]
  },
  {
   "cell_type": "code",
   "execution_count": 3,
   "metadata": {
    "collapsed": false
   },
   "outputs": [
    {
     "data": {
      "text/plain": [
       "3                                 1 win & 2 nominations.\n",
       "4                                                 1 win.\n",
       "5                                          1 nomination.\n",
       "6                                3 wins & 2 nominations.\n",
       "7                                  1 win & 1 nomination.\n",
       "11                                        5 nominations.\n",
       "13                               2 wins & 5 nominations.\n",
       "15     Nominated for 1 Oscar. Another 13 wins & 13 no...\n",
       "18                               5 wins & 4 nominations.\n",
       "24     Nominated for 1 Golden Globe. Another 14 wins ...\n",
       "25                               3 wins & 2 nominations.\n",
       "28                                         1 nomination.\n",
       "31                                        5 nominations.\n",
       "34                                1 win & 2 nominations.\n",
       "37                             22 wins & 44 nominations.\n",
       "38                                1 win & 3 nominations.\n",
       "39                                1 win & 8 nominations.\n",
       "43                                        2 nominations.\n",
       "47                                6 wins & 1 nomination.\n",
       "50     Won 2 Golden Globes. Another 68 wins & 201 nom...\n",
       "51     Won 1 Golden Globe. Another 31 wins & 143 nomi...\n",
       "53     Nominated for 4 Primetime Emmys. Another 16 no...\n",
       "54                               3 wins & 2 nominations.\n",
       "56                               3 wins & 6 nominations.\n",
       "62                                               2 wins.\n",
       "69                               6 wins & 4 nominations.\n",
       "72                               7 wins & 6 nominations.\n",
       "76                              9 wins & 30 nominations.\n",
       "79     Won 1 Primetime Emmy. Another 1 win & 6 nomina...\n",
       "84                                         1 nomination.\n",
       "87     Nominated for 3 BAFTA Film Awards. Another 11 ...\n",
       "88                                        6 nominations.\n",
       "90                                1 win & 4 nominations.\n",
       "91                               2 wins & 5 nominations.\n",
       "94                             14 wins & 11 nominations.\n",
       "97                                 1 win & 1 nomination.\n",
       "102                               1 win & 2 nominations.\n",
       "116                                       2 nominations.\n",
       "117                              3 wins & 3 nominations.\n",
       "118    Nominated for 1 Golden Globe. Another 2 wins &...\n",
       "121                                              2 wins.\n",
       "134    Nominated for 1 Primetime Emmy. Another 1 nomi...\n",
       "135                               3 wins & 1 nomination.\n",
       "138                                1 win & 1 nomination.\n",
       "139                                        1 nomination.\n",
       "146                                              2 wins.\n",
       "150                                        1 nomination.\n",
       "152                              9 wins & 8 nominations.\n",
       "162                                               1 win.\n",
       "164                                               1 win.\n",
       "Name: Awards, dtype: object"
      ]
     },
     "execution_count": 3,
     "metadata": {},
     "output_type": "execute_result"
    }
   ],
   "source": [
    "df_origin.ix[:,'Awards'].dropna().head(50)"
   ]
  },
  {
   "cell_type": "code",
   "execution_count": 4,
   "metadata": {
    "collapsed": false
   },
   "outputs": [
    {
     "data": {
      "text/plain": [
       "'Nominated for 3 Oscars. Another 13 wins & 40 nominations.'"
      ]
     },
     "execution_count": 4,
     "metadata": {},
     "output_type": "execute_result"
    }
   ],
   "source": [
    "df_origin.ix[1221,'Awards']"
   ]
  },
  {
   "cell_type": "markdown",
   "metadata": {},
   "source": [
    "### Step 2"
   ]
  },
  {
   "cell_type": "markdown",
   "metadata": {},
   "source": [
    "Narrow columns"
   ]
  },
  {
   "cell_type": "code",
   "execution_count": 5,
   "metadata": {
    "collapsed": false
   },
   "outputs": [
    {
     "data": {
      "text/html": [
       "<div>\n",
       "<table border=\"1\" class=\"dataframe\">\n",
       "  <thead>\n",
       "    <tr style=\"text-align: right;\">\n",
       "      <th></th>\n",
       "      <th>Title</th>\n",
       "      <th>Awards</th>\n",
       "    </tr>\n",
       "  </thead>\n",
       "  <tbody>\n",
       "    <tr>\n",
       "      <th>3</th>\n",
       "      <td>Who Are You?</td>\n",
       "      <td>1 win &amp; 2 nominations.</td>\n",
       "    </tr>\n",
       "    <tr>\n",
       "      <th>4</th>\n",
       "      <td>Skeletons in the Closet</td>\n",
       "      <td>1 win.</td>\n",
       "    </tr>\n",
       "    <tr>\n",
       "      <th>5</th>\n",
       "      <td>Cheerleader Ninjas</td>\n",
       "      <td>1 nomination.</td>\n",
       "    </tr>\n",
       "    <tr>\n",
       "      <th>6</th>\n",
       "      <td>The Girl from Paris</td>\n",
       "      <td>3 wins &amp; 2 nominations.</td>\n",
       "    </tr>\n",
       "    <tr>\n",
       "      <th>7</th>\n",
       "      <td>The Final Curtain</td>\n",
       "      <td>1 win &amp; 1 nomination.</td>\n",
       "    </tr>\n",
       "    <tr>\n",
       "      <th>11</th>\n",
       "      <td>Crazy/Beautiful</td>\n",
       "      <td>5 nominations.</td>\n",
       "    </tr>\n",
       "    <tr>\n",
       "      <th>13</th>\n",
       "      <td>The Anniversary Party</td>\n",
       "      <td>2 wins &amp; 5 nominations.</td>\n",
       "    </tr>\n",
       "    <tr>\n",
       "      <th>15</th>\n",
       "      <td>The Quiet American</td>\n",
       "      <td>Nominated for 1 Oscar. Another 13 wins &amp; 13 no...</td>\n",
       "    </tr>\n",
       "    <tr>\n",
       "      <th>18</th>\n",
       "      <td>Like Cat and Mouse</td>\n",
       "      <td>5 wins &amp; 4 nominations.</td>\n",
       "    </tr>\n",
       "    <tr>\n",
       "      <th>24</th>\n",
       "      <td>Punch-Drunk Love</td>\n",
       "      <td>Nominated for 1 Golden Globe. Another 14 wins ...</td>\n",
       "    </tr>\n",
       "  </tbody>\n",
       "</table>\n",
       "</div>"
      ],
      "text/plain": [
       "                      Title                                             Awards\n",
       "3              Who Are You?                             1 win & 2 nominations.\n",
       "4   Skeletons in the Closet                                             1 win.\n",
       "5        Cheerleader Ninjas                                      1 nomination.\n",
       "6       The Girl from Paris                            3 wins & 2 nominations.\n",
       "7         The Final Curtain                              1 win & 1 nomination.\n",
       "11          Crazy/Beautiful                                     5 nominations.\n",
       "13    The Anniversary Party                            2 wins & 5 nominations.\n",
       "15       The Quiet American  Nominated for 1 Oscar. Another 13 wins & 13 no...\n",
       "18       Like Cat and Mouse                            5 wins & 4 nominations.\n",
       "24         Punch-Drunk Love  Nominated for 1 Golden Globe. Another 14 wins ..."
      ]
     },
     "execution_count": 5,
     "metadata": {},
     "output_type": "execute_result"
    }
   ],
   "source": [
    "df_filter = df_origin[['Title','Awards']].dropna()\n",
    "df_filter.head(10)"
   ]
  },
  {
   "cell_type": "code",
   "execution_count": 6,
   "metadata": {
    "collapsed": false
   },
   "outputs": [
    {
     "data": {
      "text/plain": [
       "3"
      ]
     },
     "execution_count": 6,
     "metadata": {},
     "output_type": "execute_result"
    }
   ],
   "source": [
    "df_filter['Awards'].str.split('.').str.len().max()"
   ]
  },
  {
   "cell_type": "code",
   "execution_count": 7,
   "metadata": {
    "collapsed": false
   },
   "outputs": [
    {
     "data": {
      "text/plain": [
       "2"
      ]
     },
     "execution_count": 7,
     "metadata": {},
     "output_type": "execute_result"
    }
   ],
   "source": [
    "df_filter['Awards'].str.split('.').str.len().min()"
   ]
  },
  {
   "cell_type": "markdown",
   "metadata": {},
   "source": [
    "Conclusion: it's easier to check contents manually since the max layer is 3"
   ]
  },
  {
   "cell_type": "code",
   "execution_count": 8,
   "metadata": {
    "collapsed": false
   },
   "outputs": [],
   "source": [
    "df_filter['1st step'] = df_filter['Awards'].str.split('.').str.get(0)"
   ]
  },
  {
   "cell_type": "code",
   "execution_count": 9,
   "metadata": {
    "collapsed": true
   },
   "outputs": [],
   "source": [
    "df_filter['2nd step'] = df_filter['Awards'].str.split('.').str.get(1)"
   ]
  },
  {
   "cell_type": "code",
   "execution_count": 10,
   "metadata": {
    "collapsed": true
   },
   "outputs": [],
   "source": [
    "df_filter['3rd step'] = df_filter['Awards'].str.split('.').str.get(2)"
   ]
  },
  {
   "cell_type": "markdown",
   "metadata": {},
   "source": [
    "Check content for '3rd step'"
   ]
  },
  {
   "cell_type": "code",
   "execution_count": 11,
   "metadata": {
    "collapsed": false
   },
   "outputs": [
    {
     "data": {
      "text/plain": [
       "array([''], dtype=object)"
      ]
     },
     "execution_count": 11,
     "metadata": {},
     "output_type": "execute_result"
    }
   ],
   "source": [
    "df_filter['3rd step'][df_filter['3rd step'].notnull()].unique()"
   ]
  },
  {
   "cell_type": "markdown",
   "metadata": {},
   "source": [
    "Remove '3rd step' since it only contains ''"
   ]
  },
  {
   "cell_type": "code",
   "execution_count": 12,
   "metadata": {
    "collapsed": true
   },
   "outputs": [],
   "source": [
    "del df_filter['3rd step']"
   ]
  },
  {
   "cell_type": "code",
   "execution_count": 13,
   "metadata": {
    "collapsed": false
   },
   "outputs": [
    {
     "data": {
      "text/html": [
       "<div>\n",
       "<table border=\"1\" class=\"dataframe\">\n",
       "  <thead>\n",
       "    <tr style=\"text-align: right;\">\n",
       "      <th></th>\n",
       "      <th>Title</th>\n",
       "      <th>Awards</th>\n",
       "      <th>1st step</th>\n",
       "      <th>2nd step</th>\n",
       "    </tr>\n",
       "  </thead>\n",
       "  <tbody>\n",
       "    <tr>\n",
       "      <th>3</th>\n",
       "      <td>Who Are You?</td>\n",
       "      <td>1 win &amp; 2 nominations.</td>\n",
       "      <td>1 win &amp; 2 nominations</td>\n",
       "      <td></td>\n",
       "    </tr>\n",
       "    <tr>\n",
       "      <th>4</th>\n",
       "      <td>Skeletons in the Closet</td>\n",
       "      <td>1 win.</td>\n",
       "      <td>1 win</td>\n",
       "      <td></td>\n",
       "    </tr>\n",
       "    <tr>\n",
       "      <th>5</th>\n",
       "      <td>Cheerleader Ninjas</td>\n",
       "      <td>1 nomination.</td>\n",
       "      <td>1 nomination</td>\n",
       "      <td></td>\n",
       "    </tr>\n",
       "    <tr>\n",
       "      <th>6</th>\n",
       "      <td>The Girl from Paris</td>\n",
       "      <td>3 wins &amp; 2 nominations.</td>\n",
       "      <td>3 wins &amp; 2 nominations</td>\n",
       "      <td></td>\n",
       "    </tr>\n",
       "    <tr>\n",
       "      <th>7</th>\n",
       "      <td>The Final Curtain</td>\n",
       "      <td>1 win &amp; 1 nomination.</td>\n",
       "      <td>1 win &amp; 1 nomination</td>\n",
       "      <td></td>\n",
       "    </tr>\n",
       "    <tr>\n",
       "      <th>11</th>\n",
       "      <td>Crazy/Beautiful</td>\n",
       "      <td>5 nominations.</td>\n",
       "      <td>5 nominations</td>\n",
       "      <td></td>\n",
       "    </tr>\n",
       "    <tr>\n",
       "      <th>13</th>\n",
       "      <td>The Anniversary Party</td>\n",
       "      <td>2 wins &amp; 5 nominations.</td>\n",
       "      <td>2 wins &amp; 5 nominations</td>\n",
       "      <td></td>\n",
       "    </tr>\n",
       "    <tr>\n",
       "      <th>15</th>\n",
       "      <td>The Quiet American</td>\n",
       "      <td>Nominated for 1 Oscar. Another 13 wins &amp; 13 no...</td>\n",
       "      <td>Nominated for 1 Oscar</td>\n",
       "      <td>Another 13 wins &amp; 13 nominations</td>\n",
       "    </tr>\n",
       "  </tbody>\n",
       "</table>\n",
       "</div>"
      ],
      "text/plain": [
       "                      Title  \\\n",
       "3              Who Are You?   \n",
       "4   Skeletons in the Closet   \n",
       "5        Cheerleader Ninjas   \n",
       "6       The Girl from Paris   \n",
       "7         The Final Curtain   \n",
       "11          Crazy/Beautiful   \n",
       "13    The Anniversary Party   \n",
       "15       The Quiet American   \n",
       "\n",
       "                                               Awards                1st step  \\\n",
       "3                              1 win & 2 nominations.   1 win & 2 nominations   \n",
       "4                                              1 win.                   1 win   \n",
       "5                                       1 nomination.            1 nomination   \n",
       "6                             3 wins & 2 nominations.  3 wins & 2 nominations   \n",
       "7                               1 win & 1 nomination.    1 win & 1 nomination   \n",
       "11                                     5 nominations.           5 nominations   \n",
       "13                            2 wins & 5 nominations.  2 wins & 5 nominations   \n",
       "15  Nominated for 1 Oscar. Another 13 wins & 13 no...   Nominated for 1 Oscar   \n",
       "\n",
       "                             2nd step  \n",
       "3                                      \n",
       "4                                      \n",
       "5                                      \n",
       "6                                      \n",
       "7                                      \n",
       "11                                     \n",
       "13                                     \n",
       "15   Another 13 wins & 13 nominations  "
      ]
     },
     "execution_count": 13,
     "metadata": {},
     "output_type": "execute_result"
    }
   ],
   "source": [
    "df_filter.head(8)"
   ]
  },
  {
   "cell_type": "markdown",
   "metadata": {},
   "source": [
    "My desired layout is:\n",
    "\n",
    "Column1|Column2\n",
    "-------|-------\n",
    "Nominated for ...| Another ...\n",
    "Won ...| Another...\n",
    "(Blank/0)|x wins & y nominations\n",
    "(Blank/0)|x wins / y nominations\n",
    "\n",
    "But this can't be done directly in dataframe (fillna function can only fill cell with a fix value), so I'm going to use append function in Series"
   ]
  },
  {
   "cell_type": "code",
   "execution_count": 14,
   "metadata": {
    "collapsed": false
   },
   "outputs": [],
   "source": [
    "Series_3rd_step_1 = df_filter['1st step'][df_filter['2nd step']=='']"
   ]
  },
  {
   "cell_type": "code",
   "execution_count": 15,
   "metadata": {
    "collapsed": false
   },
   "outputs": [],
   "source": [
    "Series_3rd_step_2 = df_filter['2nd step'][df_filter['2nd step']!='']"
   ]
  },
  {
   "cell_type": "code",
   "execution_count": 16,
   "metadata": {
    "collapsed": false
   },
   "outputs": [
    {
     "data": {
      "text/plain": [
       "1818"
      ]
     },
     "execution_count": 16,
     "metadata": {},
     "output_type": "execute_result"
    }
   ],
   "source": [
    "Series_3rd_step_2.append(Series_3rd_step_1).size"
   ]
  },
  {
   "cell_type": "code",
   "execution_count": 17,
   "metadata": {
    "collapsed": true
   },
   "outputs": [],
   "source": [
    "df_filter['3rd step'] = Series_3rd_step_2.append(Series_3rd_step_1)"
   ]
  },
  {
   "cell_type": "code",
   "execution_count": 18,
   "metadata": {
    "collapsed": false
   },
   "outputs": [],
   "source": [
    "df_filter['4th step'] = df_filter['1st step'][df_filter['2nd step']!='']"
   ]
  },
  {
   "cell_type": "code",
   "execution_count": 19,
   "metadata": {
    "collapsed": false
   },
   "outputs": [
    {
     "data": {
      "text/html": [
       "<div>\n",
       "<table border=\"1\" class=\"dataframe\">\n",
       "  <thead>\n",
       "    <tr style=\"text-align: right;\">\n",
       "      <th></th>\n",
       "      <th>Title</th>\n",
       "      <th>Awards</th>\n",
       "      <th>1st step</th>\n",
       "      <th>2nd step</th>\n",
       "      <th>3rd step</th>\n",
       "      <th>4th step</th>\n",
       "    </tr>\n",
       "  </thead>\n",
       "  <tbody>\n",
       "    <tr>\n",
       "      <th>3</th>\n",
       "      <td>Who Are You?</td>\n",
       "      <td>1 win &amp; 2 nominations.</td>\n",
       "      <td>1 win &amp; 2 nominations</td>\n",
       "      <td></td>\n",
       "      <td>1 win &amp; 2 nominations</td>\n",
       "      <td>NaN</td>\n",
       "    </tr>\n",
       "    <tr>\n",
       "      <th>4</th>\n",
       "      <td>Skeletons in the Closet</td>\n",
       "      <td>1 win.</td>\n",
       "      <td>1 win</td>\n",
       "      <td></td>\n",
       "      <td>1 win</td>\n",
       "      <td>NaN</td>\n",
       "    </tr>\n",
       "    <tr>\n",
       "      <th>5</th>\n",
       "      <td>Cheerleader Ninjas</td>\n",
       "      <td>1 nomination.</td>\n",
       "      <td>1 nomination</td>\n",
       "      <td></td>\n",
       "      <td>1 nomination</td>\n",
       "      <td>NaN</td>\n",
       "    </tr>\n",
       "    <tr>\n",
       "      <th>6</th>\n",
       "      <td>The Girl from Paris</td>\n",
       "      <td>3 wins &amp; 2 nominations.</td>\n",
       "      <td>3 wins &amp; 2 nominations</td>\n",
       "      <td></td>\n",
       "      <td>3 wins &amp; 2 nominations</td>\n",
       "      <td>NaN</td>\n",
       "    </tr>\n",
       "    <tr>\n",
       "      <th>7</th>\n",
       "      <td>The Final Curtain</td>\n",
       "      <td>1 win &amp; 1 nomination.</td>\n",
       "      <td>1 win &amp; 1 nomination</td>\n",
       "      <td></td>\n",
       "      <td>1 win &amp; 1 nomination</td>\n",
       "      <td>NaN</td>\n",
       "    </tr>\n",
       "    <tr>\n",
       "      <th>11</th>\n",
       "      <td>Crazy/Beautiful</td>\n",
       "      <td>5 nominations.</td>\n",
       "      <td>5 nominations</td>\n",
       "      <td></td>\n",
       "      <td>5 nominations</td>\n",
       "      <td>NaN</td>\n",
       "    </tr>\n",
       "    <tr>\n",
       "      <th>13</th>\n",
       "      <td>The Anniversary Party</td>\n",
       "      <td>2 wins &amp; 5 nominations.</td>\n",
       "      <td>2 wins &amp; 5 nominations</td>\n",
       "      <td></td>\n",
       "      <td>2 wins &amp; 5 nominations</td>\n",
       "      <td>NaN</td>\n",
       "    </tr>\n",
       "    <tr>\n",
       "      <th>15</th>\n",
       "      <td>The Quiet American</td>\n",
       "      <td>Nominated for 1 Oscar. Another 13 wins &amp; 13 no...</td>\n",
       "      <td>Nominated for 1 Oscar</td>\n",
       "      <td>Another 13 wins &amp; 13 nominations</td>\n",
       "      <td>Another 13 wins &amp; 13 nominations</td>\n",
       "      <td>Nominated for 1 Oscar</td>\n",
       "    </tr>\n",
       "  </tbody>\n",
       "</table>\n",
       "</div>"
      ],
      "text/plain": [
       "                      Title  \\\n",
       "3              Who Are You?   \n",
       "4   Skeletons in the Closet   \n",
       "5        Cheerleader Ninjas   \n",
       "6       The Girl from Paris   \n",
       "7         The Final Curtain   \n",
       "11          Crazy/Beautiful   \n",
       "13    The Anniversary Party   \n",
       "15       The Quiet American   \n",
       "\n",
       "                                               Awards                1st step  \\\n",
       "3                              1 win & 2 nominations.   1 win & 2 nominations   \n",
       "4                                              1 win.                   1 win   \n",
       "5                                       1 nomination.            1 nomination   \n",
       "6                             3 wins & 2 nominations.  3 wins & 2 nominations   \n",
       "7                               1 win & 1 nomination.    1 win & 1 nomination   \n",
       "11                                     5 nominations.           5 nominations   \n",
       "13                            2 wins & 5 nominations.  2 wins & 5 nominations   \n",
       "15  Nominated for 1 Oscar. Another 13 wins & 13 no...   Nominated for 1 Oscar   \n",
       "\n",
       "                             2nd step                           3rd step  \\\n",
       "3                                                  1 win & 2 nominations   \n",
       "4                                                                  1 win   \n",
       "5                                                           1 nomination   \n",
       "6                                                 3 wins & 2 nominations   \n",
       "7                                                   1 win & 1 nomination   \n",
       "11                                                         5 nominations   \n",
       "13                                                2 wins & 5 nominations   \n",
       "15   Another 13 wins & 13 nominations   Another 13 wins & 13 nominations   \n",
       "\n",
       "                 4th step  \n",
       "3                     NaN  \n",
       "4                     NaN  \n",
       "5                     NaN  \n",
       "6                     NaN  \n",
       "7                     NaN  \n",
       "11                    NaN  \n",
       "13                    NaN  \n",
       "15  Nominated for 1 Oscar  "
      ]
     },
     "execution_count": 19,
     "metadata": {},
     "output_type": "execute_result"
    }
   ],
   "source": [
    "df_filter.head(8)"
   ]
  },
  {
   "cell_type": "code",
   "execution_count": 20,
   "metadata": {
    "collapsed": false
   },
   "outputs": [
    {
     "data": {
      "text/plain": [
       "['Title', 'Awards', '1st step', '2nd step', '3rd step', '4th step']"
      ]
     },
     "execution_count": 20,
     "metadata": {},
     "output_type": "execute_result"
    }
   ],
   "source": [
    "df_filter.columns.tolist()"
   ]
  },
  {
   "cell_type": "code",
   "execution_count": 21,
   "metadata": {
    "collapsed": false
   },
   "outputs": [
    {
     "data": {
      "text/html": [
       "<div>\n",
       "<table border=\"1\" class=\"dataframe\">\n",
       "  <thead>\n",
       "    <tr style=\"text-align: right;\">\n",
       "      <th></th>\n",
       "      <th>Title</th>\n",
       "      <th>Awards</th>\n",
       "      <th>3rd step</th>\n",
       "      <th>4th step</th>\n",
       "    </tr>\n",
       "  </thead>\n",
       "  <tbody>\n",
       "    <tr>\n",
       "      <th>3</th>\n",
       "      <td>Who Are You?</td>\n",
       "      <td>1 win &amp; 2 nominations.</td>\n",
       "      <td>1 win &amp; 2 nominations</td>\n",
       "      <td>NaN</td>\n",
       "    </tr>\n",
       "    <tr>\n",
       "      <th>4</th>\n",
       "      <td>Skeletons in the Closet</td>\n",
       "      <td>1 win.</td>\n",
       "      <td>1 win</td>\n",
       "      <td>NaN</td>\n",
       "    </tr>\n",
       "    <tr>\n",
       "      <th>5</th>\n",
       "      <td>Cheerleader Ninjas</td>\n",
       "      <td>1 nomination.</td>\n",
       "      <td>1 nomination</td>\n",
       "      <td>NaN</td>\n",
       "    </tr>\n",
       "    <tr>\n",
       "      <th>6</th>\n",
       "      <td>The Girl from Paris</td>\n",
       "      <td>3 wins &amp; 2 nominations.</td>\n",
       "      <td>3 wins &amp; 2 nominations</td>\n",
       "      <td>NaN</td>\n",
       "    </tr>\n",
       "    <tr>\n",
       "      <th>7</th>\n",
       "      <td>The Final Curtain</td>\n",
       "      <td>1 win &amp; 1 nomination.</td>\n",
       "      <td>1 win &amp; 1 nomination</td>\n",
       "      <td>NaN</td>\n",
       "    </tr>\n",
       "    <tr>\n",
       "      <th>11</th>\n",
       "      <td>Crazy/Beautiful</td>\n",
       "      <td>5 nominations.</td>\n",
       "      <td>5 nominations</td>\n",
       "      <td>NaN</td>\n",
       "    </tr>\n",
       "    <tr>\n",
       "      <th>13</th>\n",
       "      <td>The Anniversary Party</td>\n",
       "      <td>2 wins &amp; 5 nominations.</td>\n",
       "      <td>2 wins &amp; 5 nominations</td>\n",
       "      <td>NaN</td>\n",
       "    </tr>\n",
       "    <tr>\n",
       "      <th>15</th>\n",
       "      <td>The Quiet American</td>\n",
       "      <td>Nominated for 1 Oscar. Another 13 wins &amp; 13 no...</td>\n",
       "      <td>Another 13 wins &amp; 13 nominations</td>\n",
       "      <td>Nominated for 1 Oscar</td>\n",
       "    </tr>\n",
       "  </tbody>\n",
       "</table>\n",
       "</div>"
      ],
      "text/plain": [
       "                      Title  \\\n",
       "3              Who Are You?   \n",
       "4   Skeletons in the Closet   \n",
       "5        Cheerleader Ninjas   \n",
       "6       The Girl from Paris   \n",
       "7         The Final Curtain   \n",
       "11          Crazy/Beautiful   \n",
       "13    The Anniversary Party   \n",
       "15       The Quiet American   \n",
       "\n",
       "                                               Awards  \\\n",
       "3                              1 win & 2 nominations.   \n",
       "4                                              1 win.   \n",
       "5                                       1 nomination.   \n",
       "6                             3 wins & 2 nominations.   \n",
       "7                               1 win & 1 nomination.   \n",
       "11                                     5 nominations.   \n",
       "13                            2 wins & 5 nominations.   \n",
       "15  Nominated for 1 Oscar. Another 13 wins & 13 no...   \n",
       "\n",
       "                             3rd step               4th step  \n",
       "3               1 win & 2 nominations                    NaN  \n",
       "4                               1 win                    NaN  \n",
       "5                        1 nomination                    NaN  \n",
       "6              3 wins & 2 nominations                    NaN  \n",
       "7                1 win & 1 nomination                    NaN  \n",
       "11                      5 nominations                    NaN  \n",
       "13             2 wins & 5 nominations                    NaN  \n",
       "15   Another 13 wins & 13 nominations  Nominated for 1 Oscar  "
      ]
     },
     "execution_count": 21,
     "metadata": {},
     "output_type": "execute_result"
    }
   ],
   "source": [
    "df_step1 = df_filter[['Title','Awards','3rd step','4th step']]\n",
    "df_step1.head(8)"
   ]
  },
  {
   "cell_type": "markdown",
   "metadata": {},
   "source": [
    "Now I can start getting data from this dataframe\n",
    "### Step 3"
   ]
  },
  {
   "cell_type": "markdown",
   "metadata": {},
   "source": [
    "Work with '3rd step' first"
   ]
  },
  {
   "cell_type": "code",
   "execution_count": 22,
   "metadata": {
    "collapsed": false
   },
   "outputs": [],
   "source": [
    "s_split = df_step1['3rd step'].str.split('&')"
   ]
  },
  {
   "cell_type": "code",
   "execution_count": 23,
   "metadata": {
    "collapsed": false
   },
   "outputs": [
    {
     "data": {
      "text/plain": [
       "3    [1 win ,  2 nominations]\n",
       "4                     [1 win]\n",
       "5              [1 nomination]\n",
       "Name: 3rd step, dtype: object"
      ]
     },
     "execution_count": 23,
     "metadata": {},
     "output_type": "execute_result"
    }
   ],
   "source": [
    "s_split.head(3)"
   ]
  },
  {
   "cell_type": "code",
   "execution_count": 24,
   "metadata": {
    "collapsed": false
   },
   "outputs": [
    {
     "data": {
      "text/plain": [
       "array([2, 1])"
      ]
     },
     "execution_count": 24,
     "metadata": {},
     "output_type": "execute_result"
    }
   ],
   "source": [
    "s_split.str.len().unique()"
   ]
  },
  {
   "cell_type": "markdown",
   "metadata": {},
   "source": [
    "Create 'Awards_Won_Raw' column"
   ]
  },
  {
   "cell_type": "code",
   "execution_count": 25,
   "metadata": {
    "collapsed": false
   },
   "outputs": [],
   "source": [
    "s_win = s_split.str[0].str.contains('win') #bool Series"
   ]
  },
  {
   "cell_type": "code",
   "execution_count": 26,
   "metadata": {
    "collapsed": false
   },
   "outputs": [],
   "source": [
    "df_d = df_step1['3rd step'][s_win].str.split('(\\d+)').str[1]"
   ]
  },
  {
   "cell_type": "code",
   "execution_count": 27,
   "metadata": {
    "collapsed": false,
    "scrolled": true
   },
   "outputs": [
    {
     "name": "stderr",
     "output_type": "stream",
     "text": [
      "//anaconda/lib/python3.5/site-packages/ipykernel/__main__.py:1: SettingWithCopyWarning: \n",
      "A value is trying to be set on a copy of a slice from a DataFrame.\n",
      "Try using .loc[row_indexer,col_indexer] = value instead\n",
      "\n",
      "See the caveats in the documentation: http://pandas.pydata.org/pandas-docs/stable/indexing.html#indexing-view-versus-copy\n",
      "  if __name__ == '__main__':\n"
     ]
    }
   ],
   "source": [
    "df_step1['Awards_Won_Raw'] = df_d"
   ]
  },
  {
   "cell_type": "code",
   "execution_count": 28,
   "metadata": {
    "collapsed": false,
    "scrolled": false
   },
   "outputs": [
    {
     "data": {
      "text/html": [
       "<div>\n",
       "<table border=\"1\" class=\"dataframe\">\n",
       "  <thead>\n",
       "    <tr style=\"text-align: right;\">\n",
       "      <th></th>\n",
       "      <th>Title</th>\n",
       "      <th>Awards</th>\n",
       "      <th>3rd step</th>\n",
       "      <th>4th step</th>\n",
       "      <th>Awards_Won_Raw</th>\n",
       "    </tr>\n",
       "  </thead>\n",
       "  <tbody>\n",
       "    <tr>\n",
       "      <th>3</th>\n",
       "      <td>Who Are You?</td>\n",
       "      <td>1 win &amp; 2 nominations.</td>\n",
       "      <td>1 win &amp; 2 nominations</td>\n",
       "      <td>0</td>\n",
       "      <td>1</td>\n",
       "    </tr>\n",
       "    <tr>\n",
       "      <th>4</th>\n",
       "      <td>Skeletons in the Closet</td>\n",
       "      <td>1 win.</td>\n",
       "      <td>1 win</td>\n",
       "      <td>0</td>\n",
       "      <td>1</td>\n",
       "    </tr>\n",
       "    <tr>\n",
       "      <th>5</th>\n",
       "      <td>Cheerleader Ninjas</td>\n",
       "      <td>1 nomination.</td>\n",
       "      <td>1 nomination</td>\n",
       "      <td>0</td>\n",
       "      <td>0</td>\n",
       "    </tr>\n",
       "    <tr>\n",
       "      <th>6</th>\n",
       "      <td>The Girl from Paris</td>\n",
       "      <td>3 wins &amp; 2 nominations.</td>\n",
       "      <td>3 wins &amp; 2 nominations</td>\n",
       "      <td>0</td>\n",
       "      <td>3</td>\n",
       "    </tr>\n",
       "    <tr>\n",
       "      <th>7</th>\n",
       "      <td>The Final Curtain</td>\n",
       "      <td>1 win &amp; 1 nomination.</td>\n",
       "      <td>1 win &amp; 1 nomination</td>\n",
       "      <td>0</td>\n",
       "      <td>1</td>\n",
       "    </tr>\n",
       "    <tr>\n",
       "      <th>11</th>\n",
       "      <td>Crazy/Beautiful</td>\n",
       "      <td>5 nominations.</td>\n",
       "      <td>5 nominations</td>\n",
       "      <td>0</td>\n",
       "      <td>0</td>\n",
       "    </tr>\n",
       "    <tr>\n",
       "      <th>13</th>\n",
       "      <td>The Anniversary Party</td>\n",
       "      <td>2 wins &amp; 5 nominations.</td>\n",
       "      <td>2 wins &amp; 5 nominations</td>\n",
       "      <td>0</td>\n",
       "      <td>2</td>\n",
       "    </tr>\n",
       "    <tr>\n",
       "      <th>15</th>\n",
       "      <td>The Quiet American</td>\n",
       "      <td>Nominated for 1 Oscar. Another 13 wins &amp; 13 no...</td>\n",
       "      <td>Another 13 wins &amp; 13 nominations</td>\n",
       "      <td>Nominated for 1 Oscar</td>\n",
       "      <td>13</td>\n",
       "    </tr>\n",
       "  </tbody>\n",
       "</table>\n",
       "</div>"
      ],
      "text/plain": [
       "                      Title  \\\n",
       "3              Who Are You?   \n",
       "4   Skeletons in the Closet   \n",
       "5        Cheerleader Ninjas   \n",
       "6       The Girl from Paris   \n",
       "7         The Final Curtain   \n",
       "11          Crazy/Beautiful   \n",
       "13    The Anniversary Party   \n",
       "15       The Quiet American   \n",
       "\n",
       "                                               Awards  \\\n",
       "3                              1 win & 2 nominations.   \n",
       "4                                              1 win.   \n",
       "5                                       1 nomination.   \n",
       "6                             3 wins & 2 nominations.   \n",
       "7                               1 win & 1 nomination.   \n",
       "11                                     5 nominations.   \n",
       "13                            2 wins & 5 nominations.   \n",
       "15  Nominated for 1 Oscar. Another 13 wins & 13 no...   \n",
       "\n",
       "                             3rd step               4th step Awards_Won_Raw  \n",
       "3               1 win & 2 nominations                      0              1  \n",
       "4                               1 win                      0              1  \n",
       "5                        1 nomination                      0              0  \n",
       "6              3 wins & 2 nominations                      0              3  \n",
       "7                1 win & 1 nomination                      0              1  \n",
       "11                      5 nominations                      0              0  \n",
       "13             2 wins & 5 nominations                      0              2  \n",
       "15   Another 13 wins & 13 nominations  Nominated for 1 Oscar             13  "
      ]
     },
     "execution_count": 28,
     "metadata": {},
     "output_type": "execute_result"
    }
   ],
   "source": [
    "df_step1 = df_step1.fillna(0)\n",
    "df_step1.head(8)"
   ]
  },
  {
   "cell_type": "markdown",
   "metadata": {},
   "source": [
    "Create 'Awards_Nominated_Raw' column"
   ]
  },
  {
   "cell_type": "code",
   "execution_count": 29,
   "metadata": {
    "collapsed": false
   },
   "outputs": [],
   "source": [
    "s_nominate_1 = df_step1['3rd step'].str.split('&').str[0].str.contains('nomina')"
   ]
  },
  {
   "cell_type": "code",
   "execution_count": 30,
   "metadata": {
    "collapsed": false
   },
   "outputs": [],
   "source": [
    "s_nominate_2 = df_step1['3rd step'].str.split('&').str[1].str.contains('nomina').fillna(False)"
   ]
  },
  {
   "cell_type": "code",
   "execution_count": 31,
   "metadata": {
    "collapsed": false
   },
   "outputs": [],
   "source": [
    "s_nominate = s_nominate_1 | s_nominate_2"
   ]
  },
  {
   "cell_type": "code",
   "execution_count": 32,
   "metadata": {
    "collapsed": true
   },
   "outputs": [],
   "source": [
    "df_step1['Awards_Nominated_Raw'] = df_step1['3rd step'][s_nominate].str.split('(\\d+ nomination)').str[1].str.split('(\\d+)').str[1]"
   ]
  },
  {
   "cell_type": "code",
   "execution_count": 33,
   "metadata": {
    "collapsed": false
   },
   "outputs": [
    {
     "data": {
      "text/html": [
       "<div>\n",
       "<table border=\"1\" class=\"dataframe\">\n",
       "  <thead>\n",
       "    <tr style=\"text-align: right;\">\n",
       "      <th></th>\n",
       "      <th>Title</th>\n",
       "      <th>Awards</th>\n",
       "      <th>3rd step</th>\n",
       "      <th>4th step</th>\n",
       "      <th>Awards_Won_Raw</th>\n",
       "      <th>Awards_Nominated_Raw</th>\n",
       "    </tr>\n",
       "  </thead>\n",
       "  <tbody>\n",
       "    <tr>\n",
       "      <th>3</th>\n",
       "      <td>Who Are You?</td>\n",
       "      <td>1 win &amp; 2 nominations.</td>\n",
       "      <td>1 win &amp; 2 nominations</td>\n",
       "      <td>0</td>\n",
       "      <td>1</td>\n",
       "      <td>2</td>\n",
       "    </tr>\n",
       "    <tr>\n",
       "      <th>4</th>\n",
       "      <td>Skeletons in the Closet</td>\n",
       "      <td>1 win.</td>\n",
       "      <td>1 win</td>\n",
       "      <td>0</td>\n",
       "      <td>1</td>\n",
       "      <td>0</td>\n",
       "    </tr>\n",
       "    <tr>\n",
       "      <th>5</th>\n",
       "      <td>Cheerleader Ninjas</td>\n",
       "      <td>1 nomination.</td>\n",
       "      <td>1 nomination</td>\n",
       "      <td>0</td>\n",
       "      <td>0</td>\n",
       "      <td>1</td>\n",
       "    </tr>\n",
       "    <tr>\n",
       "      <th>6</th>\n",
       "      <td>The Girl from Paris</td>\n",
       "      <td>3 wins &amp; 2 nominations.</td>\n",
       "      <td>3 wins &amp; 2 nominations</td>\n",
       "      <td>0</td>\n",
       "      <td>3</td>\n",
       "      <td>2</td>\n",
       "    </tr>\n",
       "    <tr>\n",
       "      <th>7</th>\n",
       "      <td>The Final Curtain</td>\n",
       "      <td>1 win &amp; 1 nomination.</td>\n",
       "      <td>1 win &amp; 1 nomination</td>\n",
       "      <td>0</td>\n",
       "      <td>1</td>\n",
       "      <td>1</td>\n",
       "    </tr>\n",
       "  </tbody>\n",
       "</table>\n",
       "</div>"
      ],
      "text/plain": [
       "                     Title                   Awards                3rd step  \\\n",
       "3             Who Are You?   1 win & 2 nominations.   1 win & 2 nominations   \n",
       "4  Skeletons in the Closet                   1 win.                   1 win   \n",
       "5       Cheerleader Ninjas            1 nomination.            1 nomination   \n",
       "6      The Girl from Paris  3 wins & 2 nominations.  3 wins & 2 nominations   \n",
       "7        The Final Curtain    1 win & 1 nomination.    1 win & 1 nomination   \n",
       "\n",
       "  4th step Awards_Won_Raw Awards_Nominated_Raw  \n",
       "3        0              1                    2  \n",
       "4        0              1                    0  \n",
       "5        0              0                    1  \n",
       "6        0              3                    2  \n",
       "7        0              1                    1  "
      ]
     },
     "execution_count": 33,
     "metadata": {},
     "output_type": "execute_result"
    }
   ],
   "source": [
    "df_step1 = df_step1.fillna(0)\n",
    "df_step1.head(5)"
   ]
  },
  {
   "cell_type": "markdown",
   "metadata": {},
   "source": [
    "Now work with '4th step' column <br>\n",
    "    \\* do not assume nomination and win share the same name set"
   ]
  },
  {
   "cell_type": "markdown",
   "metadata": {},
   "source": [
    "Create '_nominated' columns"
   ]
  },
  {
   "cell_type": "code",
   "execution_count": 34,
   "metadata": {
    "collapsed": true
   },
   "outputs": [],
   "source": [
    "pd_w_nomi = df_step1.copy()"
   ]
  },
  {
   "cell_type": "code",
   "execution_count": 35,
   "metadata": {
    "collapsed": false
   },
   "outputs": [],
   "source": [
    "s_nomi = df_step1['4th step'][df_step1['4th step'].str.contains('Nomi').fillna(False)] # bool Series"
   ]
  },
  {
   "cell_type": "code",
   "execution_count": 36,
   "metadata": {
    "collapsed": false
   },
   "outputs": [],
   "source": [
    "s_award_name = s_nomi.str.split('for').str[1].str.split('(\\d+ )').str[2].unique()"
   ]
  },
  {
   "cell_type": "code",
   "execution_count": 37,
   "metadata": {
    "collapsed": false
   },
   "outputs": [],
   "source": [
    "column_names = set([x[:-1] for x in [x.split()[0] for x in s_award_name] if x.endswith('s')] + [x for x in [x.split()[0] for x in s_award_name] if x[-1]!='s'])"
   ]
  },
  {
   "cell_type": "code",
   "execution_count": 38,
   "metadata": {
    "collapsed": false
   },
   "outputs": [
    {
     "data": {
      "text/plain": [
       "{'BAFTA', 'Golden', 'Oscar', 'Primetime'}"
      ]
     },
     "execution_count": 38,
     "metadata": {},
     "output_type": "execute_result"
    }
   ],
   "source": [
    "column_names"
   ]
  },
  {
   "cell_type": "markdown",
   "metadata": {},
   "source": [
    "Assign value to each column Series"
   ]
  },
  {
   "cell_type": "code",
   "execution_count": 39,
   "metadata": {
    "collapsed": false
   },
   "outputs": [],
   "source": [
    "s_search = s_nomi.str.split('for').str[1].str.split('(\\d+ )')"
   ]
  },
  {
   "cell_type": "code",
   "execution_count": 40,
   "metadata": {
    "collapsed": true
   },
   "outputs": [],
   "source": [
    "s_nomi_prime = s_search.str[1][s_search.str[2].str.contains('Prime')]"
   ]
  },
  {
   "cell_type": "code",
   "execution_count": 41,
   "metadata": {
    "collapsed": true
   },
   "outputs": [],
   "source": [
    "pd_w_nomi['Primetime_Awards_nominated'] = s_nomi_prime"
   ]
  },
  {
   "cell_type": "code",
   "execution_count": 42,
   "metadata": {
    "collapsed": false
   },
   "outputs": [],
   "source": [
    "s_nomi_BAFTA = s_search.str[1][s_search.str[2].str.contains('BAFTA')]"
   ]
  },
  {
   "cell_type": "code",
   "execution_count": 43,
   "metadata": {
    "collapsed": true
   },
   "outputs": [],
   "source": [
    "pd_w_nomi['BAFTA_Awards_nominated'] = s_nomi_BAFTA"
   ]
  },
  {
   "cell_type": "code",
   "execution_count": 44,
   "metadata": {
    "collapsed": true
   },
   "outputs": [],
   "source": [
    "s_nomi_Oscar = s_search.str[1][s_search.str[2].str.contains('Oscar')]"
   ]
  },
  {
   "cell_type": "code",
   "execution_count": 45,
   "metadata": {
    "collapsed": true
   },
   "outputs": [],
   "source": [
    "pd_w_nomi['Oscar_nominated'] = s_nomi_Oscar"
   ]
  },
  {
   "cell_type": "code",
   "execution_count": 46,
   "metadata": {
    "collapsed": true
   },
   "outputs": [],
   "source": [
    "s_nomi_GG = s_search.str[1][s_search.str[2].str.contains('Golden')].str.strip()"
   ]
  },
  {
   "cell_type": "code",
   "execution_count": 47,
   "metadata": {
    "collapsed": true
   },
   "outputs": [],
   "source": [
    "pd_w_nomi['Golden_Awards_nominated'] = s_nomi_GG"
   ]
  },
  {
   "cell_type": "code",
   "execution_count": 48,
   "metadata": {
    "collapsed": false
   },
   "outputs": [
    {
     "data": {
      "text/plain": [
       "Title                                                          Punch-Drunk Love\n",
       "Awards                        Nominated for 1 Golden Globe. Another 14 wins ...\n",
       "3rd step                                       Another 14 wins & 34 nominations\n",
       "4th step                                           Nominated for 1 Golden Globe\n",
       "Awards_Won_Raw                                                               14\n",
       "Awards_Nominated_Raw                                                         34\n",
       "Primetime_Awards_nominated                                                    0\n",
       "BAFTA_Awards_nominated                                                        0\n",
       "Oscar_nominated                                                               0\n",
       "Golden_Awards_nominated                                                       1\n",
       "Name: 24, dtype: object"
      ]
     },
     "execution_count": 48,
     "metadata": {},
     "output_type": "execute_result"
    }
   ],
   "source": [
    "pd_w_nomi = pd_w_nomi.fillna(0)\n",
    "pd_w_nomi.ix[24]"
   ]
  },
  {
   "cell_type": "markdown",
   "metadata": {},
   "source": [
    "告一段落，新建一个copy <br>\n",
    "然后在这个copy上计算真正的Awards_Nominated value"
   ]
  },
  {
   "cell_type": "code",
   "execution_count": 49,
   "metadata": {
    "collapsed": true
   },
   "outputs": [],
   "source": [
    "pd_w_nomi_copy = pd_w_nomi.copy()"
   ]
  },
  {
   "cell_type": "code",
   "execution_count": 50,
   "metadata": {
    "collapsed": false
   },
   "outputs": [],
   "source": [
    "col_list = list(pd_w_nomi_copy)"
   ]
  },
  {
   "cell_type": "code",
   "execution_count": 51,
   "metadata": {
    "collapsed": false
   },
   "outputs": [
    {
     "data": {
      "text/plain": [
       "'Awards_Won_Raw'"
      ]
     },
     "execution_count": 51,
     "metadata": {},
     "output_type": "execute_result"
    }
   ],
   "source": [
    "col_list[4]"
   ]
  },
  {
   "cell_type": "code",
   "execution_count": 52,
   "metadata": {
    "collapsed": false
   },
   "outputs": [
    {
     "data": {
      "text/html": [
       "<div>\n",
       "<table border=\"1\" class=\"dataframe\">\n",
       "  <thead>\n",
       "    <tr style=\"text-align: right;\">\n",
       "      <th></th>\n",
       "      <th>Title</th>\n",
       "      <th>Awards</th>\n",
       "      <th>3rd step</th>\n",
       "      <th>4th step</th>\n",
       "      <th>Awards_Won_Raw</th>\n",
       "      <th>Awards_Nominated_Raw</th>\n",
       "      <th>Primetime_Awards_nominated</th>\n",
       "      <th>BAFTA_Awards_nominated</th>\n",
       "      <th>Oscar_nominated</th>\n",
       "      <th>Golden_Awards_nominated</th>\n",
       "    </tr>\n",
       "  </thead>\n",
       "  <tbody>\n",
       "    <tr>\n",
       "      <th>3</th>\n",
       "      <td>Who Are You?</td>\n",
       "      <td>1 win &amp; 2 nominations.</td>\n",
       "      <td>1 win &amp; 2 nominations</td>\n",
       "      <td>0</td>\n",
       "      <td>1</td>\n",
       "      <td>2</td>\n",
       "      <td>0</td>\n",
       "      <td>0</td>\n",
       "      <td>0</td>\n",
       "      <td>0</td>\n",
       "    </tr>\n",
       "  </tbody>\n",
       "</table>\n",
       "</div>"
      ],
      "text/plain": [
       "          Title                  Awards               3rd step 4th step  \\\n",
       "3  Who Are You?  1 win & 2 nominations.  1 win & 2 nominations        0   \n",
       "\n",
       "  Awards_Won_Raw Awards_Nominated_Raw Primetime_Awards_nominated  \\\n",
       "3              1                    2                          0   \n",
       "\n",
       "  BAFTA_Awards_nominated Oscar_nominated Golden_Awards_nominated  \n",
       "3                      0               0                       0  "
      ]
     },
     "execution_count": 52,
     "metadata": {},
     "output_type": "execute_result"
    }
   ],
   "source": [
    "pd_w_nomi_copy.head(1)"
   ]
  },
  {
   "cell_type": "code",
   "execution_count": 53,
   "metadata": {
    "collapsed": false
   },
   "outputs": [],
   "source": [
    "pd_w_nomi_copy =pd.concat([pd_w_nomi[col_list[:4]], pd_w_nomi[col_list[4:]].astype(int)], axis=1)"
   ]
  },
  {
   "cell_type": "code",
   "execution_count": 54,
   "metadata": {
    "collapsed": true
   },
   "outputs": [],
   "source": [
    "pd_w_nomi_copy['Awards_nominated'] = pd_w_nomi_copy[col_list[5:]].sum(axis=1)"
   ]
  },
  {
   "cell_type": "code",
   "execution_count": 55,
   "metadata": {
    "collapsed": false
   },
   "outputs": [
    {
     "data": {
      "text/plain": [
       "Title                                                          Punch-Drunk Love\n",
       "Awards                        Nominated for 1 Golden Globe. Another 14 wins ...\n",
       "3rd step                                       Another 14 wins & 34 nominations\n",
       "4th step                                           Nominated for 1 Golden Globe\n",
       "Awards_Won_Raw                                                               14\n",
       "Awards_Nominated_Raw                                                         34\n",
       "Primetime_Awards_nominated                                                    0\n",
       "BAFTA_Awards_nominated                                                        0\n",
       "Oscar_nominated                                                               0\n",
       "Golden_Awards_nominated                                                       1\n",
       "Awards_nominated                                                             35\n",
       "Name: 24, dtype: object"
      ]
     },
     "execution_count": 55,
     "metadata": {},
     "output_type": "execute_result"
    }
   ],
   "source": [
    "pd_w_nomi_copy.ix[24]"
   ]
  },
  {
   "cell_type": "markdown",
   "metadata": {},
   "source": [
    "Create '_won' columns <br>\n",
    "从这儿开始算won的数字"
   ]
  },
  {
   "cell_type": "code",
   "execution_count": 56,
   "metadata": {
    "collapsed": true
   },
   "outputs": [],
   "source": [
    "pd_w_won = pd_w_nomi_copy.copy()"
   ]
  },
  {
   "cell_type": "code",
   "execution_count": 57,
   "metadata": {
    "collapsed": false
   },
   "outputs": [],
   "source": [
    "s_won = pd_w_won['4th step'][pd_w_won['4th step'].str.contains('Won').fillna(False)]"
   ]
  },
  {
   "cell_type": "code",
   "execution_count": 58,
   "metadata": {
    "collapsed": false
   },
   "outputs": [
    {
     "data": {
      "text/plain": [
       "50      Won 2 Golden Globes\n",
       "51       Won 1 Golden Globe\n",
       "79     Won 1 Primetime Emmy\n",
       "545           Won 11 Oscars\n",
       "561             Won 1 Oscar\n",
       "Name: 4th step, dtype: object"
      ]
     },
     "execution_count": 58,
     "metadata": {},
     "output_type": "execute_result"
    }
   ],
   "source": [
    "s_won.head(5)"
   ]
  },
  {
   "cell_type": "code",
   "execution_count": 59,
   "metadata": {
    "collapsed": false
   },
   "outputs": [],
   "source": [
    "s_award_name = s_won.str.split('(\\d+ )').str[2].unique()"
   ]
  },
  {
   "cell_type": "code",
   "execution_count": 60,
   "metadata": {
    "collapsed": false
   },
   "outputs": [
    {
     "data": {
      "text/plain": [
       "array(['Golden Globes', 'Golden Globe', 'Primetime Emmy', 'Oscars',\n",
       "       'Oscar', 'Primetime Emmys'], dtype=object)"
      ]
     },
     "execution_count": 60,
     "metadata": {},
     "output_type": "execute_result"
    }
   ],
   "source": [
    "s_award_name"
   ]
  },
  {
   "cell_type": "code",
   "execution_count": 61,
   "metadata": {
    "collapsed": true
   },
   "outputs": [],
   "source": [
    "column_names = set([x[:-1] for x in [x.split()[0] for x in s_award_name] if x.endswith('s')] + [x for x in [x.split()[0] for x in s_award_name] if x[-1]!='s'])"
   ]
  },
  {
   "cell_type": "code",
   "execution_count": 62,
   "metadata": {
    "collapsed": false
   },
   "outputs": [
    {
     "data": {
      "text/plain": [
       "{'Golden', 'Oscar', 'Primetime'}"
      ]
     },
     "execution_count": 62,
     "metadata": {},
     "output_type": "execute_result"
    }
   ],
   "source": [
    "column_names"
   ]
  },
  {
   "cell_type": "markdown",
   "metadata": {},
   "source": [
    "Assign values to columns"
   ]
  },
  {
   "cell_type": "code",
   "execution_count": 63,
   "metadata": {
    "collapsed": false
   },
   "outputs": [],
   "source": [
    "s_search = s_won.str.split('(\\d+)')"
   ]
  },
  {
   "cell_type": "code",
   "execution_count": 64,
   "metadata": {
    "collapsed": true
   },
   "outputs": [],
   "source": [
    "s_won_prime = s_search.str[1][s_search.str[2].str.contains('Prime')]"
   ]
  },
  {
   "cell_type": "code",
   "execution_count": 65,
   "metadata": {
    "collapsed": true
   },
   "outputs": [],
   "source": [
    "pd_w_won['Primetime_Awards_won'] = s_won_prime"
   ]
  },
  {
   "cell_type": "code",
   "execution_count": 66,
   "metadata": {
    "collapsed": true
   },
   "outputs": [],
   "source": [
    "s_won_Oscar = s_search.str[1][s_search.str[2].str.contains('Oscar')]"
   ]
  },
  {
   "cell_type": "code",
   "execution_count": 67,
   "metadata": {
    "collapsed": true
   },
   "outputs": [],
   "source": [
    "pd_w_won['Oscar_Awards_won'] = s_won_Oscar"
   ]
  },
  {
   "cell_type": "code",
   "execution_count": 68,
   "metadata": {
    "collapsed": true
   },
   "outputs": [],
   "source": [
    "s_won_GG= s_search.str[1][s_search.str[2].str.contains('Golden')]"
   ]
  },
  {
   "cell_type": "code",
   "execution_count": 69,
   "metadata": {
    "collapsed": true
   },
   "outputs": [],
   "source": [
    "pd_w_won['Golden_Awards_won'] = s_won_GG"
   ]
  },
  {
   "cell_type": "code",
   "execution_count": 70,
   "metadata": {
    "collapsed": false
   },
   "outputs": [],
   "source": [
    "pd_w_won = pd_w_won.fillna(0)"
   ]
  },
  {
   "cell_type": "code",
   "execution_count": 71,
   "metadata": {
    "collapsed": false
   },
   "outputs": [
    {
     "data": {
      "text/html": [
       "<div>\n",
       "<table border=\"1\" class=\"dataframe\">\n",
       "  <thead>\n",
       "    <tr style=\"text-align: right;\">\n",
       "      <th></th>\n",
       "      <th>Title</th>\n",
       "      <th>Awards</th>\n",
       "      <th>3rd step</th>\n",
       "      <th>4th step</th>\n",
       "      <th>Awards_Won_Raw</th>\n",
       "      <th>Awards_Nominated_Raw</th>\n",
       "      <th>Primetime_Awards_nominated</th>\n",
       "      <th>BAFTA_Awards_nominated</th>\n",
       "      <th>Oscar_nominated</th>\n",
       "      <th>Golden_Awards_nominated</th>\n",
       "      <th>Awards_nominated</th>\n",
       "      <th>Primetime_Awards_won</th>\n",
       "      <th>Oscar_Awards_won</th>\n",
       "      <th>Golden_Awards_won</th>\n",
       "    </tr>\n",
       "  </thead>\n",
       "  <tbody>\n",
       "    <tr>\n",
       "      <th>3</th>\n",
       "      <td>Who Are You?</td>\n",
       "      <td>1 win &amp; 2 nominations.</td>\n",
       "      <td>1 win &amp; 2 nominations</td>\n",
       "      <td>0</td>\n",
       "      <td>1</td>\n",
       "      <td>2</td>\n",
       "      <td>0</td>\n",
       "      <td>0</td>\n",
       "      <td>0</td>\n",
       "      <td>0</td>\n",
       "      <td>2</td>\n",
       "      <td>0</td>\n",
       "      <td>0</td>\n",
       "      <td>0</td>\n",
       "    </tr>\n",
       "    <tr>\n",
       "      <th>4</th>\n",
       "      <td>Skeletons in the Closet</td>\n",
       "      <td>1 win.</td>\n",
       "      <td>1 win</td>\n",
       "      <td>0</td>\n",
       "      <td>1</td>\n",
       "      <td>0</td>\n",
       "      <td>0</td>\n",
       "      <td>0</td>\n",
       "      <td>0</td>\n",
       "      <td>0</td>\n",
       "      <td>0</td>\n",
       "      <td>0</td>\n",
       "      <td>0</td>\n",
       "      <td>0</td>\n",
       "    </tr>\n",
       "    <tr>\n",
       "      <th>5</th>\n",
       "      <td>Cheerleader Ninjas</td>\n",
       "      <td>1 nomination.</td>\n",
       "      <td>1 nomination</td>\n",
       "      <td>0</td>\n",
       "      <td>0</td>\n",
       "      <td>1</td>\n",
       "      <td>0</td>\n",
       "      <td>0</td>\n",
       "      <td>0</td>\n",
       "      <td>0</td>\n",
       "      <td>1</td>\n",
       "      <td>0</td>\n",
       "      <td>0</td>\n",
       "      <td>0</td>\n",
       "    </tr>\n",
       "  </tbody>\n",
       "</table>\n",
       "</div>"
      ],
      "text/plain": [
       "                     Title                  Awards               3rd step  \\\n",
       "3             Who Are You?  1 win & 2 nominations.  1 win & 2 nominations   \n",
       "4  Skeletons in the Closet                  1 win.                  1 win   \n",
       "5       Cheerleader Ninjas           1 nomination.           1 nomination   \n",
       "\n",
       "  4th step  Awards_Won_Raw  Awards_Nominated_Raw  Primetime_Awards_nominated  \\\n",
       "3        0               1                     2                           0   \n",
       "4        0               1                     0                           0   \n",
       "5        0               0                     1                           0   \n",
       "\n",
       "   BAFTA_Awards_nominated  Oscar_nominated  Golden_Awards_nominated  \\\n",
       "3                       0                0                        0   \n",
       "4                       0                0                        0   \n",
       "5                       0                0                        0   \n",
       "\n",
       "   Awards_nominated Primetime_Awards_won Oscar_Awards_won Golden_Awards_won  \n",
       "3                 2                    0                0                 0  \n",
       "4                 0                    0                0                 0  \n",
       "5                 1                    0                0                 0  "
      ]
     },
     "execution_count": 71,
     "metadata": {},
     "output_type": "execute_result"
    }
   ],
   "source": [
    "pd_w_won.head(3)"
   ]
  },
  {
   "cell_type": "code",
   "execution_count": 72,
   "metadata": {
    "collapsed": true
   },
   "outputs": [],
   "source": [
    "pd_w_won_copy = pd_w_won.copy()"
   ]
  },
  {
   "cell_type": "code",
   "execution_count": 73,
   "metadata": {
    "collapsed": false
   },
   "outputs": [],
   "source": [
    "col_list = list(pd_w_won_copy)"
   ]
  },
  {
   "cell_type": "code",
   "execution_count": 74,
   "metadata": {
    "collapsed": false
   },
   "outputs": [
    {
     "data": {
      "text/plain": [
       "['Title',\n",
       " 'Awards',\n",
       " '3rd step',\n",
       " '4th step',\n",
       " 'Awards_Won_Raw',\n",
       " 'Awards_Nominated_Raw',\n",
       " 'Primetime_Awards_nominated',\n",
       " 'BAFTA_Awards_nominated',\n",
       " 'Oscar_nominated',\n",
       " 'Golden_Awards_nominated',\n",
       " 'Awards_nominated',\n",
       " 'Primetime_Awards_won',\n",
       " 'Oscar_Awards_won',\n",
       " 'Golden_Awards_won']"
      ]
     },
     "execution_count": 74,
     "metadata": {},
     "output_type": "execute_result"
    }
   ],
   "source": [
    "col_list"
   ]
  },
  {
   "cell_type": "code",
   "execution_count": 75,
   "metadata": {
    "collapsed": false
   },
   "outputs": [],
   "source": [
    "col_list = ['Title',\n",
    " 'Awards',\n",
    " '3rd step',\n",
    " '4th step',\n",
    " 'Awards_Nominated_Raw',\n",
    " 'Primetime_Awards_nominated',\n",
    " 'BAFTA_Awards_nominated',\n",
    " 'Oscar_nominated',\n",
    " 'Golden_Awards_nominated',\n",
    " 'Awards_nominated',\n",
    " 'Awards_Won_Raw',\n",
    " 'Primetime_Awards_won',\n",
    " 'Oscar_Awards_won',\n",
    " 'Golden_Awards_won']"
   ]
  },
  {
   "cell_type": "code",
   "execution_count": 76,
   "metadata": {
    "collapsed": false
   },
   "outputs": [],
   "source": [
    "pd_w_won_copy = pd_w_won_copy[col_list]"
   ]
  },
  {
   "cell_type": "code",
   "execution_count": null,
   "metadata": {
    "collapsed": true
   },
   "outputs": [],
   "source": []
  },
  {
   "cell_type": "code",
   "execution_count": 77,
   "metadata": {
    "collapsed": false,
    "scrolled": true
   },
   "outputs": [
    {
     "data": {
      "text/html": [
       "<div>\n",
       "<table border=\"1\" class=\"dataframe\">\n",
       "  <thead>\n",
       "    <tr style=\"text-align: right;\">\n",
       "      <th></th>\n",
       "      <th>Title</th>\n",
       "      <th>Awards</th>\n",
       "      <th>3rd step</th>\n",
       "      <th>4th step</th>\n",
       "      <th>Awards_Nominated_Raw</th>\n",
       "      <th>Primetime_Awards_nominated</th>\n",
       "      <th>BAFTA_Awards_nominated</th>\n",
       "      <th>Oscar_nominated</th>\n",
       "      <th>Golden_Awards_nominated</th>\n",
       "      <th>Awards_nominated</th>\n",
       "      <th>Awards_Won_Raw</th>\n",
       "      <th>Primetime_Awards_won</th>\n",
       "      <th>Oscar_Awards_won</th>\n",
       "      <th>Golden_Awards_won</th>\n",
       "    </tr>\n",
       "  </thead>\n",
       "  <tbody>\n",
       "    <tr>\n",
       "      <th>3</th>\n",
       "      <td>Who Are You?</td>\n",
       "      <td>1 win &amp; 2 nominations.</td>\n",
       "      <td>1 win &amp; 2 nominations</td>\n",
       "      <td>0</td>\n",
       "      <td>2</td>\n",
       "      <td>0</td>\n",
       "      <td>0</td>\n",
       "      <td>0</td>\n",
       "      <td>0</td>\n",
       "      <td>2</td>\n",
       "      <td>1</td>\n",
       "      <td>0</td>\n",
       "      <td>0</td>\n",
       "      <td>0</td>\n",
       "    </tr>\n",
       "  </tbody>\n",
       "</table>\n",
       "</div>"
      ],
      "text/plain": [
       "          Title                  Awards               3rd step 4th step  \\\n",
       "3  Who Are You?  1 win & 2 nominations.  1 win & 2 nominations        0   \n",
       "\n",
       "   Awards_Nominated_Raw  Primetime_Awards_nominated  BAFTA_Awards_nominated  \\\n",
       "3                     2                           0                       0   \n",
       "\n",
       "   Oscar_nominated  Golden_Awards_nominated  Awards_nominated  Awards_Won_Raw  \\\n",
       "3                0                        0                 2               1   \n",
       "\n",
       "  Primetime_Awards_won Oscar_Awards_won Golden_Awards_won  \n",
       "3                    0                0                 0  "
      ]
     },
     "execution_count": 77,
     "metadata": {},
     "output_type": "execute_result"
    }
   ],
   "source": [
    "pd_w_won_copy.head(1)"
   ]
  },
  {
   "cell_type": "code",
   "execution_count": 78,
   "metadata": {
    "collapsed": false
   },
   "outputs": [
    {
     "data": {
      "text/plain": [
       "Title                                                                        24\n",
       "Awards                        Won 2 Golden Globes. Another 68 wins & 201 nom...\n",
       "3rd step                                      Another 68 wins & 201 nominations\n",
       "4th step                                                    Won 2 Golden Globes\n",
       "Awards_Nominated_Raw                                                        201\n",
       "Primetime_Awards_nominated                                                    0\n",
       "BAFTA_Awards_nominated                                                        0\n",
       "Oscar_nominated                                                               0\n",
       "Golden_Awards_nominated                                                       0\n",
       "Awards_nominated                                                            201\n",
       "Awards_Won_Raw                                                               68\n",
       "Primetime_Awards_won                                                          0\n",
       "Oscar_Awards_won                                                              0\n",
       "Golden_Awards_won                                                             2\n",
       "Name: 50, dtype: object"
      ]
     },
     "execution_count": 78,
     "metadata": {},
     "output_type": "execute_result"
    }
   ],
   "source": [
    "pd_w_won_copy.ix[50]"
   ]
  },
  {
   "cell_type": "code",
   "execution_count": 79,
   "metadata": {
    "collapsed": false
   },
   "outputs": [
    {
     "data": {
      "text/plain": [
       "['Awards_nominated',\n",
       " 'Awards_Won_Raw',\n",
       " 'Primetime_Awards_won',\n",
       " 'Oscar_Awards_won']"
      ]
     },
     "execution_count": 79,
     "metadata": {},
     "output_type": "execute_result"
    }
   ],
   "source": [
    "col_list[9:13]"
   ]
  },
  {
   "cell_type": "code",
   "execution_count": 80,
   "metadata": {
    "collapsed": true
   },
   "outputs": [],
   "source": [
    "pd_w_won_copy =pd.concat([pd_w_won_copy[col_list[:4]], pd_w_won_copy[col_list[4:]].astype(int)], axis=1)"
   ]
  },
  {
   "cell_type": "code",
   "execution_count": 81,
   "metadata": {
    "collapsed": true
   },
   "outputs": [],
   "source": [
    "pd_w_won_copy['Awards_won'] = pd_w_won_copy[col_list[10:]].sum(axis=1)"
   ]
  },
  {
   "cell_type": "code",
   "execution_count": 82,
   "metadata": {
    "collapsed": false
   },
   "outputs": [
    {
     "data": {
      "text/plain": [
       "Title                                                                        24\n",
       "Awards                        Won 2 Golden Globes. Another 68 wins & 201 nom...\n",
       "3rd step                                      Another 68 wins & 201 nominations\n",
       "4th step                                                    Won 2 Golden Globes\n",
       "Awards_Nominated_Raw                                                        201\n",
       "Primetime_Awards_nominated                                                    0\n",
       "BAFTA_Awards_nominated                                                        0\n",
       "Oscar_nominated                                                               0\n",
       "Golden_Awards_nominated                                                       0\n",
       "Awards_nominated                                                            201\n",
       "Awards_Won_Raw                                                               68\n",
       "Primetime_Awards_won                                                          0\n",
       "Oscar_Awards_won                                                              0\n",
       "Golden_Awards_won                                                             2\n",
       "Awards_won                                                                   70\n",
       "Name: 50, dtype: object"
      ]
     },
     "execution_count": 82,
     "metadata": {},
     "output_type": "execute_result"
    }
   ],
   "source": [
    "pd_w_won_copy.ix[50]"
   ]
  },
  {
   "cell_type": "code",
   "execution_count": null,
   "metadata": {
    "collapsed": true
   },
   "outputs": [],
   "source": []
  },
  {
   "cell_type": "code",
   "execution_count": 83,
   "metadata": {
    "collapsed": false
   },
   "outputs": [],
   "source": [
    "pd_w_won_copy2 = pd_w_won_copy"
   ]
  },
  {
   "cell_type": "code",
   "execution_count": 84,
   "metadata": {
    "collapsed": false
   },
   "outputs": [
    {
     "data": {
      "text/html": [
       "<div>\n",
       "<table border=\"1\" class=\"dataframe\">\n",
       "  <thead>\n",
       "    <tr style=\"text-align: right;\">\n",
       "      <th></th>\n",
       "      <th>Title</th>\n",
       "      <th>Awards</th>\n",
       "      <th>Primetime_Awards_nominated</th>\n",
       "      <th>BAFTA_Awards_nominated</th>\n",
       "      <th>Oscar_nominated</th>\n",
       "      <th>Golden_Awards_nominated</th>\n",
       "      <th>Awards_nominated</th>\n",
       "      <th>Primetime_Awards_won</th>\n",
       "      <th>Oscar_Awards_won</th>\n",
       "      <th>Golden_Awards_won</th>\n",
       "      <th>Awards_won</th>\n",
       "    </tr>\n",
       "  </thead>\n",
       "  <tbody>\n",
       "    <tr>\n",
       "      <th>3</th>\n",
       "      <td>Who Are You?</td>\n",
       "      <td>1 win &amp; 2 nominations.</td>\n",
       "      <td>0</td>\n",
       "      <td>0</td>\n",
       "      <td>0</td>\n",
       "      <td>0</td>\n",
       "      <td>2</td>\n",
       "      <td>0</td>\n",
       "      <td>0</td>\n",
       "      <td>0</td>\n",
       "      <td>1</td>\n",
       "    </tr>\n",
       "    <tr>\n",
       "      <th>4</th>\n",
       "      <td>Skeletons in the Closet</td>\n",
       "      <td>1 win.</td>\n",
       "      <td>0</td>\n",
       "      <td>0</td>\n",
       "      <td>0</td>\n",
       "      <td>0</td>\n",
       "      <td>0</td>\n",
       "      <td>0</td>\n",
       "      <td>0</td>\n",
       "      <td>0</td>\n",
       "      <td>1</td>\n",
       "    </tr>\n",
       "    <tr>\n",
       "      <th>5</th>\n",
       "      <td>Cheerleader Ninjas</td>\n",
       "      <td>1 nomination.</td>\n",
       "      <td>0</td>\n",
       "      <td>0</td>\n",
       "      <td>0</td>\n",
       "      <td>0</td>\n",
       "      <td>1</td>\n",
       "      <td>0</td>\n",
       "      <td>0</td>\n",
       "      <td>0</td>\n",
       "      <td>0</td>\n",
       "    </tr>\n",
       "    <tr>\n",
       "      <th>6</th>\n",
       "      <td>The Girl from Paris</td>\n",
       "      <td>3 wins &amp; 2 nominations.</td>\n",
       "      <td>0</td>\n",
       "      <td>0</td>\n",
       "      <td>0</td>\n",
       "      <td>0</td>\n",
       "      <td>2</td>\n",
       "      <td>0</td>\n",
       "      <td>0</td>\n",
       "      <td>0</td>\n",
       "      <td>3</td>\n",
       "    </tr>\n",
       "    <tr>\n",
       "      <th>7</th>\n",
       "      <td>The Final Curtain</td>\n",
       "      <td>1 win &amp; 1 nomination.</td>\n",
       "      <td>0</td>\n",
       "      <td>0</td>\n",
       "      <td>0</td>\n",
       "      <td>0</td>\n",
       "      <td>1</td>\n",
       "      <td>0</td>\n",
       "      <td>0</td>\n",
       "      <td>0</td>\n",
       "      <td>1</td>\n",
       "    </tr>\n",
       "    <tr>\n",
       "      <th>11</th>\n",
       "      <td>Crazy/Beautiful</td>\n",
       "      <td>5 nominations.</td>\n",
       "      <td>0</td>\n",
       "      <td>0</td>\n",
       "      <td>0</td>\n",
       "      <td>0</td>\n",
       "      <td>5</td>\n",
       "      <td>0</td>\n",
       "      <td>0</td>\n",
       "      <td>0</td>\n",
       "      <td>0</td>\n",
       "    </tr>\n",
       "    <tr>\n",
       "      <th>13</th>\n",
       "      <td>The Anniversary Party</td>\n",
       "      <td>2 wins &amp; 5 nominations.</td>\n",
       "      <td>0</td>\n",
       "      <td>0</td>\n",
       "      <td>0</td>\n",
       "      <td>0</td>\n",
       "      <td>5</td>\n",
       "      <td>0</td>\n",
       "      <td>0</td>\n",
       "      <td>0</td>\n",
       "      <td>2</td>\n",
       "    </tr>\n",
       "    <tr>\n",
       "      <th>15</th>\n",
       "      <td>The Quiet American</td>\n",
       "      <td>Nominated for 1 Oscar. Another 13 wins &amp; 13 no...</td>\n",
       "      <td>0</td>\n",
       "      <td>0</td>\n",
       "      <td>1</td>\n",
       "      <td>0</td>\n",
       "      <td>14</td>\n",
       "      <td>0</td>\n",
       "      <td>0</td>\n",
       "      <td>0</td>\n",
       "      <td>13</td>\n",
       "    </tr>\n",
       "    <tr>\n",
       "      <th>18</th>\n",
       "      <td>Like Cat and Mouse</td>\n",
       "      <td>5 wins &amp; 4 nominations.</td>\n",
       "      <td>0</td>\n",
       "      <td>0</td>\n",
       "      <td>0</td>\n",
       "      <td>0</td>\n",
       "      <td>4</td>\n",
       "      <td>0</td>\n",
       "      <td>0</td>\n",
       "      <td>0</td>\n",
       "      <td>5</td>\n",
       "    </tr>\n",
       "    <tr>\n",
       "      <th>24</th>\n",
       "      <td>Punch-Drunk Love</td>\n",
       "      <td>Nominated for 1 Golden Globe. Another 14 wins ...</td>\n",
       "      <td>0</td>\n",
       "      <td>0</td>\n",
       "      <td>0</td>\n",
       "      <td>1</td>\n",
       "      <td>35</td>\n",
       "      <td>0</td>\n",
       "      <td>0</td>\n",
       "      <td>0</td>\n",
       "      <td>14</td>\n",
       "    </tr>\n",
       "    <tr>\n",
       "      <th>25</th>\n",
       "      <td>Romeo</td>\n",
       "      <td>3 wins &amp; 2 nominations.</td>\n",
       "      <td>0</td>\n",
       "      <td>0</td>\n",
       "      <td>0</td>\n",
       "      <td>0</td>\n",
       "      <td>2</td>\n",
       "      <td>0</td>\n",
       "      <td>0</td>\n",
       "      <td>0</td>\n",
       "      <td>3</td>\n",
       "    </tr>\n",
       "    <tr>\n",
       "      <th>28</th>\n",
       "      <td>Academia de baile Gloria</td>\n",
       "      <td>1 nomination.</td>\n",
       "      <td>0</td>\n",
       "      <td>0</td>\n",
       "      <td>0</td>\n",
       "      <td>0</td>\n",
       "      <td>1</td>\n",
       "      <td>0</td>\n",
       "      <td>0</td>\n",
       "      <td>0</td>\n",
       "      <td>0</td>\n",
       "    </tr>\n",
       "    <tr>\n",
       "      <th>31</th>\n",
       "      <td>Return to Never Land</td>\n",
       "      <td>5 nominations.</td>\n",
       "      <td>0</td>\n",
       "      <td>0</td>\n",
       "      <td>0</td>\n",
       "      <td>0</td>\n",
       "      <td>5</td>\n",
       "      <td>0</td>\n",
       "      <td>0</td>\n",
       "      <td>0</td>\n",
       "      <td>0</td>\n",
       "    </tr>\n",
       "    <tr>\n",
       "      <th>34</th>\n",
       "      <td>Better Luck Tomorrow</td>\n",
       "      <td>1 win &amp; 2 nominations.</td>\n",
       "      <td>0</td>\n",
       "      <td>0</td>\n",
       "      <td>0</td>\n",
       "      <td>0</td>\n",
       "      <td>2</td>\n",
       "      <td>0</td>\n",
       "      <td>0</td>\n",
       "      <td>0</td>\n",
       "      <td>1</td>\n",
       "    </tr>\n",
       "    <tr>\n",
       "      <th>37</th>\n",
       "      <td>A Grande Família</td>\n",
       "      <td>22 wins &amp; 44 nominations.</td>\n",
       "      <td>0</td>\n",
       "      <td>0</td>\n",
       "      <td>0</td>\n",
       "      <td>0</td>\n",
       "      <td>44</td>\n",
       "      <td>0</td>\n",
       "      <td>0</td>\n",
       "      <td>0</td>\n",
       "      <td>22</td>\n",
       "    </tr>\n",
       "    <tr>\n",
       "      <th>38</th>\n",
       "      <td>El lado oscuro del corazón 2</td>\n",
       "      <td>1 win &amp; 3 nominations.</td>\n",
       "      <td>0</td>\n",
       "      <td>0</td>\n",
       "      <td>0</td>\n",
       "      <td>0</td>\n",
       "      <td>3</td>\n",
       "      <td>0</td>\n",
       "      <td>0</td>\n",
       "      <td>0</td>\n",
       "      <td>1</td>\n",
       "    </tr>\n",
       "    <tr>\n",
       "      <th>39</th>\n",
       "      <td>Slap Shot 2: Breaking the Ice</td>\n",
       "      <td>1 win &amp; 8 nominations.</td>\n",
       "      <td>0</td>\n",
       "      <td>0</td>\n",
       "      <td>0</td>\n",
       "      <td>0</td>\n",
       "      <td>8</td>\n",
       "      <td>0</td>\n",
       "      <td>0</td>\n",
       "      <td>0</td>\n",
       "      <td>1</td>\n",
       "    </tr>\n",
       "    <tr>\n",
       "      <th>43</th>\n",
       "      <td>Van Wilder: Party Liaison</td>\n",
       "      <td>2 nominations.</td>\n",
       "      <td>0</td>\n",
       "      <td>0</td>\n",
       "      <td>0</td>\n",
       "      <td>0</td>\n",
       "      <td>2</td>\n",
       "      <td>0</td>\n",
       "      <td>0</td>\n",
       "      <td>0</td>\n",
       "      <td>0</td>\n",
       "    </tr>\n",
       "    <tr>\n",
       "      <th>47</th>\n",
       "      <td>Black Box BRD</td>\n",
       "      <td>6 wins &amp; 1 nomination.</td>\n",
       "      <td>0</td>\n",
       "      <td>0</td>\n",
       "      <td>0</td>\n",
       "      <td>0</td>\n",
       "      <td>1</td>\n",
       "      <td>0</td>\n",
       "      <td>0</td>\n",
       "      <td>0</td>\n",
       "      <td>6</td>\n",
       "    </tr>\n",
       "    <tr>\n",
       "      <th>50</th>\n",
       "      <td>24</td>\n",
       "      <td>Won 2 Golden Globes. Another 68 wins &amp; 201 nom...</td>\n",
       "      <td>0</td>\n",
       "      <td>0</td>\n",
       "      <td>0</td>\n",
       "      <td>0</td>\n",
       "      <td>201</td>\n",
       "      <td>0</td>\n",
       "      <td>0</td>\n",
       "      <td>2</td>\n",
       "      <td>70</td>\n",
       "    </tr>\n",
       "  </tbody>\n",
       "</table>\n",
       "</div>"
      ],
      "text/plain": [
       "                            Title  \\\n",
       "3                    Who Are You?   \n",
       "4         Skeletons in the Closet   \n",
       "5              Cheerleader Ninjas   \n",
       "6             The Girl from Paris   \n",
       "7               The Final Curtain   \n",
       "11                Crazy/Beautiful   \n",
       "13          The Anniversary Party   \n",
       "15             The Quiet American   \n",
       "18             Like Cat and Mouse   \n",
       "24               Punch-Drunk Love   \n",
       "25                          Romeo   \n",
       "28       Academia de baile Gloria   \n",
       "31           Return to Never Land   \n",
       "34           Better Luck Tomorrow   \n",
       "37               A Grande Família   \n",
       "38   El lado oscuro del corazón 2   \n",
       "39  Slap Shot 2: Breaking the Ice   \n",
       "43      Van Wilder: Party Liaison   \n",
       "47                  Black Box BRD   \n",
       "50                             24   \n",
       "\n",
       "                                               Awards  \\\n",
       "3                              1 win & 2 nominations.   \n",
       "4                                              1 win.   \n",
       "5                                       1 nomination.   \n",
       "6                             3 wins & 2 nominations.   \n",
       "7                               1 win & 1 nomination.   \n",
       "11                                     5 nominations.   \n",
       "13                            2 wins & 5 nominations.   \n",
       "15  Nominated for 1 Oscar. Another 13 wins & 13 no...   \n",
       "18                            5 wins & 4 nominations.   \n",
       "24  Nominated for 1 Golden Globe. Another 14 wins ...   \n",
       "25                            3 wins & 2 nominations.   \n",
       "28                                      1 nomination.   \n",
       "31                                     5 nominations.   \n",
       "34                             1 win & 2 nominations.   \n",
       "37                          22 wins & 44 nominations.   \n",
       "38                             1 win & 3 nominations.   \n",
       "39                             1 win & 8 nominations.   \n",
       "43                                     2 nominations.   \n",
       "47                             6 wins & 1 nomination.   \n",
       "50  Won 2 Golden Globes. Another 68 wins & 201 nom...   \n",
       "\n",
       "    Primetime_Awards_nominated  BAFTA_Awards_nominated  Oscar_nominated  \\\n",
       "3                            0                       0                0   \n",
       "4                            0                       0                0   \n",
       "5                            0                       0                0   \n",
       "6                            0                       0                0   \n",
       "7                            0                       0                0   \n",
       "11                           0                       0                0   \n",
       "13                           0                       0                0   \n",
       "15                           0                       0                1   \n",
       "18                           0                       0                0   \n",
       "24                           0                       0                0   \n",
       "25                           0                       0                0   \n",
       "28                           0                       0                0   \n",
       "31                           0                       0                0   \n",
       "34                           0                       0                0   \n",
       "37                           0                       0                0   \n",
       "38                           0                       0                0   \n",
       "39                           0                       0                0   \n",
       "43                           0                       0                0   \n",
       "47                           0                       0                0   \n",
       "50                           0                       0                0   \n",
       "\n",
       "    Golden_Awards_nominated  Awards_nominated  Primetime_Awards_won  \\\n",
       "3                         0                 2                     0   \n",
       "4                         0                 0                     0   \n",
       "5                         0                 1                     0   \n",
       "6                         0                 2                     0   \n",
       "7                         0                 1                     0   \n",
       "11                        0                 5                     0   \n",
       "13                        0                 5                     0   \n",
       "15                        0                14                     0   \n",
       "18                        0                 4                     0   \n",
       "24                        1                35                     0   \n",
       "25                        0                 2                     0   \n",
       "28                        0                 1                     0   \n",
       "31                        0                 5                     0   \n",
       "34                        0                 2                     0   \n",
       "37                        0                44                     0   \n",
       "38                        0                 3                     0   \n",
       "39                        0                 8                     0   \n",
       "43                        0                 2                     0   \n",
       "47                        0                 1                     0   \n",
       "50                        0               201                     0   \n",
       "\n",
       "    Oscar_Awards_won  Golden_Awards_won  Awards_won  \n",
       "3                  0                  0           1  \n",
       "4                  0                  0           1  \n",
       "5                  0                  0           0  \n",
       "6                  0                  0           3  \n",
       "7                  0                  0           1  \n",
       "11                 0                  0           0  \n",
       "13                 0                  0           2  \n",
       "15                 0                  0          13  \n",
       "18                 0                  0           5  \n",
       "24                 0                  0          14  \n",
       "25                 0                  0           3  \n",
       "28                 0                  0           0  \n",
       "31                 0                  0           0  \n",
       "34                 0                  0           1  \n",
       "37                 0                  0          22  \n",
       "38                 0                  0           1  \n",
       "39                 0                  0           1  \n",
       "43                 0                  0           0  \n",
       "47                 0                  0           6  \n",
       "50                 0                  2          70  "
      ]
     },
     "execution_count": 84,
     "metadata": {},
     "output_type": "execute_result"
    }
   ],
   "source": [
    "pd_w_won_copy2.drop(['3rd step','4th step','Awards_Nominated_Raw','Awards_Won_Raw'], axis=1).head(20)"
   ]
  },
  {
   "cell_type": "code",
   "execution_count": null,
   "metadata": {
    "collapsed": true
   },
   "outputs": [],
   "source": []
  },
  {
   "cell_type": "markdown",
   "metadata": {
    "collapsed": true
   },
   "source": [
    "Last step is to switch column orders and output to csv"
   ]
  },
  {
   "cell_type": "code",
   "execution_count": 87,
   "metadata": {
    "collapsed": false
   },
   "outputs": [
    {
     "data": {
      "text/plain": [
       "['Title',\n",
       " 'Awards',\n",
       " '3rd step',\n",
       " '4th step',\n",
       " 'Awards_Nominated_Raw',\n",
       " 'Primetime_Awards_nominated',\n",
       " 'BAFTA_Awards_nominated',\n",
       " 'Oscar_nominated',\n",
       " 'Golden_Awards_nominated',\n",
       " 'Awards_nominated',\n",
       " 'Awards_Won_Raw',\n",
       " 'Primetime_Awards_won',\n",
       " 'Oscar_Awards_won',\n",
       " 'Golden_Awards_won',\n",
       " 'Awards_won']"
      ]
     },
     "execution_count": 87,
     "metadata": {},
     "output_type": "execute_result"
    }
   ],
   "source": [
    "l_out = pd_w_won_copy2.columns.tolist()\n",
    "l_out"
   ]
  },
  {
   "cell_type": "code",
   "execution_count": 88,
   "metadata": {
    "collapsed": true
   },
   "outputs": [],
   "source": [
    "l_out = ['Title',\n",
    " 'Awards',\n",
    " 'Awards_won',\n",
    " 'Awards_nominated',\n",
    " 'Primetime_Awards_nominated',\n",
    " 'BAFTA_Awards_nominated',\n",
    " 'Oscar_nominated',\n",
    " 'Golden_Awards_nominated',\n",
    " 'Primetime_Awards_won',\n",
    " 'Oscar_Awards_won',\n",
    " 'Golden_Awards_won'\n",
    " ]"
   ]
  },
  {
   "cell_type": "code",
   "execution_count": 90,
   "metadata": {
    "collapsed": false
   },
   "outputs": [
    {
     "data": {
      "text/html": [
       "<div>\n",
       "<table border=\"1\" class=\"dataframe\">\n",
       "  <thead>\n",
       "    <tr style=\"text-align: right;\">\n",
       "      <th></th>\n",
       "      <th>Title</th>\n",
       "      <th>Awards</th>\n",
       "      <th>Awards_won</th>\n",
       "      <th>Awards_nominated</th>\n",
       "      <th>Primetime_Awards_nominated</th>\n",
       "      <th>BAFTA_Awards_nominated</th>\n",
       "      <th>Oscar_nominated</th>\n",
       "      <th>Golden_Awards_nominated</th>\n",
       "      <th>Primetime_Awards_won</th>\n",
       "      <th>Oscar_Awards_won</th>\n",
       "      <th>Golden_Awards_won</th>\n",
       "    </tr>\n",
       "  </thead>\n",
       "  <tbody>\n",
       "    <tr>\n",
       "      <th>3</th>\n",
       "      <td>Who Are You?</td>\n",
       "      <td>1 win &amp; 2 nominations.</td>\n",
       "      <td>1</td>\n",
       "      <td>2</td>\n",
       "      <td>0</td>\n",
       "      <td>0</td>\n",
       "      <td>0</td>\n",
       "      <td>0</td>\n",
       "      <td>0</td>\n",
       "      <td>0</td>\n",
       "      <td>0</td>\n",
       "    </tr>\n",
       "    <tr>\n",
       "      <th>4</th>\n",
       "      <td>Skeletons in the Closet</td>\n",
       "      <td>1 win.</td>\n",
       "      <td>1</td>\n",
       "      <td>0</td>\n",
       "      <td>0</td>\n",
       "      <td>0</td>\n",
       "      <td>0</td>\n",
       "      <td>0</td>\n",
       "      <td>0</td>\n",
       "      <td>0</td>\n",
       "      <td>0</td>\n",
       "    </tr>\n",
       "    <tr>\n",
       "      <th>5</th>\n",
       "      <td>Cheerleader Ninjas</td>\n",
       "      <td>1 nomination.</td>\n",
       "      <td>0</td>\n",
       "      <td>1</td>\n",
       "      <td>0</td>\n",
       "      <td>0</td>\n",
       "      <td>0</td>\n",
       "      <td>0</td>\n",
       "      <td>0</td>\n",
       "      <td>0</td>\n",
       "      <td>0</td>\n",
       "    </tr>\n",
       "    <tr>\n",
       "      <th>6</th>\n",
       "      <td>The Girl from Paris</td>\n",
       "      <td>3 wins &amp; 2 nominations.</td>\n",
       "      <td>3</td>\n",
       "      <td>2</td>\n",
       "      <td>0</td>\n",
       "      <td>0</td>\n",
       "      <td>0</td>\n",
       "      <td>0</td>\n",
       "      <td>0</td>\n",
       "      <td>0</td>\n",
       "      <td>0</td>\n",
       "    </tr>\n",
       "    <tr>\n",
       "      <th>7</th>\n",
       "      <td>The Final Curtain</td>\n",
       "      <td>1 win &amp; 1 nomination.</td>\n",
       "      <td>1</td>\n",
       "      <td>1</td>\n",
       "      <td>0</td>\n",
       "      <td>0</td>\n",
       "      <td>0</td>\n",
       "      <td>0</td>\n",
       "      <td>0</td>\n",
       "      <td>0</td>\n",
       "      <td>0</td>\n",
       "    </tr>\n",
       "    <tr>\n",
       "      <th>11</th>\n",
       "      <td>Crazy/Beautiful</td>\n",
       "      <td>5 nominations.</td>\n",
       "      <td>0</td>\n",
       "      <td>5</td>\n",
       "      <td>0</td>\n",
       "      <td>0</td>\n",
       "      <td>0</td>\n",
       "      <td>0</td>\n",
       "      <td>0</td>\n",
       "      <td>0</td>\n",
       "      <td>0</td>\n",
       "    </tr>\n",
       "    <tr>\n",
       "      <th>13</th>\n",
       "      <td>The Anniversary Party</td>\n",
       "      <td>2 wins &amp; 5 nominations.</td>\n",
       "      <td>2</td>\n",
       "      <td>5</td>\n",
       "      <td>0</td>\n",
       "      <td>0</td>\n",
       "      <td>0</td>\n",
       "      <td>0</td>\n",
       "      <td>0</td>\n",
       "      <td>0</td>\n",
       "      <td>0</td>\n",
       "    </tr>\n",
       "    <tr>\n",
       "      <th>15</th>\n",
       "      <td>The Quiet American</td>\n",
       "      <td>Nominated for 1 Oscar. Another 13 wins &amp; 13 no...</td>\n",
       "      <td>13</td>\n",
       "      <td>14</td>\n",
       "      <td>0</td>\n",
       "      <td>0</td>\n",
       "      <td>1</td>\n",
       "      <td>0</td>\n",
       "      <td>0</td>\n",
       "      <td>0</td>\n",
       "      <td>0</td>\n",
       "    </tr>\n",
       "    <tr>\n",
       "      <th>18</th>\n",
       "      <td>Like Cat and Mouse</td>\n",
       "      <td>5 wins &amp; 4 nominations.</td>\n",
       "      <td>5</td>\n",
       "      <td>4</td>\n",
       "      <td>0</td>\n",
       "      <td>0</td>\n",
       "      <td>0</td>\n",
       "      <td>0</td>\n",
       "      <td>0</td>\n",
       "      <td>0</td>\n",
       "      <td>0</td>\n",
       "    </tr>\n",
       "    <tr>\n",
       "      <th>24</th>\n",
       "      <td>Punch-Drunk Love</td>\n",
       "      <td>Nominated for 1 Golden Globe. Another 14 wins ...</td>\n",
       "      <td>14</td>\n",
       "      <td>35</td>\n",
       "      <td>0</td>\n",
       "      <td>0</td>\n",
       "      <td>0</td>\n",
       "      <td>1</td>\n",
       "      <td>0</td>\n",
       "      <td>0</td>\n",
       "      <td>0</td>\n",
       "    </tr>\n",
       "    <tr>\n",
       "      <th>25</th>\n",
       "      <td>Romeo</td>\n",
       "      <td>3 wins &amp; 2 nominations.</td>\n",
       "      <td>3</td>\n",
       "      <td>2</td>\n",
       "      <td>0</td>\n",
       "      <td>0</td>\n",
       "      <td>0</td>\n",
       "      <td>0</td>\n",
       "      <td>0</td>\n",
       "      <td>0</td>\n",
       "      <td>0</td>\n",
       "    </tr>\n",
       "    <tr>\n",
       "      <th>28</th>\n",
       "      <td>Academia de baile Gloria</td>\n",
       "      <td>1 nomination.</td>\n",
       "      <td>0</td>\n",
       "      <td>1</td>\n",
       "      <td>0</td>\n",
       "      <td>0</td>\n",
       "      <td>0</td>\n",
       "      <td>0</td>\n",
       "      <td>0</td>\n",
       "      <td>0</td>\n",
       "      <td>0</td>\n",
       "    </tr>\n",
       "    <tr>\n",
       "      <th>31</th>\n",
       "      <td>Return to Never Land</td>\n",
       "      <td>5 nominations.</td>\n",
       "      <td>0</td>\n",
       "      <td>5</td>\n",
       "      <td>0</td>\n",
       "      <td>0</td>\n",
       "      <td>0</td>\n",
       "      <td>0</td>\n",
       "      <td>0</td>\n",
       "      <td>0</td>\n",
       "      <td>0</td>\n",
       "    </tr>\n",
       "    <tr>\n",
       "      <th>34</th>\n",
       "      <td>Better Luck Tomorrow</td>\n",
       "      <td>1 win &amp; 2 nominations.</td>\n",
       "      <td>1</td>\n",
       "      <td>2</td>\n",
       "      <td>0</td>\n",
       "      <td>0</td>\n",
       "      <td>0</td>\n",
       "      <td>0</td>\n",
       "      <td>0</td>\n",
       "      <td>0</td>\n",
       "      <td>0</td>\n",
       "    </tr>\n",
       "    <tr>\n",
       "      <th>37</th>\n",
       "      <td>A Grande Família</td>\n",
       "      <td>22 wins &amp; 44 nominations.</td>\n",
       "      <td>22</td>\n",
       "      <td>44</td>\n",
       "      <td>0</td>\n",
       "      <td>0</td>\n",
       "      <td>0</td>\n",
       "      <td>0</td>\n",
       "      <td>0</td>\n",
       "      <td>0</td>\n",
       "      <td>0</td>\n",
       "    </tr>\n",
       "    <tr>\n",
       "      <th>38</th>\n",
       "      <td>El lado oscuro del corazón 2</td>\n",
       "      <td>1 win &amp; 3 nominations.</td>\n",
       "      <td>1</td>\n",
       "      <td>3</td>\n",
       "      <td>0</td>\n",
       "      <td>0</td>\n",
       "      <td>0</td>\n",
       "      <td>0</td>\n",
       "      <td>0</td>\n",
       "      <td>0</td>\n",
       "      <td>0</td>\n",
       "    </tr>\n",
       "    <tr>\n",
       "      <th>39</th>\n",
       "      <td>Slap Shot 2: Breaking the Ice</td>\n",
       "      <td>1 win &amp; 8 nominations.</td>\n",
       "      <td>1</td>\n",
       "      <td>8</td>\n",
       "      <td>0</td>\n",
       "      <td>0</td>\n",
       "      <td>0</td>\n",
       "      <td>0</td>\n",
       "      <td>0</td>\n",
       "      <td>0</td>\n",
       "      <td>0</td>\n",
       "    </tr>\n",
       "    <tr>\n",
       "      <th>43</th>\n",
       "      <td>Van Wilder: Party Liaison</td>\n",
       "      <td>2 nominations.</td>\n",
       "      <td>0</td>\n",
       "      <td>2</td>\n",
       "      <td>0</td>\n",
       "      <td>0</td>\n",
       "      <td>0</td>\n",
       "      <td>0</td>\n",
       "      <td>0</td>\n",
       "      <td>0</td>\n",
       "      <td>0</td>\n",
       "    </tr>\n",
       "    <tr>\n",
       "      <th>47</th>\n",
       "      <td>Black Box BRD</td>\n",
       "      <td>6 wins &amp; 1 nomination.</td>\n",
       "      <td>6</td>\n",
       "      <td>1</td>\n",
       "      <td>0</td>\n",
       "      <td>0</td>\n",
       "      <td>0</td>\n",
       "      <td>0</td>\n",
       "      <td>0</td>\n",
       "      <td>0</td>\n",
       "      <td>0</td>\n",
       "    </tr>\n",
       "    <tr>\n",
       "      <th>50</th>\n",
       "      <td>24</td>\n",
       "      <td>Won 2 Golden Globes. Another 68 wins &amp; 201 nom...</td>\n",
       "      <td>70</td>\n",
       "      <td>201</td>\n",
       "      <td>0</td>\n",
       "      <td>0</td>\n",
       "      <td>0</td>\n",
       "      <td>0</td>\n",
       "      <td>0</td>\n",
       "      <td>0</td>\n",
       "      <td>2</td>\n",
       "    </tr>\n",
       "    <tr>\n",
       "      <th>51</th>\n",
       "      <td>Alias</td>\n",
       "      <td>Won 1 Golden Globe. Another 31 wins &amp; 143 nomi...</td>\n",
       "      <td>32</td>\n",
       "      <td>143</td>\n",
       "      <td>0</td>\n",
       "      <td>0</td>\n",
       "      <td>0</td>\n",
       "      <td>0</td>\n",
       "      <td>0</td>\n",
       "      <td>0</td>\n",
       "      <td>1</td>\n",
       "    </tr>\n",
       "    <tr>\n",
       "      <th>53</th>\n",
       "      <td>According to Jim</td>\n",
       "      <td>Nominated for 4 Primetime Emmys. Another 16 no...</td>\n",
       "      <td>0</td>\n",
       "      <td>20</td>\n",
       "      <td>4</td>\n",
       "      <td>0</td>\n",
       "      <td>0</td>\n",
       "      <td>0</td>\n",
       "      <td>0</td>\n",
       "      <td>0</td>\n",
       "      <td>0</td>\n",
       "    </tr>\n",
       "    <tr>\n",
       "      <th>54</th>\n",
       "      <td>The Education of Max Bickford</td>\n",
       "      <td>3 wins &amp; 2 nominations.</td>\n",
       "      <td>3</td>\n",
       "      <td>2</td>\n",
       "      <td>0</td>\n",
       "      <td>0</td>\n",
       "      <td>0</td>\n",
       "      <td>0</td>\n",
       "      <td>0</td>\n",
       "      <td>0</td>\n",
       "      <td>0</td>\n",
       "    </tr>\n",
       "    <tr>\n",
       "      <th>56</th>\n",
       "      <td>A Padroeira</td>\n",
       "      <td>3 wins &amp; 6 nominations.</td>\n",
       "      <td>3</td>\n",
       "      <td>6</td>\n",
       "      <td>0</td>\n",
       "      <td>0</td>\n",
       "      <td>0</td>\n",
       "      <td>0</td>\n",
       "      <td>0</td>\n",
       "      <td>0</td>\n",
       "      <td>0</td>\n",
       "    </tr>\n",
       "    <tr>\n",
       "      <th>62</th>\n",
       "      <td>Poker</td>\n",
       "      <td>2 wins.</td>\n",
       "      <td>2</td>\n",
       "      <td>0</td>\n",
       "      <td>0</td>\n",
       "      <td>0</td>\n",
       "      <td>0</td>\n",
       "      <td>0</td>\n",
       "      <td>0</td>\n",
       "      <td>0</td>\n",
       "      <td>0</td>\n",
       "    </tr>\n",
       "  </tbody>\n",
       "</table>\n",
       "</div>"
      ],
      "text/plain": [
       "                            Title  \\\n",
       "3                    Who Are You?   \n",
       "4         Skeletons in the Closet   \n",
       "5              Cheerleader Ninjas   \n",
       "6             The Girl from Paris   \n",
       "7               The Final Curtain   \n",
       "11                Crazy/Beautiful   \n",
       "13          The Anniversary Party   \n",
       "15             The Quiet American   \n",
       "18             Like Cat and Mouse   \n",
       "24               Punch-Drunk Love   \n",
       "25                          Romeo   \n",
       "28       Academia de baile Gloria   \n",
       "31           Return to Never Land   \n",
       "34           Better Luck Tomorrow   \n",
       "37               A Grande Família   \n",
       "38   El lado oscuro del corazón 2   \n",
       "39  Slap Shot 2: Breaking the Ice   \n",
       "43      Van Wilder: Party Liaison   \n",
       "47                  Black Box BRD   \n",
       "50                             24   \n",
       "51                          Alias   \n",
       "53               According to Jim   \n",
       "54  The Education of Max Bickford   \n",
       "56                    A Padroeira   \n",
       "62                          Poker   \n",
       "\n",
       "                                               Awards  Awards_won  \\\n",
       "3                              1 win & 2 nominations.           1   \n",
       "4                                              1 win.           1   \n",
       "5                                       1 nomination.           0   \n",
       "6                             3 wins & 2 nominations.           3   \n",
       "7                               1 win & 1 nomination.           1   \n",
       "11                                     5 nominations.           0   \n",
       "13                            2 wins & 5 nominations.           2   \n",
       "15  Nominated for 1 Oscar. Another 13 wins & 13 no...          13   \n",
       "18                            5 wins & 4 nominations.           5   \n",
       "24  Nominated for 1 Golden Globe. Another 14 wins ...          14   \n",
       "25                            3 wins & 2 nominations.           3   \n",
       "28                                      1 nomination.           0   \n",
       "31                                     5 nominations.           0   \n",
       "34                             1 win & 2 nominations.           1   \n",
       "37                          22 wins & 44 nominations.          22   \n",
       "38                             1 win & 3 nominations.           1   \n",
       "39                             1 win & 8 nominations.           1   \n",
       "43                                     2 nominations.           0   \n",
       "47                             6 wins & 1 nomination.           6   \n",
       "50  Won 2 Golden Globes. Another 68 wins & 201 nom...          70   \n",
       "51  Won 1 Golden Globe. Another 31 wins & 143 nomi...          32   \n",
       "53  Nominated for 4 Primetime Emmys. Another 16 no...           0   \n",
       "54                            3 wins & 2 nominations.           3   \n",
       "56                            3 wins & 6 nominations.           3   \n",
       "62                                            2 wins.           2   \n",
       "\n",
       "    Awards_nominated  Primetime_Awards_nominated  BAFTA_Awards_nominated  \\\n",
       "3                  2                           0                       0   \n",
       "4                  0                           0                       0   \n",
       "5                  1                           0                       0   \n",
       "6                  2                           0                       0   \n",
       "7                  1                           0                       0   \n",
       "11                 5                           0                       0   \n",
       "13                 5                           0                       0   \n",
       "15                14                           0                       0   \n",
       "18                 4                           0                       0   \n",
       "24                35                           0                       0   \n",
       "25                 2                           0                       0   \n",
       "28                 1                           0                       0   \n",
       "31                 5                           0                       0   \n",
       "34                 2                           0                       0   \n",
       "37                44                           0                       0   \n",
       "38                 3                           0                       0   \n",
       "39                 8                           0                       0   \n",
       "43                 2                           0                       0   \n",
       "47                 1                           0                       0   \n",
       "50               201                           0                       0   \n",
       "51               143                           0                       0   \n",
       "53                20                           4                       0   \n",
       "54                 2                           0                       0   \n",
       "56                 6                           0                       0   \n",
       "62                 0                           0                       0   \n",
       "\n",
       "    Oscar_nominated  Golden_Awards_nominated  Primetime_Awards_won  \\\n",
       "3                 0                        0                     0   \n",
       "4                 0                        0                     0   \n",
       "5                 0                        0                     0   \n",
       "6                 0                        0                     0   \n",
       "7                 0                        0                     0   \n",
       "11                0                        0                     0   \n",
       "13                0                        0                     0   \n",
       "15                1                        0                     0   \n",
       "18                0                        0                     0   \n",
       "24                0                        1                     0   \n",
       "25                0                        0                     0   \n",
       "28                0                        0                     0   \n",
       "31                0                        0                     0   \n",
       "34                0                        0                     0   \n",
       "37                0                        0                     0   \n",
       "38                0                        0                     0   \n",
       "39                0                        0                     0   \n",
       "43                0                        0                     0   \n",
       "47                0                        0                     0   \n",
       "50                0                        0                     0   \n",
       "51                0                        0                     0   \n",
       "53                0                        0                     0   \n",
       "54                0                        0                     0   \n",
       "56                0                        0                     0   \n",
       "62                0                        0                     0   \n",
       "\n",
       "    Oscar_Awards_won  Golden_Awards_won  \n",
       "3                  0                  0  \n",
       "4                  0                  0  \n",
       "5                  0                  0  \n",
       "6                  0                  0  \n",
       "7                  0                  0  \n",
       "11                 0                  0  \n",
       "13                 0                  0  \n",
       "15                 0                  0  \n",
       "18                 0                  0  \n",
       "24                 0                  0  \n",
       "25                 0                  0  \n",
       "28                 0                  0  \n",
       "31                 0                  0  \n",
       "34                 0                  0  \n",
       "37                 0                  0  \n",
       "38                 0                  0  \n",
       "39                 0                  0  \n",
       "43                 0                  0  \n",
       "47                 0                  0  \n",
       "50                 0                  2  \n",
       "51                 0                  1  \n",
       "53                 0                  0  \n",
       "54                 0                  0  \n",
       "56                 0                  0  \n",
       "62                 0                  0  "
      ]
     },
     "execution_count": 90,
     "metadata": {},
     "output_type": "execute_result"
    }
   ],
   "source": [
    "df_output = pd_w_won_copy2[l_out]\n",
    "df_output.head(25)"
   ]
  },
  {
   "cell_type": "code",
   "execution_count": 92,
   "metadata": {
    "collapsed": false
   },
   "outputs": [],
   "source": [
    "df_output.to_csv(os.getcwd()+'/Q4_Part1_output.csv')"
   ]
  },
  {
   "cell_type": "code",
   "execution_count": null,
   "metadata": {
    "collapsed": true
   },
   "outputs": [],
   "source": []
  }
 ],
 "metadata": {
  "anaconda-cloud": {},
  "kernelspec": {
   "display_name": "Python [conda root]",
   "language": "python",
   "name": "conda-root-py"
  },
  "language_info": {
   "codemirror_mode": {
    "name": "ipython",
    "version": 3
   },
   "file_extension": ".py",
   "mimetype": "text/x-python",
   "name": "python",
   "nbconvert_exporter": "python",
   "pygments_lexer": "ipython3",
   "version": "3.5.2"
  }
 },
 "nbformat": 4,
 "nbformat_minor": 1
}
