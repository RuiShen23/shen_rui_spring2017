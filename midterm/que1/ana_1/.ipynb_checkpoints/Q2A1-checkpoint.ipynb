{
 "cells": [
  {
   "cell_type": "markdown",
   "metadata": {},
   "source": [
    "# NYT Analysis 1 - Archive API "
   ]
  },
  {
   "cell_type": "markdown",
   "metadata": {},
   "source": [
    "- Each archived file takes about 17MB on the disk, in order to limit the data size, I limited my analysis from 20 years to 3 years...\n",
    "- Run the archived monthly data for last three years (2014-2016), look for articles about terrism and count article number for each month\n",
    "- Compare the percentage of articles about terrorism in past three years and 2001-9"
   ]
  },
  {
   "cell_type": "code",
   "execution_count": 31,
   "metadata": {
    "collapsed": true
   },
   "outputs": [],
   "source": [
    "import json\n",
    "import os"
   ]
  },
  {
   "cell_type": "code",
   "execution_count": 35,
   "metadata": {
    "collapsed": false
   },
   "outputs": [],
   "source": [
    "rootdir = os.path.dirname(os.path.dirname(os.getcwd()))+'/data/nyt_archive_data/'"
   ]
  },
  {
   "cell_type": "code",
   "execution_count": 36,
   "metadata": {
    "collapsed": false
   },
   "outputs": [
    {
     "name": "stdout",
     "output_type": "stream",
     "text": [
      "In 2014 1, 71 Reporst on terrism\n",
      "The percentage of terrism reporst in this month is 0.89%\n",
      "In 2014 2, 62 Reporst on terrism\n",
      "The percentage of terrism reporst in this month is 0.80%\n",
      "In 2014 3, 75 Reporst on terrism\n",
      "The percentage of terrism reporst in this month is 0.93%\n",
      "In 2014 4, 71 Reporst on terrism\n",
      "The percentage of terrism reporst in this month is 0.91%\n",
      "In 2014 5, 109 Reporst on terrism\n",
      "The percentage of terrism reporst in this month is 1.36%\n",
      "In 2014 6, 112 Reporst on terrism\n",
      "The percentage of terrism reporst in this month is 1.37%\n",
      "In 2014 7, 99 Reporst on terrism\n",
      "The percentage of terrism reporst in this month is 1.34%\n",
      "In 2014 8, 83 Reporst on terrism\n",
      "The percentage of terrism reporst in this month is 1.17%\n",
      "In 2014 9, 177 Reporst on terrism\n",
      "The percentage of terrism reporst in this month is 2.16%\n",
      "In 2014 10, 109 Reporst on terrism\n",
      "The percentage of terrism reporst in this month is 1.30%\n",
      "In 2014 11, 81 Reporst on terrism\n",
      "The percentage of terrism reporst in this month is 1.07%\n",
      "In 2014 12, 140 Reporst on terrism\n",
      "The percentage of terrism reporst in this month is 1.90%\n",
      "In 2015 1, 251 Reporst on terrism\n",
      "The percentage of terrism reporst in this month is 3.48%\n",
      "In 2015 2, 156 Reporst on terrism\n",
      "The percentage of terrism reporst in this month is 2.30%\n",
      "In 2015 3, 111 Reporst on terrism\n",
      "The percentage of terrism reporst in this month is 1.57%\n",
      "In 2015 4, 141 Reporst on terrism\n",
      "The percentage of terrism reporst in this month is 2.01%\n",
      "In 2015 5, 113 Reporst on terrism\n",
      "The percentage of terrism reporst in this month is 1.56%\n",
      "In 2015 6, 124 Reporst on terrism\n",
      "The percentage of terrism reporst in this month is 1.74%\n",
      "In 2015 7, 132 Reporst on terrism\n",
      "The percentage of terrism reporst in this month is 1.86%\n",
      "In 2015 8, 113 Reporst on terrism\n",
      "The percentage of terrism reporst in this month is 1.69%\n",
      "In 2015 9, 84 Reporst on terrism\n",
      "The percentage of terrism reporst in this month is 1.11%\n",
      "In 2015 10, 100 Reporst on terrism\n",
      "The percentage of terrism reporst in this month is 1.28%\n",
      "In 2015 11, 300 Reporst on terrism\n",
      "The percentage of terrism reporst in this month is 4.60%\n",
      "In 2015 12, 278 Reporst on terrism\n",
      "The percentage of terrism reporst in this month is 4.01%\n",
      "In 2016 1, 149 Reporst on terrism\n",
      "The percentage of terrism reporst in this month is 2.01%\n",
      "In 2016 2, 102 Reporst on terrism\n",
      "The percentage of terrism reporst in this month is 1.45%\n",
      "In 2016 3, 173 Reporst on terrism\n",
      "The percentage of terrism reporst in this month is 2.31%\n",
      "In 2016 4, 105 Reporst on terrism\n",
      "The percentage of terrism reporst in this month is 1.61%\n",
      "In 2016 5, 69 Reporst on terrism\n",
      "The percentage of terrism reporst in this month is 1.06%\n",
      "In 2016 6, 163 Reporst on terrism\n",
      "The percentage of terrism reporst in this month is 2.53%\n",
      "In 2016 7, 168 Reporst on terrism\n",
      "The percentage of terrism reporst in this month is 2.75%\n",
      "In 2016 8, 102 Reporst on terrism\n",
      "The percentage of terrism reporst in this month is 1.94%\n",
      "In 2016 9, 112 Reporst on terrism\n",
      "The percentage of terrism reporst in this month is 1.90%\n",
      "In 2016 10, 58 Reporst on terrism\n",
      "The percentage of terrism reporst in this month is 1.00%\n",
      "In 2016 11, 48 Reporst on terrism\n",
      "The percentage of terrism reporst in this month is 0.89%\n",
      "In 2016 12, 86 Reporst on terrism\n",
      "The percentage of terrism reporst in this month is 1.70%\n"
     ]
    }
   ],
   "source": [
    "for year in [2014, 2015, 2016]:\n",
    "    for month in list(range(1, 13)):\n",
    "        filename = rootdir+'NYT'+str(year)+'{0:02}'.format(month)+'Archive.json'\n",
    "        allnews = json.loads(open(filename).read())['response']['docs']\n",
    "        count = 0\n",
    "        for news in allnews:\n",
    "            if 'keywords' in news:\n",
    "                for l in news['keywords']:\n",
    "                    if l['name'] == 'subject':\n",
    "                        if 'TERRORISM' in l['value'].upper():\n",
    "                            count = count + 1\n",
    "        print('In', year, str(month)+',', str(count)+' Reporst on terrism')\n",
    "        print('The percentage of terrism reporst in this month is', \"{0:.2%}\".format(count/len(allnews)))"
   ]
  },
  {
   "cell_type": "code",
   "execution_count": 5,
   "metadata": {
    "collapsed": true
   },
   "outputs": [],
   "source": [
    "Sep2011file = '/Users/Rui/Documents/INFO 7374/midterm/data/nyt_archive_data/NYT200109Archive.json'"
   ]
  },
  {
   "cell_type": "code",
   "execution_count": 6,
   "metadata": {
    "collapsed": false
   },
   "outputs": [],
   "source": [
    "Sep2011News = json.loads(open(Sep2011file).read())['response']['docs']"
   ]
  },
  {
   "cell_type": "code",
   "execution_count": 25,
   "metadata": {
    "collapsed": false
   },
   "outputs": [
    {
     "name": "stdout",
     "output_type": "stream",
     "text": [
      "The percentage of terrism reporst in the month of 911 was 27.06%\n"
     ]
    }
   ],
   "source": [
    "bcount = 0\n",
    "ccount = 0\n",
    "for news in Sep2011News:\n",
    "    if '2001-09' in news['pub_date']:\n",
    "        bcount = bcount + 1\n",
    "        if 'keywords' in news:\n",
    "            for l in news['keywords']:\n",
    "                if l['name'] == 'subject':\n",
    "                    if 'TERRORISM' in l['value'].upper():\n",
    "                        ccount = ccount + 1                        \n",
    "\n",
    "print('The percentage of terrism reporst in the month of 911 was', \"{0:.2%}\".format(ccount/bcount))"
   ]
  },
  {
   "cell_type": "code",
   "execution_count": null,
   "metadata": {
    "collapsed": true
   },
   "outputs": [],
   "source": []
  }
 ],
 "metadata": {
  "anaconda-cloud": {},
  "kernelspec": {
   "display_name": "Python [conda root]",
   "language": "python",
   "name": "conda-root-py"
  },
  "language_info": {
   "codemirror_mode": {
    "name": "ipython",
    "version": 3
   },
   "file_extension": ".py",
   "mimetype": "text/x-python",
   "name": "python",
   "nbconvert_exporter": "python",
   "pygments_lexer": "ipython3",
   "version": "3.5.2"
  }
 },
 "nbformat": 4,
 "nbformat_minor": 1
}
