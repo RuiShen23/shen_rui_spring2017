{
 "cells": [
  {
   "cell_type": "markdown",
   "metadata": {},
   "source": [
    "# Enron Scandal Email Analysis 1"
   ]
  },
  {
   "cell_type": "markdown",
   "metadata": {},
   "source": [
    "## Analyse formal CEO Kenneth Lay's email set"
   ]
  },
  {
   "cell_type": "markdown",
   "metadata": {},
   "source": [
    "Analyze all his emails and identifies the senders and recipients\n"
   ]
  },
  {
   "cell_type": "code",
   "execution_count": 1,
   "metadata": {
    "collapsed": true
   },
   "outputs": [],
   "source": [
    "import os\n",
    "from glob import glob\n",
    "from email.parser import Parser\n",
    "from nltk import FreqDist\n",
    "from collections import Counter\n",
    "from pylab import *"
   ]
  },
  {
   "cell_type": "markdown",
   "metadata": {},
   "source": [
    "prepare work"
   ]
  },
  {
   "cell_type": "code",
   "execution_count": 46,
   "metadata": {
    "collapsed": false
   },
   "outputs": [],
   "source": [
    "rootdir = os.path.expanduser(\"~\")+\"/midterm/data/enron/maildir/lay-k/\""
   ]
  },
  {
   "cell_type": "code",
   "execution_count": 47,
   "metadata": {
    "collapsed": false,
    "scrolled": true
   },
   "outputs": [
    {
     "name": "stdout",
     "output_type": "stream",
     "text": [
      "/Users/Rui/midterm/data/enron/maildir/lay-k/ ['_sent', 'all_documents', 'business', 'calendar', 'compaq', 'deleted_items', 'discussion_threads', 'elizabeth', 'enron', 'family', 'inbox', 'notes_inbox', 'sec_panel', 'sent', 'sent_items'] 0\n",
      "/Users/Rui/midterm/data/enron/maildir/lay-k/_sent [] 261\n",
      "/Users/Rui/midterm/data/enron/maildir/lay-k/all_documents [] 1127\n",
      "/Users/Rui/midterm/data/enron/maildir/lay-k/business [] 2\n",
      "/Users/Rui/midterm/data/enron/maildir/lay-k/calendar [] 8\n",
      "/Users/Rui/midterm/data/enron/maildir/lay-k/compaq [] 1\n",
      "/Users/Rui/midterm/data/enron/maildir/lay-k/deleted_items [] 1126\n",
      "/Users/Rui/midterm/data/enron/maildir/lay-k/discussion_threads [] 910\n",
      "/Users/Rui/midterm/data/enron/maildir/lay-k/elizabeth [] 35\n",
      "/Users/Rui/midterm/data/enron/maildir/lay-k/enron [] 5\n",
      "/Users/Rui/midterm/data/enron/maildir/lay-k/family [] 8\n",
      "/Users/Rui/midterm/data/enron/maildir/lay-k/inbox [] 1373\n",
      "/Users/Rui/midterm/data/enron/maildir/lay-k/notes_inbox [] 799\n",
      "/Users/Rui/midterm/data/enron/maildir/lay-k/sec_panel [] 3\n",
      "/Users/Rui/midterm/data/enron/maildir/lay-k/sent [] 266\n",
      "/Users/Rui/midterm/data/enron/maildir/lay-k/sent_items [] 13\n"
     ]
    }
   ],
   "source": [
    "for directory, subdirectory, filenames in os.walk(rootdir):\n",
    "    print(directory, subdirectory, len(filenames))"
   ]
  },
  {
   "cell_type": "markdown",
   "metadata": {},
   "source": [
    "There might be multiple people in 'to' & 'cc' field but always one 'from' for each email, so we need to clean up the send to list of each email"
   ]
  },
  {
   "cell_type": "code",
   "execution_count": 4,
   "metadata": {
    "collapsed": false
   },
   "outputs": [],
   "source": [
    "def clean_to_list(to_list1):\n",
    "    to_list = [l.replace('\\n','') for l in to_list1]\n",
    "    to_list = [i.replace('\\t', '') for i in to_list]\n",
    "    to_list = [s.replace(' ','') for s in to_list]\n",
    "    to_list = [t.split(',') for t in to_list]\n",
    "    return to_list"
   ]
  },
  {
   "cell_type": "markdown",
   "metadata": {},
   "source": [
    "Create another function to add each email list to root list"
   ]
  },
  {
   "cell_type": "code",
   "execution_count": 5,
   "metadata": {
    "collapsed": true
   },
   "outputs": [],
   "source": [
    "def add_to_list(to_list1, to_list):\n",
    "    for e_l in to_list1:\n",
    "        for l in e_l:\n",
    "            to_list.append(l)\n",
    "    return to_list"
   ]
  },
  {
   "cell_type": "markdown",
   "metadata": {},
   "source": [
    "Create a function to analyze Kenneth's email set<br>"
   ]
  },
  {
   "cell_type": "code",
   "execution_count": 6,
   "metadata": {
    "collapsed": false
   },
   "outputs": [],
   "source": [
    "def analyze_contacts(rootdir, to_list, from_list):\n",
    "\n",
    "    all_folders = glob(rootdir+'/*')\n",
    "    \n",
    "    for folder in all_folders:\n",
    "        \n",
    "        for emails in glob(folder+'/*'):\n",
    "            \n",
    "            with open(emails, 'r',encoding='latin-1') as fp:\n",
    "                data = fp.read()\n",
    "            ed = Parser().parsestr(data)\n",
    "            \n",
    "            if ed['from'] != 'kenneth.lay@enron.com':            \n",
    "                from_list.append(ed['from']) \n",
    "         \n",
    "            for send_to in [ed['to']]:\n",
    "                if send_to != None:\n",
    "                        to_list = add_to_list(clean_to_list([send_to]), to_list)\n",
    "            \n",
    "            for cc_to in [ed['cc']]:\n",
    "                if cc_to != None:\n",
    "                        to_list = add_to_list(clean_to_list([cc_to]), to_list)"
   ]
  },
  {
   "cell_type": "code",
   "execution_count": 7,
   "metadata": {
    "collapsed": false,
    "scrolled": true
   },
   "outputs": [],
   "source": [
    "to_list = []\n",
    "from_list = []\n",
    "analyze_contacts(rootdir, to_list, from_list)\n",
    "to_list = [s for s in to_list if s != 'kenneth.lay@enron.com']"
   ]
  },
  {
   "cell_type": "code",
   "execution_count": 8,
   "metadata": {
    "collapsed": false
   },
   "outputs": [
    {
     "name": "stdout",
     "output_type": "stream",
     "text": [
      "Top twenty recipient of Kenneth are:\n",
      "[('klay@enron.com', 1954), ('rosalee.fleming@enron.com', 456), ('jeff.skilling@enron.com', 397), ('mark.koenig@enron.com', 333), ('mark.frevert@enron.com', 331), ('steven.kean@enron.com', 329), ('greg.whalley@enron.com', 328), ('mike.mcconnell@enron.com', 279), ('jeffrey.mcmahon@enron.com', 266), ('john.sherriff@enron.com', 264), ('cliff.baxter@enron.com', 256), ('cindy.olson@enron.com', 221), ('liz.taylor@enron.com', 196), ('andrew.fastow@enron.com', 192), ('joseph.sutton@enron.com', 186), ('james.derrick@enron.com', 185), ('sherri.sera@enron.com', 183), ('rebecca.mcdonald@enron.com', 178), ('richard.causey@enron.com', 178), ('stanley.horton@enron.com', 176)]\n"
     ]
    }
   ],
   "source": [
    "print(\"Top twenty recipient of Kenneth are:\")\n",
    "print(Counter(to_list).most_common(20))"
   ]
  },
  {
   "cell_type": "code",
   "execution_count": 9,
   "metadata": {
    "collapsed": false
   },
   "outputs": [
    {
     "name": "stdout",
     "output_type": "stream",
     "text": [
      "Top twenty people sending email to Kenneth are:\n",
      "[('rosalee.fleming@enron.com', 856), ('brown_mary_jo@lilly.com', 82), ('leonardo.pacheco@enron.com', 78), ('savont@email.msn.com', 66), ('tori.wells@enron.com', 58), ('elizabeth.davis@compaq.com', 50), ('katherine.brown@enron.com', 47), ('no.address@enron.com', 47), ('mrslinda@lplpi.com', 40), ('lizard_ar@yahoo.com', 36), ('karen.denne@enron.com', 35), ('svarga@kudlow.com', 34), ('elizabeth.lay@enron.com', 33), ('jeffrey.garten@yale.edu', 32), ('rob.bradley@enron.com', 32), ('enron.announcements@enron.com', 30), ('joe.hillings@enron.com', 28), ('unwire-listadmin@client-mail.com', 27), ('shea_dugger@i2.com', 26), ('perfmgmt@enron.com', 25)]\n"
     ]
    }
   ],
   "source": [
    "print(\"Top twenty people sending email to Kenneth are:\")\n",
    "print(Counter(from_list).most_common(20))"
   ]
  },
  {
   "cell_type": "markdown",
   "metadata": {
    "collapsed": true
   },
   "source": []
  },
  {
   "cell_type": "markdown",
   "metadata": {},
   "source": [
    "Simple graphs showing the email frequency for each contact"
   ]
  },
  {
   "cell_type": "markdown",
   "metadata": {},
   "source": [
    "klay@enron.com seems to be another email address of Kenneth himself, I'll remove this email as well"
   ]
  },
  {
   "cell_type": "code",
   "execution_count": 12,
   "metadata": {
    "collapsed": true
   },
   "outputs": [],
   "source": [
    "to_list = [s for s in to_list if s != 'klay@enron.com']"
   ]
  },
  {
   "cell_type": "code",
   "execution_count": 13,
   "metadata": {
    "collapsed": false,
    "scrolled": true
   },
   "outputs": [
    {
     "data": {
      "text/plain": [
       "5426"
      ]
     },
     "execution_count": 13,
     "metadata": {},
     "output_type": "execute_result"
    }
   ],
   "source": [
    "result_send_list = Counter(to_list).most_common(len(to_list))\n",
    "len(result_send_list)"
   ]
  },
  {
   "cell_type": "code",
   "execution_count": 14,
   "metadata": {
    "collapsed": false
   },
   "outputs": [
    {
     "data": {
      "image/png": "[encoded data removed]",
      "text/plain": [
       "<matplotlib.figure.Figure at 0x10e3bf780>"
      ]
     },
     "metadata": {},
     "output_type": "display_data"
    }
   ],
   "source": [
    "contact_list = []\n",
    "send_to_list = []\n",
    "\n",
    "a = 0\n",
    "while a < 15:\n",
    "    contact_list.append(a)\n",
    "    send_to_list.append(result_send_list[a][1])\n",
    "    a = a + 1\n",
    "    \n",
    "plot(contact_list, send_to_list, linewidth=1.0)\n",
    "xlabel('Contact rank')\n",
    "ylabel('Send to times')\n",
    "title('log-log figure')\n",
    "grid(True)\n",
    "show()"
   ]
  },
  {
   "cell_type": "code",
   "execution_count": 15,
   "metadata": {
    "collapsed": false
   },
   "outputs": [
    {
     "data": {
      "text/plain": [
       "2199"
      ]
     },
     "execution_count": 15,
     "metadata": {},
     "output_type": "execute_result"
    }
   ],
   "source": [
    "result_from_list = Counter(from_list).most_common(len(from_list))\n",
    "len(result_from_list)"
   ]
  },
  {
   "cell_type": "code",
   "execution_count": 16,
   "metadata": {
    "collapsed": false
   },
   "outputs": [
    {
     "data": {
      "image/png": "[encoded data removed]",
      "text/plain": [
       "<matplotlib.figure.Figure at 0x10efdd048>"
      ]
     },
     "metadata": {},
     "output_type": "display_data"
    }
   ],
   "source": [
    "contact_list = []\n",
    "receive_from_list = []\n",
    "\n",
    "a = 0\n",
    "while a < 15:\n",
    "    contact_list.append(a)\n",
    "    receive_from_list.append(result_from_list[a][1])\n",
    "    a = a + 1\n",
    "    \n",
    "plot(contact_list, receive_from_list, linewidth=1.0)\n",
    "xlabel('Contact rank')\n",
    "ylabel('Receive from times')\n",
    "title('log-log figure')\n",
    "grid(True)\n",
    "show()"
   ]
  },
  {
   "cell_type": "code",
   "execution_count": null,
   "metadata": {
    "collapsed": true
   },
   "outputs": [],
   "source": []
  }
 ],
 "metadata": {
  "anaconda-cloud": {},
  "kernelspec": {
   "display_name": "Python [default]",
   "language": "python",
   "name": "python3"
  },
  "language_info": {
   "codemirror_mode": {
    "name": "ipython",
    "version": 3
   },
   "file_extension": ".py",
   "mimetype": "text/x-python",
   "name": "python",
   "nbconvert_exporter": "python",
   "pygments_lexer": "ipython3",
   "version": "3.5.2"
  }
 },
 "nbformat": 4,
 "nbformat_minor": 2
}
