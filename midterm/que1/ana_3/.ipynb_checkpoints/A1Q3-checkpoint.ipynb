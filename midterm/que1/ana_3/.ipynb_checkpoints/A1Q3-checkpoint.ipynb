{
 "cells": [
  {
   "cell_type": "markdown",
   "metadata": {},
   "source": [
    "# Enron Scandal Email Analysis 3"
   ]
  },
  {
   "cell_type": "markdown",
   "metadata": {},
   "source": [
    "Run the whole dataset and find out :\n",
    "- The emails that contains words \"fraud\" and \"bankrupt\"\n",
    "- Find out the date of the email and times these words used in each email\n",
    "- Analyze the trend"
   ]
  },
  {
   "cell_type": "code",
   "execution_count": 1,
   "metadata": {
    "collapsed": true
   },
   "outputs": [],
   "source": [
    "import os\n",
    "from glob import glob\n",
    "from email.parser import Parser\n",
    "from nltk import FreqDist\n",
    "from collections import Counter\n",
    "from pylab import *\n",
    "from datetime import datetime\n",
    "import nltk\n",
    "from string import punctuation"
   ]
  },
  {
   "cell_type": "markdown",
   "metadata": {},
   "source": [
    "Prepare work"
   ]
  },
  {
   "cell_type": "code",
   "execution_count": 2,
   "metadata": {
    "collapsed": false
   },
   "outputs": [],
   "source": [
    "rootdir = os.path.expanduser(\"~\")+\"/midterm/data/enron/maildir/\""
   ]
  },
  {
   "cell_type": "markdown",
   "metadata": {},
   "source": [
    "Create a function to normalize email time"
   ]
  },
  {
   "cell_type": "code",
   "execution_count": 3,
   "metadata": {
    "collapsed": true
   },
   "outputs": [],
   "source": [
    "def normalize_time(emailt):\n",
    "    t = emailt[:-12].replace(',', '').replace(' ','')\n",
    "    t_format = '%a%d%b%Y%H:%M:%S'\n",
    "    t = datetime.strptime(t, t_format)     \n",
    "    dt = t.strftime('%Y-%m')                                                \n",
    "    return dt"
   ]
  },
  {
   "cell_type": "markdown",
   "metadata": {},
   "source": [
    "Create a function for generating the email list for any given sensitive words"
   ]
  },
  {
   "cell_type": "code",
   "execution_count": 4,
   "metadata": {
    "collapsed": false
   },
   "outputs": [],
   "source": [
    "def sensitive_words_set(sensitive_word):\n",
    "        \n",
    "    analyze_email_set = []\n",
    "    n = 1\n",
    "\n",
    "    while n <=6:                \n",
    "        l = [file for file in glob(rootdir+'*'+'/*'*n) if (os.path.isfile(file))]\n",
    "            \n",
    "        for email in l:                     \n",
    "            with open(email, 'r',encoding='latin-1') as fp:   \n",
    "                data = fp.read()                                                                \n",
    "            ed = Parser().parsestr(data)\n",
    "            email_body = ed.get_payload()              \n",
    "            \n",
    "            if email_body != None:\n",
    "                if sensitive_word in email_body:                \n",
    "                    analyze_email_set.append(email)\n",
    "                \n",
    "        print('layer', n, 'done')\n",
    "        n = n + 1   \n",
    "        \n",
    "    return analyze_email_set"
   ]
  },
  {
   "cell_type": "markdown",
   "metadata": {},
   "source": [
    "Below steps are for \"fraud\" word"
   ]
  },
  {
   "cell_type": "code",
   "execution_count": 5,
   "metadata": {
    "collapsed": false,
    "scrolled": false
   },
   "outputs": [
    {
     "name": "stdout",
     "output_type": "stream",
     "text": [
      "layer 1 done\n",
      "layer 2 done\n",
      "layer 3 done\n",
      "layer 4 done\n",
      "layer 5 done\n",
      "layer 6 done\n"
     ]
    }
   ],
   "source": [
    "fraud_email_set = sensitive_words_set(\"fraud\")"
   ]
  },
  {
   "cell_type": "code",
   "execution_count": 6,
   "metadata": {
    "collapsed": false,
    "scrolled": true
   },
   "outputs": [
    {
     "name": "stdout",
     "output_type": "stream",
     "text": [
      "1141\n"
     ]
    }
   ],
   "source": [
    "print(len(fraud_email_set))"
   ]
  },
  {
   "cell_type": "code",
   "execution_count": 7,
   "metadata": {
    "collapsed": false
   },
   "outputs": [
    {
     "data": {
      "text/plain": [
       "['/Users/Rui/Documents/INFO 7374/midterm/data/enron/maildir/allen-p/deleted_items/193.',\n",
       " '/Users/Rui/Documents/INFO 7374/midterm/data/enron/maildir/arnold-j/_sent_mail/1157.',\n",
       " '/Users/Rui/Documents/INFO 7374/midterm/data/enron/maildir/arnold-j/all_documents/139.']"
      ]
     },
     "execution_count": 7,
     "metadata": {},
     "output_type": "execute_result"
    }
   ],
   "source": [
    "fraud_email_set[:3]"
   ]
  },
  {
   "cell_type": "markdown",
   "metadata": {},
   "source": [
    "Process the fraud_email_set"
   ]
  },
  {
   "cell_type": "code",
   "execution_count": 8,
   "metadata": {
    "collapsed": false
   },
   "outputs": [],
   "source": [
    "fraud_result_dic = {}\n",
    "\n",
    "for email in fraud_email_set:\n",
    "    with open(email, 'r',encoding='latin-1') as fp:   \n",
    "        data = fp.read()                                                                \n",
    "    ed = Parser().parsestr(data)\n",
    "    email_body = ed.get_payload()            \n",
    "    counter = [w for w in nltk.word_tokenize(email_body) if \"fraud\" in w]\n",
    "    dt = normalize_time(ed['date'])    \n",
    "    if dt in fraud_result_dic:\n",
    "        fraud_result_dic[dt] = fraud_result_dic[dt] + len(counter)\n",
    "    else: \n",
    "        fraud_result_dic[dt] = 1"
   ]
  },
  {
   "cell_type": "code",
   "execution_count": 10,
   "metadata": {
    "collapsed": false
   },
   "outputs": [
    {
     "data": {
      "text/plain": [
       "31"
      ]
     },
     "execution_count": 10,
     "metadata": {},
     "output_type": "execute_result"
    }
   ],
   "source": [
    "len(fraud_result_dic)"
   ]
  },
  {
   "cell_type": "code",
   "execution_count": 9,
   "metadata": {
    "collapsed": false
   },
   "outputs": [
    {
     "data": {
      "text/plain": [
       "{'1999-03': 4,\n",
       " '1999-05': 4,\n",
       " '1999-11': 4,\n",
       " '1999-12': 4,\n",
       " '2000-01': 5,\n",
       " '2000-02': 11,\n",
       " '2000-03': 16,\n",
       " '2000-05': 8,\n",
       " '2000-06': 13,\n",
       " '2000-07': 26,\n",
       " '2000-08': 29,\n",
       " '2000-09': 47,\n",
       " '2000-10': 71,\n",
       " '2000-11': 226,\n",
       " '2000-12': 52,\n",
       " '2001-01': 62,\n",
       " '2001-02': 23,\n",
       " '2001-03': 60,\n",
       " '2001-04': 138,\n",
       " '2001-05': 145,\n",
       " '2001-06': 84,\n",
       " '2001-07': 35,\n",
       " '2001-08': 22,\n",
       " '2001-09': 32,\n",
       " '2001-10': 312,\n",
       " '2001-11': 174,\n",
       " '2001-12': 17,\n",
       " '2002-01': 298,\n",
       " '2002-02': 92,\n",
       " '2002-03': 8,\n",
       " '2002-04': 4}"
      ]
     },
     "execution_count": 9,
     "metadata": {},
     "output_type": "execute_result"
    }
   ],
   "source": [
    "fraud_result_dic"
   ]
  },
  {
   "cell_type": "code",
   "execution_count": null,
   "metadata": {
    "collapsed": true
   },
   "outputs": [],
   "source": []
  },
  {
   "cell_type": "code",
   "execution_count": null,
   "metadata": {
    "collapsed": true
   },
   "outputs": [],
   "source": []
  },
  {
   "cell_type": "markdown",
   "metadata": {},
   "source": [
    "Below steps are for \"bankrupt\" word"
   ]
  },
  {
   "cell_type": "code",
   "execution_count": 10,
   "metadata": {
    "collapsed": false
   },
   "outputs": [
    {
     "name": "stdout",
     "output_type": "stream",
     "text": [
      "layer 1 done\n",
      "layer 2 done\n",
      "layer 3 done\n",
      "layer 4 done\n",
      "layer 5 done\n",
      "layer 6 done\n"
     ]
    }
   ],
   "source": [
    "bankrupt_email_set = sensitive_words_set(\"bankrupt\")"
   ]
  },
  {
   "cell_type": "code",
   "execution_count": 11,
   "metadata": {
    "collapsed": false
   },
   "outputs": [],
   "source": [
    "bankrupt_result_dic = {}\n",
    "\n",
    "for email in bankrupt_email_set:\n",
    "    with open(email, 'r',encoding='latin-1') as fp:   \n",
    "        data = fp.read()                                                                \n",
    "    ed = Parser().parsestr(data)\n",
    "    email_body = ed.get_payload()        \n",
    "    counter = [w for w in nltk.word_tokenize(email_body) if \"bankrupt\" in w]\n",
    "    dt = normalize_time(ed['date'])    \n",
    "    if dt in bankrupt_result_dic:\n",
    "        bankrupt_result_dic[dt] = bankrupt_result_dic[dt] + len(counter)\n",
    "    else: \n",
    "        bankrupt_result_dic[dt] = 1"
   ]
  },
  {
   "cell_type": "code",
   "execution_count": 13,
   "metadata": {
    "collapsed": false
   },
   "outputs": [
    {
     "data": {
      "text/plain": [
       "42"
      ]
     },
     "execution_count": 13,
     "metadata": {},
     "output_type": "execute_result"
    }
   ],
   "source": [
    "len(bankrupt_result_dic)"
   ]
  },
  {
   "cell_type": "code",
   "execution_count": 14,
   "metadata": {
    "collapsed": false
   },
   "outputs": [
    {
     "data": {
      "text/plain": [
       "{'1979-12': 12,\n",
       " '1999-01': 2,\n",
       " '1999-02': 10,\n",
       " '1999-04': 6,\n",
       " '1999-05': 2,\n",
       " '1999-06': 2,\n",
       " '1999-08': 6,\n",
       " '1999-09': 8,\n",
       " '1999-10': 16,\n",
       " '1999-11': 41,\n",
       " '1999-12': 18,\n",
       " '2000-01': 29,\n",
       " '2000-02': 80,\n",
       " '2000-03': 45,\n",
       " '2000-04': 23,\n",
       " '2000-05': 61,\n",
       " '2000-06': 65,\n",
       " '2000-07': 40,\n",
       " '2000-08': 59,\n",
       " '2000-09': 148,\n",
       " '2000-10': 60,\n",
       " '2000-11': 188,\n",
       " '2000-12': 512,\n",
       " '2001-01': 1067,\n",
       " '2001-02': 863,\n",
       " '2001-03': 1776,\n",
       " '2001-04': 5236,\n",
       " '2001-05': 2185,\n",
       " '2001-06': 1298,\n",
       " '2001-07': 1331,\n",
       " '2001-08': 200,\n",
       " '2001-09': 514,\n",
       " '2001-10': 524,\n",
       " '2001-11': 1601,\n",
       " '2001-12': 1231,\n",
       " '2002-01': 6031,\n",
       " '2002-02': 793,\n",
       " '2002-03': 245,\n",
       " '2002-04': 34,\n",
       " '2002-05': 62,\n",
       " '2002-06': 51,\n",
       " '2004-02': 3}"
      ]
     },
     "execution_count": 14,
     "metadata": {},
     "output_type": "execute_result"
    }
   ],
   "source": [
    "bankrupt_result_dic"
   ]
  },
  {
   "cell_type": "code",
   "execution_count": null,
   "metadata": {
    "collapsed": true
   },
   "outputs": [],
   "source": []
  }
 ],
 "metadata": {
  "anaconda-cloud": {},
  "kernelspec": {
   "display_name": "Python [default]",
   "language": "python",
   "name": "python3"
  },
  "language_info": {
   "codemirror_mode": {
    "name": "ipython",
    "version": 3
   },
   "file_extension": ".py",
   "mimetype": "text/x-python",
   "name": "python",
   "nbconvert_exporter": "python",
   "pygments_lexer": "ipython3",
   "version": "3.5.2"
  }
 },
 "nbformat": 4,
 "nbformat_minor": 2
}
