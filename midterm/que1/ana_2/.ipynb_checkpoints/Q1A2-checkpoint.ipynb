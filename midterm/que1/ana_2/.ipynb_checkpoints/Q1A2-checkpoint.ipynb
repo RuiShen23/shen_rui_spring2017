{
 "cells": [
  {
   "cell_type": "markdown",
   "metadata": {},
   "source": [
    "# Enron Scandal Email Analysis 2"
   ]
  },
  {
   "cell_type": "markdown",
   "metadata": {},
   "source": [
    "- Run the whole dataset to find out all emails sent in 2000-2001\n",
    "- Randomly choose 1/10 emails above\n",
    "- Analyze similar word sets"
   ]
  },
  {
   "cell_type": "code",
   "execution_count": 1,
   "metadata": {
    "collapsed": true
   },
   "outputs": [],
   "source": [
    "import os\n",
    "from glob import glob\n",
    "from email.parser import Parser\n",
    "from nltk import FreqDist\n",
    "from collections import Counter\n",
    "from pylab import *\n",
    "from datetime import datetime\n",
    "import nltk\n",
    "from string import punctuation\n",
    "from nltk.corpus import wordnet as wn\n",
    "import random\n",
    "from nltk.corpus import stopwords"
   ]
  },
  {
   "cell_type": "markdown",
   "metadata": {},
   "source": [
    "Prepare work"
   ]
  },
  {
   "cell_type": "code",
   "execution_count": 2,
   "metadata": {
    "collapsed": true
   },
   "outputs": [],
   "source": [
    "rootdir = os.path.expanduser(\"~\")+\"/midterm/data/enron/maildir/\""
   ]
  },
  {
   "cell_type": "markdown",
   "metadata": {},
   "source": [
    "Create a function to abstract year info from email datetime"
   ]
  },
  {
   "cell_type": "code",
   "execution_count": 3,
   "metadata": {
    "collapsed": true
   },
   "outputs": [],
   "source": [
    "def get_year(emaildt):\n",
    "    t = emaildt[:-12].replace(',', '').replace(' ','')\n",
    "    t_format = '%a%d%b%Y%H:%M:%S'\n",
    "    t = datetime.strptime(t, t_format)\n",
    "    ty = t.year\n",
    "    return ty"
   ]
  },
  {
   "cell_type": "markdown",
   "metadata": {},
   "source": [
    "Find 2000 and 2001 emails\n",
    "- preparation work was done and maximum 6 layers of folders was assured"
   ]
  },
  {
   "cell_type": "code",
   "execution_count": 4,
   "metadata": {
    "collapsed": true
   },
   "outputs": [],
   "source": [
    "analyze_email_set = []"
   ]
  },
  {
   "cell_type": "code",
   "execution_count": 5,
   "metadata": {
    "collapsed": false
   },
   "outputs": [
    {
     "name": "stdout",
     "output_type": "stream",
     "text": [
      "layer 1 done\n",
      "layer 2 done\n",
      "layer 3 done\n",
      "layer 4 done\n",
      "layer 5 done\n",
      "layer 6 done\n"
     ]
    }
   ],
   "source": [
    "n = 1\n",
    "\n",
    "while n <=6:                \n",
    "    l = [file for file in glob(rootdir+'*'+'/*'*n) if (os.path.isfile(file))]\n",
    "    for email in l:            \n",
    "        with open(email, 'r',encoding='latin-1') as fp:   \n",
    "            data = fp.read()                                                                \n",
    "        ed = Parser().parsestr(data)                \n",
    "                     \n",
    "        ty = get_year(ed['date'])    \n",
    "        if ty == 2000 or ty == 2001:            \n",
    "            analyze_email_set.append(email)\n",
    "                \n",
    "    print('layer', n, 'done')\n",
    "    n = n + 1 "
   ]
  },
  {
   "cell_type": "code",
   "execution_count": 6,
   "metadata": {
    "collapsed": false
   },
   "outputs": [
    {
     "data": {
      "text/plain": [
       "468920"
      ]
     },
     "execution_count": 6,
     "metadata": {},
     "output_type": "execute_result"
    }
   ],
   "source": [
    "len(analyze_email_set)"
   ]
  },
  {
   "cell_type": "markdown",
   "metadata": {},
   "source": [
    "Use random sample to generate a list of different random numbers"
   ]
  },
  {
   "cell_type": "code",
   "execution_count": 7,
   "metadata": {
    "collapsed": false
   },
   "outputs": [],
   "source": [
    "random_list = random.sample(range(len(analyze_email_set)), int(0.1*len(analyze_email_set)))"
   ]
  },
  {
   "cell_type": "code",
   "execution_count": 8,
   "metadata": {
    "collapsed": false
   },
   "outputs": [
    {
     "name": "stdout",
     "output_type": "stream",
     "text": [
      "46892 46892\n"
     ]
    }
   ],
   "source": [
    "print(len(random_list),len(set(random_list)))"
   ]
  },
  {
   "cell_type": "code",
   "execution_count": 9,
   "metadata": {
    "collapsed": true
   },
   "outputs": [],
   "source": [
    "email_set = []\n",
    "for n in random_list:\n",
    "    email_set.append(analyze_email_set[n])"
   ]
  },
  {
   "cell_type": "code",
   "execution_count": 10,
   "metadata": {
    "collapsed": false
   },
   "outputs": [
    {
     "data": {
      "text/plain": [
       "['/Users/Rui/Documents/INFO 7374/midterm/data/enron/maildir/dasovich-j/all_documents/10068.',\n",
       " '/Users/Rui/Documents/INFO 7374/midterm/data/enron/maildir/dasovich-j/notes_inbox/4916.',\n",
       " '/Users/Rui/Documents/INFO 7374/midterm/data/enron/maildir/rogers-b/personal/23.',\n",
       " '/Users/Rui/Documents/INFO 7374/midterm/data/enron/maildir/mann-k/sent/3692.',\n",
       " '/Users/Rui/Documents/INFO 7374/midterm/data/enron/maildir/linder-e/notes_inbox/713.']"
      ]
     },
     "execution_count": 10,
     "metadata": {},
     "output_type": "execute_result"
    }
   ],
   "source": [
    "email_set[:5]"
   ]
  },
  {
   "cell_type": "markdown",
   "metadata": {},
   "source": [
    "Create a function to normalize each email to keep only nouns and verbs<br>\n",
    "(NN, NNS, NNP, NNPS, VB, VBD, VBG, VBN, VBP, VBZ) <br>"
   ]
  },
  {
   "cell_type": "code",
   "execution_count": 11,
   "metadata": {
    "collapsed": true
   },
   "outputs": [],
   "source": [
    "def handle_econtent(email_body):\n",
    "    \n",
    "    wnl = nltk.WordNetLemmatizer()\n",
    "    porter = nltk.PorterStemmer()\n",
    "    tagged_list = []    \n",
    "    \n",
    "    tokenized_words = nltk.word_tokenize(email_body)         \n",
    "    tag_words = nltk.pos_tag(tokenized_words)\n",
    "    \n",
    "    tag_words = list(filter(lambda t: t[1] in ['NN', 'NNS', 'NNP', 'NNPS', 'VB', 'VBD','VBG', 'VBN', 'VBP', 'VBZ'], tag_words))\n",
    "    \n",
    "    tagged_list = [t[0].lower() for t in tag_words if t[0] not in punctuation and t[0].isdigit() == False]\n",
    "    \n",
    "    lem_words = [wnl.lemmatize(t) for t in tagged_list]\n",
    "        \n",
    "    return  lem_words"
   ]
  },
  {
   "cell_type": "markdown",
   "metadata": {},
   "source": [
    "Create a function to handle any given email set"
   ]
  },
  {
   "cell_type": "code",
   "execution_count": 12,
   "metadata": {
    "collapsed": true
   },
   "outputs": [],
   "source": [
    "def analyze_enron_dataset(email_set):\n",
    "    \n",
    "    word_list = []\n",
    "    \n",
    "    for email in email_set:      \n",
    "        with open(email, 'r', encoding='latin-1') as fp:   \n",
    "            data = fp.read()                                            \n",
    "                    \n",
    "        ed = Parser().parsestr(data)                \n",
    "        email_body = ed.get_payload()\n",
    "                     \n",
    "        if email_body != None:\n",
    "            lem_words = handle_econtent(email_body)\n",
    "            \n",
    "        for w in lem_words:\n",
    "            word_list.append(w)\n",
    "    \n",
    "    return word_list"
   ]
  },
  {
   "cell_type": "code",
   "execution_count": 14,
   "metadata": {
    "collapsed": false
   },
   "outputs": [],
   "source": [
    "word_list = analyze_enron_dataset(email_set)"
   ]
  },
  {
   "cell_type": "code",
   "execution_count": 15,
   "metadata": {
    "collapsed": false
   },
   "outputs": [
    {
     "data": {
      "text/plain": [
       "6894684"
      ]
     },
     "execution_count": 15,
     "metadata": {},
     "output_type": "execute_result"
    }
   ],
   "source": [
    "len(word_list)"
   ]
  },
  {
   "cell_type": "markdown",
   "metadata": {},
   "source": [
    "remove stop words!!!"
   ]
  },
  {
   "cell_type": "code",
   "execution_count": 16,
   "metadata": {
    "collapsed": false
   },
   "outputs": [],
   "source": [
    "en_stop = set(stopwords.words('english'))"
   ]
  },
  {
   "cell_type": "code",
   "execution_count": 17,
   "metadata": {
    "collapsed": false
   },
   "outputs": [],
   "source": [
    "word_list = [w for w in word_list if (w not in en_stop)]"
   ]
  },
  {
   "cell_type": "code",
   "execution_count": 18,
   "metadata": {
    "collapsed": false
   },
   "outputs": [
    {
     "name": "stdout",
     "output_type": "stream",
     "text": [
      "6369596\n",
      "['greeting', 'yesterday', 'iso', 'communicating', 'need', 'market', 'repair', 'team', 'include', 'member']\n",
      "[('enron', 85149), ('ect', 51701), ('please', 34596), ('pm', 34232), ('ha', 31369), ('wa', 28933), ('power', 28294), ('cc', 28233), ('=20', 27987), ('http', 26323), ('subject', 25124), ('enron.com', 24438), ('energy', 24382), ('company', 23827), ('time', 22486), ('message', 21941), ('market', 20849), ('said', 20753), ('price', 18815), ('know', 18546), ('thanks', 18047), ('sent', 17941), ('need', 17368), ('gas', 17325), ('get', 16927), ('information', 16568), ('service', 15619), ('state', 15521), ('day', 14967), ('business', 14651), ('year', 14569), ('call', 14366), ('deal', 14343), ('e-mail', 14276), ('week', 14157), ('california', 13945), ('forwarded', 13899), ('let', 13028), ('agreement', 12278), ('see', 12267), ('contract', 12248), ('meeting', 11868), ('question', 11577), (\"'s\", 11456), ('change', 11313), ('issue', 11114), ('group', 11111), ('make', 10786), ('report', 10625), ('e', 10411)]\n"
     ]
    }
   ],
   "source": [
    "print(len(word_list))\n",
    "print(word_list[:10])\n",
    "print(Counter(word_list).most_common(50))"
   ]
  },
  {
   "cell_type": "code",
   "execution_count": null,
   "metadata": {
    "collapsed": true
   },
   "outputs": [],
   "source": []
  },
  {
   "cell_type": "code",
   "execution_count": 19,
   "metadata": {
    "collapsed": false
   },
   "outputs": [
    {
     "name": "stdout",
     "output_type": "stream",
     "text": [
      "ect pm enronxgate company ee cc wa power said state ha market year\n",
      "time subject energy california deal need forwarded\n"
     ]
    }
   ],
   "source": [
    "text = nltk.Text(word_list)\n",
    "text.similar('enron')"
   ]
  },
  {
   "cell_type": "code",
   "execution_count": 20,
   "metadata": {
    "collapsed": false
   },
   "outputs": [
    {
     "name": "stdout",
     "output_type": "stream",
     "text": [
      "need want like http time question wanted thanks information attached\n",
      "call get week conference enron going hope today think give\n"
     ]
    }
   ],
   "source": [
    "text = nltk.Text(word_list)\n",
    "text.similar('please')"
   ]
  },
  {
   "cell_type": "code",
   "execution_count": 21,
   "metadata": {
    "collapsed": false
   },
   "outputs": [
    {
     "name": "stdout",
     "output_type": "stream",
     "text": [
      "energy electricity gas price market california enron utility state\n",
      "company year contract time said wa supply ha service trading\n",
      "transmission\n"
     ]
    }
   ],
   "source": [
    "text = nltk.Text(word_list)\n",
    "text.similar('power')"
   ]
  },
  {
   "cell_type": "code",
   "execution_count": 22,
   "metadata": {
    "collapsed": false
   },
   "outputs": [
    {
     "name": "stdout",
     "output_type": "stream",
     "text": [
      "please question enron http time comment get number call email week\n",
      "service day deal change power need detail see issue\n"
     ]
    }
   ],
   "source": [
    "text = nltk.Text(word_list)\n",
    "text.similar('information')"
   ]
  },
  {
   "cell_type": "code",
   "execution_count": null,
   "metadata": {
    "collapsed": true
   },
   "outputs": [],
   "source": []
  },
  {
   "cell_type": "code",
   "execution_count": 23,
   "metadata": {
    "collapsed": false
   },
   "outputs": [
    {
     "data": {
      "image/png": "[encoded data removed]",
      "text/plain": [
       "<matplotlib.figure.Figure at 0x1c5b1da90>"
      ]
     },
     "metadata": {},
     "output_type": "display_data"
    }
   ],
   "source": [
    "wl = list(range(50))\n",
    "fl = [w[1] for w in Counter(word_list).most_common(50)]\n",
    "\n",
    "plot(wl, fl, linewidth=1.0)\n",
    "xlabel('Word')\n",
    "ylabel('Frequency')\n",
    "title('log-log figure')\n",
    "grid(True)\n",
    "show()"
   ]
  },
  {
   "cell_type": "code",
   "execution_count": null,
   "metadata": {
    "collapsed": true
   },
   "outputs": [],
   "source": []
  },
  {
   "cell_type": "code",
   "execution_count": null,
   "metadata": {
    "collapsed": true
   },
   "outputs": [],
   "source": []
  },
  {
   "cell_type": "code",
   "execution_count": null,
   "metadata": {
    "collapsed": true
   },
   "outputs": [],
   "source": []
  },
  {
   "cell_type": "code",
   "execution_count": null,
   "metadata": {
    "collapsed": true
   },
   "outputs": [],
   "source": []
  },
  {
   "cell_type": "code",
   "execution_count": null,
   "metadata": {
    "collapsed": true
   },
   "outputs": [],
   "source": []
  }
 ],
 "metadata": {
  "anaconda-cloud": {},
  "kernelspec": {
   "display_name": "Python [default]",
   "language": "python",
   "name": "python3"
  },
  "language_info": {
   "codemirror_mode": {
    "name": "ipython",
    "version": 3
   },
   "file_extension": ".py",
   "mimetype": "text/x-python",
   "name": "python",
   "nbconvert_exporter": "python",
   "pygments_lexer": "ipython3",
   "version": "3.5.2"
  }
 },
 "nbformat": 4,
 "nbformat_minor": 2
}
