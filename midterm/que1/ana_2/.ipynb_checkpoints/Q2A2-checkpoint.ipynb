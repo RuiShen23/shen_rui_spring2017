{
 "cells": [
  {
   "cell_type": "markdown",
   "metadata": {},
   "source": [
    "# NYT Analysis 1 - Books API "
   ]
  },
  {
   "cell_type": "markdown",
   "metadata": {},
   "source": [
    "- loop through 16000 files about books from nyt-history-best seller\n",
    "- find out the type "
   ]
  },
  {
   "cell_type": "code",
   "execution_count": 16,
   "metadata": {
    "collapsed": true
   },
   "outputs": [],
   "source": [
    "import json\n",
    "import os"
   ]
  },
  {
   "cell_type": "code",
   "execution_count": 19,
   "metadata": {
    "collapsed": false
   },
   "outputs": [
    {
     "name": "stdout",
     "output_type": "stream",
     "text": [
      "/Users/Rui/Documents/INFO 7374/midterm/data/nyt_books_data/\n"
     ]
    }
   ],
   "source": [
    "rootdir = os.path.dirname(os.path.dirname(os.getcwd()))+'/data/nyt_books_data/'\n",
    "print(rootdir)"
   ]
  },
  {
   "cell_type": "code",
   "execution_count": 26,
   "metadata": {
    "collapsed": false
   },
   "outputs": [
    {
     "name": "stdout",
     "output_type": "stream",
     "text": [
      "/Users/Rui/Documents/INFO 7374/midterm/data/nyt_books_data/NYT-Books-Offset00.json\n"
     ]
    },
    {
     "data": {
      "text/plain": [
       "[{'asterisk': 0,\n",
       "  'bestsellers_date': '2016-02-27',\n",
       "  'dagger': 0,\n",
       "  'display_name': 'Business',\n",
       "  'list_name': 'Business Books',\n",
       "  'primary_isbn10': '1591847931',\n",
       "  'primary_isbn13': '9781591847939',\n",
       "  'published_date': '2016-03-13',\n",
       "  'rank': 8,\n",
       "  'ranks_last_week': None,\n",
       "  'weeks_on_list': 0},\n",
       " {'asterisk': 0,\n",
       "  'bestsellers_date': '2016-01-02',\n",
       "  'dagger': 0,\n",
       "  'display_name': 'Business',\n",
       "  'list_name': 'Business Books',\n",
       "  'primary_isbn10': '1591847931',\n",
       "  'primary_isbn13': '9781591847939',\n",
       "  'published_date': '2016-01-17',\n",
       "  'rank': 9,\n",
       "  'ranks_last_week': None,\n",
       "  'weeks_on_list': 0},\n",
       " {'asterisk': 0,\n",
       "  'bestsellers_date': '2015-11-28',\n",
       "  'dagger': 0,\n",
       "  'display_name': 'Business',\n",
       "  'list_name': 'Business Books',\n",
       "  'primary_isbn10': '1591847931',\n",
       "  'primary_isbn13': '9781591847939',\n",
       "  'published_date': '2015-12-13',\n",
       "  'rank': 9,\n",
       "  'ranks_last_week': None,\n",
       "  'weeks_on_list': 0},\n",
       " {'asterisk': 0,\n",
       "  'bestsellers_date': '2015-10-31',\n",
       "  'dagger': 0,\n",
       "  'display_name': 'Business',\n",
       "  'list_name': 'Business Books',\n",
       "  'primary_isbn10': '1591847931',\n",
       "  'primary_isbn13': '9781591847939',\n",
       "  'published_date': '2015-11-15',\n",
       "  'rank': 8,\n",
       "  'ranks_last_week': None,\n",
       "  'weeks_on_list': 0},\n",
       " {'asterisk': 0,\n",
       "  'bestsellers_date': '2014-10-25',\n",
       "  'dagger': 0,\n",
       "  'display_name': 'Business',\n",
       "  'list_name': 'Business Books',\n",
       "  'primary_isbn10': '039916927X',\n",
       "  'primary_isbn13': '9780399169274',\n",
       "  'published_date': '2014-11-09',\n",
       "  'rank': 10,\n",
       "  'ranks_last_week': None,\n",
       "  'weeks_on_list': 0},\n",
       " {'asterisk': 0,\n",
       "  'bestsellers_date': '2014-09-27',\n",
       "  'dagger': 0,\n",
       "  'display_name': 'Business',\n",
       "  'list_name': 'Business Books',\n",
       "  'primary_isbn10': '039916927X',\n",
       "  'primary_isbn13': '9780399169274',\n",
       "  'published_date': '2014-10-12',\n",
       "  'rank': 8,\n",
       "  'ranks_last_week': None,\n",
       "  'weeks_on_list': 0},\n",
       " {'asterisk': 0,\n",
       "  'bestsellers_date': '2014-09-06',\n",
       "  'dagger': 0,\n",
       "  'display_name': 'Advice, How-To & Miscellaneous',\n",
       "  'list_name': 'Advice How-To and Miscellaneous',\n",
       "  'primary_isbn10': '039916927X',\n",
       "  'primary_isbn13': '9780399169274',\n",
       "  'published_date': '2014-09-21',\n",
       "  'rank': 14,\n",
       "  'ranks_last_week': None,\n",
       "  'weeks_on_list': 0}]"
      ]
     },
     "execution_count": 26,
     "metadata": {},
     "output_type": "execute_result"
    }
   ],
   "source": [
    "filename = rootdir+'NYT-Books-Offset00.json'\n",
    "print(filename)\n",
    "\n",
    "json.loads(open(filename).read())['results'][3]['ranks_history']"
   ]
  },
  {
   "cell_type": "code",
   "execution_count": 10,
   "metadata": {
    "collapsed": false
   },
   "outputs": [
    {
     "data": {
      "text/plain": [
       "'/Users/Rui/Documents/INFO 7374/midterm/que1/ana_2'"
      ]
     },
     "execution_count": 10,
     "metadata": {},
     "output_type": "execute_result"
    }
   ],
   "source": [
    "import os\n",
    "os.getcwd()"
   ]
  },
  {
   "cell_type": "code",
   "execution_count": 13,
   "metadata": {
    "collapsed": false
   },
   "outputs": [
    {
     "data": {
      "text/plain": [
       "'/Users/Rui/Documents/INFO 7374/midterm'"
      ]
     },
     "execution_count": 13,
     "metadata": {},
     "output_type": "execute_result"
    }
   ],
   "source": []
  },
  {
   "cell_type": "code",
   "execution_count": null,
   "metadata": {
    "collapsed": true
   },
   "outputs": [],
   "source": []
  }
 ],
 "metadata": {
  "anaconda-cloud": {},
  "kernelspec": {
   "display_name": "Python [conda root]",
   "language": "python",
   "name": "conda-root-py"
  },
  "language_info": {
   "codemirror_mode": {
    "name": "ipython",
    "version": 3
   },
   "file_extension": ".py",
   "mimetype": "text/x-python",
   "name": "python",
   "nbconvert_exporter": "python",
   "pygments_lexer": "ipython3",
   "version": "3.5.2"
  }
 },
 "nbformat": 4,
 "nbformat_minor": 1
}
