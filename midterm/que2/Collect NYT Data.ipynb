{
 "cells": [
  {
   "cell_type": "code",
   "execution_count": 1,
   "metadata": {
    "collapsed": true
   },
   "outputs": [],
   "source": [
    "import os\n",
    "from glob import glob\n",
    "import json\n",
    "import requests\n",
    "import time"
   ]
  },
  {
   "cell_type": "code",
   "execution_count": 2,
   "metadata": {
    "collapsed": false
   },
   "outputs": [],
   "source": [
    "key = os.getenv('auth_key')"
   ]
  },
  {
   "cell_type": "code",
   "execution_count": 3,
   "metadata": {
    "collapsed": false
   },
   "outputs": [],
   "source": [
    "midterm = '/Users/Rui/Documents/INFO 7374/midterm/'\n",
    "midterm_data = midterm+'data/'\n",
    "article_search_data = midterm_data+'nyt_article_search_data/'\n",
    "archive_data = midterm_data+'nyt_archive_data/'\n",
    "books_data = midterm_data+'nyt_books_data/'\n",
    "community_data = midterm_data+'nyt_community_data/'"
   ]
  },
  {
   "cell_type": "markdown",
   "metadata": {},
   "source": [
    "# Article_Search"
   ]
  },
  {
   "cell_type": "code",
   "execution_count": 4,
   "metadata": {
    "collapsed": true
   },
   "outputs": [],
   "source": [
    "name_list=['Hillary','Trump']"
   ]
  },
  {
   "cell_type": "code",
   "execution_count": 12,
   "metadata": {
    "collapsed": true
   },
   "outputs": [],
   "source": [
    "ol = list(range(0,121))"
   ]
  },
  {
   "cell_type": "code",
   "execution_count": 7,
   "metadata": {
    "collapsed": false
   },
   "outputs": [],
   "source": [
    "os.mkdir(article_search_data+'Hillary')\n",
    "os.mkdir(article_search_data+'Trump')"
   ]
  },
  {
   "cell_type": "code",
   "execution_count": 5,
   "metadata": {
    "collapsed": true
   },
   "outputs": [],
   "source": [
    "def aricle_file_name(p,n):\n",
    "    file_name = article_search_data+p+'/'+'NYT-Articles-'+p+'-page'+str(n)+'.json'\n",
    "    return file_name"
   ]
  },
  {
   "cell_type": "code",
   "execution_count": 13,
   "metadata": {
    "collapsed": false
   },
   "outputs": [],
   "source": [
    "error_list = []\n",
    "for p in name_list:\n",
    "    for n in ol:\n",
    "        r = requests.get('https://api.nytimes.com/svc/search/v2/articlesearch.json?api-key='+key+'&q='+p+'&page='+str(n))\n",
    "        if r.status_code==requests.codes.ok:\n",
    "            file = aricle_file_name(p,n)\n",
    "            with open(file, 'w') as fp:\n",
    "                json.dump(r.json(),fp)\n",
    "            time.sleep(0.7)\n",
    "        else:\n",
    "            print(\"Error occured when processing\",p,\"page\",n,\"Error code:\",r.status_code)\n",
    "            error_list.append([p,n])\n",
    "            print(r.headers)\n",
    "            time.sleep(0.7)"
   ]
  },
  {
   "cell_type": "code",
   "execution_count": null,
   "metadata": {
    "collapsed": false
   },
   "outputs": [],
   "source": [
    "olt = list(range(121,400))\n",
    "for n in olt:\n",
    "    r = requests.get('https://api.nytimes.com/svc/search/v2/articlesearch.json?api-key='+key+'&q=Trump&page='+str(n))\n",
    "    if r.status_code==requests.codes.ok:\n",
    "        file = aricle_file_name('Trump',n)\n",
    "        with open(file, 'w') as fp:\n",
    "            json.dump(r.json(),fp)\n",
    "        time.sleep(0.5)\n",
    "    else:\n",
    "        print(\"Error occured when processing page\",n,\"Error code:\",r.status_code)\n",
    "        error_list.append([p,n])\n",
    "        print(r.headers)\n",
    "        time.sleep(0.7)  "
   ]
  },
  {
   "cell_type": "code",
   "execution_count": null,
   "metadata": {
    "collapsed": true
   },
   "outputs": [],
   "source": []
  },
  {
   "cell_type": "markdown",
   "metadata": {},
   "source": [
    "# Archive\n",
    "- past 20 years 1997.1 - 2017.2"
   ]
  },
  {
   "cell_type": "code",
   "execution_count": 4,
   "metadata": {
    "collapsed": true
   },
   "outputs": [],
   "source": [
    "a_year = 1997\n",
    "a_month = 1"
   ]
  },
  {
   "cell_type": "code",
   "execution_count": 5,
   "metadata": {
    "collapsed": false
   },
   "outputs": [
    {
     "name": "stdout",
     "output_type": "stream",
     "text": [
      "242\n"
     ]
    }
   ],
   "source": [
    "date_list = []\n",
    "while a_year <= 2017:\n",
    "    if a_year < 2017:\n",
    "        while a_month <= 12:\n",
    "            date_list.append([a_year, a_month])\n",
    "            a_month = a_month + 1\n",
    "        a_month = 1\n",
    "        a_year = a_year + 1\n",
    "    if a_year == 2017:\n",
    "        while a_month < 3:\n",
    "            date_list.append([a_year, a_month])\n",
    "            a_month = a_month + 1   \n",
    "        a_year = a_year + 1\n",
    "print(len(date_list))"
   ]
  },
  {
   "cell_type": "code",
   "execution_count": 6,
   "metadata": {
    "collapsed": true
   },
   "outputs": [],
   "source": [
    "def archive_file_name(y_m_list):\n",
    "    file_name = archive_data+'NYT'+str(y_m_list[0])+'{:02}'.format(y_m_list[1])+'Archive.json'\n",
    "    return file_name"
   ]
  },
  {
   "cell_type": "code",
   "execution_count": 7,
   "metadata": {
    "collapsed": false
   },
   "outputs": [],
   "source": [
    "for d in date_list:\n",
    "    r = requests.get('https://api.nytimes.com/svc/archive/v1/'+str(d[0])+'/'+str(d[1])+'.json?api-key='+key)\n",
    "    if r.status_code==requests.codes.ok:\n",
    "        file = archive_file_name(d)\n",
    "        with open(file, 'w') as fp:\n",
    "            json.dump(r.json(),fp)\n",
    "    else:\n",
    "        print(\"Error occured when processing\",d[0],d[1])"
   ]
  },
  {
   "cell_type": "code",
   "execution_count": null,
   "metadata": {
    "collapsed": true
   },
   "outputs": [],
   "source": []
  },
  {
   "cell_type": "markdown",
   "metadata": {},
   "source": [
    "# Books"
   ]
  },
  {
   "cell_type": "code",
   "execution_count": 26,
   "metadata": {
    "collapsed": true
   },
   "outputs": [],
   "source": [
    "ol = list(range(12000,16000))\n",
    "offlist = [o for o in ol if o%20==0]"
   ]
  },
  {
   "cell_type": "code",
   "execution_count": 21,
   "metadata": {
    "collapsed": true
   },
   "outputs": [],
   "source": [
    "def books_file_name(n):\n",
    "    file_name = books_data+'NYT-Books-Offset'+'{:02}'.format(n)+'.json'\n",
    "    return file_name"
   ]
  },
  {
   "cell_type": "code",
   "execution_count": 27,
   "metadata": {
    "collapsed": false
   },
   "outputs": [
    {
     "name": "stdout",
     "output_type": "stream",
     "text": [
      "Error occured when processing off-set 13440 Error code: 504\n",
      "Error occured when processing off-set 14440 Error code: 504\n"
     ]
    }
   ],
   "source": [
    "error_list = []\n",
    "for n in offlist:\n",
    "    r = requests.get('https://api.nytimes.com/svc/books/v3/lists/best-sellers/history.json?api-key='+key+'&offset='+str(n))\n",
    "    if r.status_code==requests.codes.ok:\n",
    "        file = books_file_name(n)\n",
    "        with open(file, 'w') as fp:\n",
    "            json.dump(r.json(),fp)\n",
    "    else:\n",
    "        print(\"Error occured when processing off-set\",n,\"Error code:\",r.status_code)\n",
    "        error_list.append(n)"
   ]
  },
  {
   "cell_type": "code",
   "execution_count": 28,
   "metadata": {
    "collapsed": true
   },
   "outputs": [],
   "source": [
    "el = []\n",
    "for e in error_list:\n",
    "    r = requests.get('https://api.nytimes.com/svc/books/v3/lists/best-sellers/history.json?api-key='+key+'&offset='+str(e))\n",
    "    if r.status_code==requests.codes.ok:\n",
    "        file = books_file_name(e)\n",
    "        with open(file, 'w') as fp:\n",
    "            json.dump(r.json(),fp)\n",
    "    else:\n",
    "        print(\"Error occured when processing off-set\",e,\"Error code:\",r.status_code)\n",
    "        el.append(e)"
   ]
  },
  {
   "cell_type": "code",
   "execution_count": null,
   "metadata": {
    "collapsed": true
   },
   "outputs": [],
   "source": []
  },
  {
   "cell_type": "code",
   "execution_count": null,
   "metadata": {
    "collapsed": true
   },
   "outputs": [],
   "source": []
  }
 ],
 "metadata": {
  "anaconda-cloud": {},
  "kernelspec": {
   "display_name": "Python [conda root]",
   "language": "python",
   "name": "conda-root-py"
  },
  "language_info": {
   "codemirror_mode": {
    "name": "ipython",
    "version": 3
   },
   "file_extension": ".py",
   "mimetype": "text/x-python",
   "name": "python",
   "nbconvert_exporter": "python",
   "pygments_lexer": "ipython3",
   "version": "3.5.2"
  }
 },
 "nbformat": 4,
 "nbformat_minor": 1
}
