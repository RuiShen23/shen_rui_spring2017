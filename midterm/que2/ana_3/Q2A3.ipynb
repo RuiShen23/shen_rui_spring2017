{
 "cells": [
  {
   "cell_type": "markdown",
   "metadata": {},
   "source": [
    "# NYT Analysis 3 - Archived API"
   ]
  },
  {
   "cell_type": "code",
   "execution_count": 1,
   "metadata": {
    "collapsed": true
   },
   "outputs": [],
   "source": [
    "import json\n",
    "import os\n",
    "import nltk\n",
    "from collections import Counter\n",
    "from pylab import *"
   ]
  },
  {
   "cell_type": "code",
   "execution_count": 2,
   "metadata": {
    "collapsed": true
   },
   "outputs": [],
   "source": [
    "rootdir = os.path.dirname(os.path.dirname(os.getcwd()))+'/data/nyt_archive_data/'"
   ]
  },
  {
   "cell_type": "markdown",
   "metadata": {},
   "source": [
    "Get all authors from past three years first"
   ]
  },
  {
   "cell_type": "code",
   "execution_count": 3,
   "metadata": {
    "collapsed": true
   },
   "outputs": [],
   "source": [
    "author_list = []\n",
    "for year in [2014, 2015, 2016]:\n",
    "    for month in list(range(1, 13)):\n",
    "        filename = rootdir+'NYT'+str(year)+'{0:02}'.format(month)+'Archive.json'\n",
    "        allnews = json.loads(open(filename).read())['response']['docs']\n",
    "        for news in allnews:\n",
    "            if news['byline'] != None:\n",
    "                if 'original' in news['byline']:\n",
    "                    original = news['byline']['original']\n",
    "                    author_list.append(original)"
   ]
  },
  {
   "cell_type": "code",
   "execution_count": 4,
   "metadata": {
    "collapsed": false
   },
   "outputs": [
    {
     "data": {
      "text/plain": [
       "220745"
      ]
     },
     "execution_count": 4,
     "metadata": {},
     "output_type": "execute_result"
    }
   ],
   "source": [
    "len(author_list)"
   ]
  },
  {
   "cell_type": "markdown",
   "metadata": {},
   "source": [
    "- Clean up the author data including unnecsssary words, spaces\n",
    "- Check for co-writers and store them seperately"
   ]
  },
  {
   "cell_type": "code",
   "execution_count": 5,
   "metadata": {
    "collapsed": false
   },
   "outputs": [],
   "source": [
    "author_list = [x.title() for x in author_list]"
   ]
  },
  {
   "cell_type": "code",
   "execution_count": 6,
   "metadata": {
    "collapsed": true
   },
   "outputs": [],
   "source": [
    "author_list = [x.replace('By ','') for x in author_list if 'By ' in x]"
   ]
  },
  {
   "cell_type": "code",
   "execution_count": 7,
   "metadata": {
    "collapsed": false
   },
   "outputs": [],
   "source": [
    "auth_names = []\n",
    "for x in author_list:\n",
    "    tokenized_x = nltk.word_tokenize(x)\n",
    "    if 'And' in tokenized_x:\n",
    "        if ',' in tokenized_x:  # means there are more than 2 authors                \n",
    "            seperator_list = [i for i,y in enumerate(tokenized_x) if y == ',']\n",
    "                \n",
    "            #get names seperated by ','\n",
    "            for i in seperator_list:                    \n",
    "                lm = []\n",
    "                am = 0\n",
    "                while am < i:\n",
    "                    lm.append(tokenized_x[am]+' ')\n",
    "                    am = am + 1\n",
    "                sm = ''.join(lm)\n",
    "            lls = sm.split(',')     \n",
    "            for s in lls: auth_names.append(s)\n",
    "                            \n",
    "            # get the name between last ',' and 'And'\n",
    "            lm = tokenized_x[seperator_list[-1]+1:tokenized_x.index('And')]           \n",
    "            sm = ' '.join(lm)\n",
    "            auth_names.append(sm)\n",
    "                \n",
    "            #get name after 'And'\n",
    "            ll = tokenized_x[tokenized_x.index('And')+1:]           \n",
    "            sl = ' '.join(ll)\n",
    "            auth_names.append(sl) \n",
    "\n",
    "        else:  #means there are two authors\n",
    "            ap = tokenized_x.index('And')\n",
    "            \n",
    "            name1 = tokenized_x[:ap]   \n",
    "            sn1 = ' '.join(name1)\n",
    "            auth_names.append(sn1)\n",
    "            \n",
    "            name2 = tokenized_x[ap+1:]\n",
    "            sn2 = ' '.join(name2)\n",
    "            auth_names.append(sn2)"
   ]
  },
  {
   "cell_type": "code",
   "execution_count": 8,
   "metadata": {
    "collapsed": false
   },
   "outputs": [
    {
     "name": "stdout",
     "output_type": "stream",
     "text": [
      "33044 ['Jack Ewing ', 'Neil Gough', 'David Jolly', 'Kate Taylor', 'Matt Flegenheimer', 'Anne Barnard', 'Hwaida Saad', 'Kareem Fahim', 'Asmaa Al Zohairy', 'Eli Rosenberg', 'Michael Schwirtz', 'Michael R. Gordon', 'Jodi Rudoren', 'Robert Pear', 'Abby Goodnough', 'Emma G. Fitzsimmons', 'Eli Rosenberg', 'Steve Kenny', 'Robert Pear', 'Nicholas Kulish']\n"
     ]
    }
   ],
   "source": [
    "print(len(auth_names), auth_names[:20])"
   ]
  },
  {
   "cell_type": "code",
   "execution_count": 9,
   "metadata": {
    "collapsed": true
   },
   "outputs": [],
   "source": [
    "auth_names = [n.strip() for n in auth_names if n!='']"
   ]
  },
  {
   "cell_type": "code",
   "execution_count": 10,
   "metadata": {
    "collapsed": false
   },
   "outputs": [
    {
     "data": {
      "text/plain": [
       "[('Sandra Stevenson', 380),\n",
       " ('Maggie Haberman', 374),\n",
       " ('Andrea Kannapell', 365),\n",
       " ('Michael D. Shear', 281),\n",
       " ('Jonathan Martin', 247),\n",
       " ('David E. Sanger', 242),\n",
       " ('Eric Schmitt', 239),\n",
       " ('Michael R. Gordon', 213),\n",
       " ('Michael J . De La Merced', 213),\n",
       " ('Ashley Parker', 206),\n",
       " ('Mike Isaac', 184),\n",
       " ('J. David Goodman', 181),\n",
       " ('Robin Lindsay', 180),\n",
       " ('Michael S. Schmidt', 175),\n",
       " ('Andy Newman', 174),\n",
       " ('Matt Flegenheimer', 174),\n",
       " ('Alan Blinder', 173),\n",
       " ('Anne Barnard', 169),\n",
       " ('Amy Chozick', 167),\n",
       " ('Annie Correal', 163),\n",
       " ('Rick Gladstone', 158),\n",
       " ('Richard Pérez-Peña', 158),\n",
       " ('Chris Buckley', 153),\n",
       " ('Patrick Healy', 153),\n",
       " ('Peter Baker', 153),\n",
       " ('Kareem Fahim', 152),\n",
       " ('Rick Rojas', 152),\n",
       " ('Julie Hirschfeld Davis', 146),\n",
       " ('Ainara Tiefenthäler', 145),\n",
       " ('Al Baker', 141),\n",
       " ('Josh Katz', 139),\n",
       " ('Gregor Aisch', 139),\n",
       " ('Kevin Quealy', 136),\n",
       " ('Adeel Hassan', 136),\n",
       " ('Marc Santora', 134),\n",
       " ('Thomas Kaplan', 134),\n",
       " ('Matthew Goldstein', 134),\n",
       " ('Ben Protess', 132),\n",
       " ('Matt Apuzzo', 131),\n",
       " ('Alexandra Stevenson', 130),\n",
       " ('Benjamin Mueller', 129),\n",
       " ('Victoria Shannon', 128),\n",
       " ('Alexander Burns', 127),\n",
       " ('The Associated Press', 127),\n",
       " ('Rod Nordland', 123),\n",
       " ('Michael Barbaro', 123),\n",
       " ('Jack Ewing', 121),\n",
       " ('Manny Fernandez', 119),\n",
       " ('Somini Sengupta', 118),\n",
       " ('Mark Landler', 116)]"
      ]
     },
     "execution_count": 10,
     "metadata": {},
     "output_type": "execute_result"
    }
   ],
   "source": [
    "Counter(auth_names).most_common(50)"
   ]
  },
  {
   "cell_type": "markdown",
   "metadata": {},
   "source": [
    "Draw a simple graph"
   ]
  },
  {
   "cell_type": "code",
   "execution_count": 11,
   "metadata": {
    "collapsed": false
   },
   "outputs": [
    {
     "data": {
      "image/png": "[encoded data removed]",
      "text/plain": [
       "<matplotlib.figure.Figure at 0x112bf4828>"
      ]
     },
     "metadata": {},
     "output_type": "display_data"
    }
   ],
   "source": [
    "l = Counter(auth_names).most_common(50)\n",
    "x_l = []\n",
    "y_l = []\n",
    "\n",
    "a = 0\n",
    "while a < 50:\n",
    "    x_l.append(a)\n",
    "    y_l.append(l[a][1])\n",
    "    a += 1\n",
    "plot(x_l, y_l, linewidth=1.0)\n",
    "show()"
   ]
  },
  {
   "cell_type": "code",
   "execution_count": null,
   "metadata": {
    "collapsed": true
   },
   "outputs": [],
   "source": []
  }
 ],
 "metadata": {
  "anaconda-cloud": {},
  "kernelspec": {
   "display_name": "Python [conda root]",
   "language": "python",
   "name": "conda-root-py"
  },
  "language_info": {
   "codemirror_mode": {
    "name": "ipython",
    "version": 3
   },
   "file_extension": ".py",
   "mimetype": "text/x-python",
   "name": "python",
   "nbconvert_exporter": "python",
   "pygments_lexer": "ipython3",
   "version": "3.5.2"
  }
 },
 "nbformat": 4,
 "nbformat_minor": 1
}
