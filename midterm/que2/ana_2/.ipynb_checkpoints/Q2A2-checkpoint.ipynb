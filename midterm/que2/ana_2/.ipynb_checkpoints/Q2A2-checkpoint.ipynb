{
 "cells": [
  {
   "cell_type": "markdown",
   "metadata": {},
   "source": [
    "# NYT Analysis 2 - Books API "
   ]
  },
  {
   "cell_type": "markdown",
   "metadata": {},
   "source": [
    "- loop through 16000 files about books from nyt-history-best seller\n",
    "- find out the type "
   ]
  },
  {
   "cell_type": "code",
   "execution_count": 7,
   "metadata": {
    "collapsed": true
   },
   "outputs": [],
   "source": [
    "import json\n",
    "import os\n",
    "from glob import glob\n",
    "import csv"
   ]
  },
  {
   "cell_type": "code",
   "execution_count": 2,
   "metadata": {
    "collapsed": false
   },
   "outputs": [
    {
     "name": "stdout",
     "output_type": "stream",
     "text": [
      "/Users/Rui/Documents/INFO 7374/midterm/data/nyt_books_data/\n"
     ]
    }
   ],
   "source": [
    "rootdir = os.path.dirname(os.path.dirname(os.getcwd()))+'/data/nyt_books_data/'\n",
    "print(rootdir)"
   ]
  },
  {
   "cell_type": "markdown",
   "metadata": {},
   "source": [
    "Create a csv file under current working directory"
   ]
  },
  {
   "cell_type": "code",
   "execution_count": 31,
   "metadata": {
    "collapsed": false
   },
   "outputs": [],
   "source": [
    "with open(os.getcwd()+'/'+'BookAPIAnalysis.csv','w+',newline='') as fp:\n",
    "    fieldnames = ['bestsellers_date', 'list_name', 'rank', 'title']\n",
    "    writer = csv.DictWriter(fp, fieldnames = fieldnames)\n",
    "    writer.writeheader()"
   ]
  },
  {
   "cell_type": "markdown",
   "metadata": {},
   "source": [
    "- In each file: copyright, num_results, results, status\n",
    "- In results: age_group, author, contributer, contributor_note, description, isbns, price, publisher, ranks_history, reviews, title\n",
    "- In ranks_history: asterisk, bestsellers_date, dagger, display_name, list_name, primary_isbn10, primary_isbn13, published_date, rank, ranks_last_week, weeks_on_list"
   ]
  },
  {
   "cell_type": "code",
   "execution_count": 3,
   "metadata": {
    "collapsed": false
   },
   "outputs": [],
   "source": [
    "bookinfo_list = []\n",
    "for filename in glob(rootdir+'*'):\n",
    "    filelist = json.loads(open(filename).read())['results']\n",
    "    for file in filelist:\n",
    "        title = file['title']\n",
    "        rh = file['ranks_history']\n",
    "        if rh != []:\n",
    "            for r in rh:\n",
    "                bestsellers_date = (r['bestsellers_date'])\n",
    "                list_name = r['list_name']\n",
    "                rank = r['rank']\n",
    "    bookinfo_list.append([bestsellers_date, list_name, rank, title])"
   ]
  },
  {
   "cell_type": "code",
   "execution_count": 4,
   "metadata": {
    "collapsed": false
   },
   "outputs": [
    {
     "data": {
      "text/plain": [
       "800"
      ]
     },
     "execution_count": 4,
     "metadata": {},
     "output_type": "execute_result"
    }
   ],
   "source": [
    "len(bookinfo_list)"
   ]
  },
  {
   "cell_type": "code",
   "execution_count": 32,
   "metadata": {
    "collapsed": false
   },
   "outputs": [
    {
     "data": {
      "text/plain": [
       "[['2014-10-25',\n",
       "  'Education',\n",
       "  15,\n",
       "  '1,339 QUITE INTERESTING FACTS TO MAKE YOUR JAW DROP'],\n",
       " ['2012-05-26',\n",
       "  'Hardcover Fiction',\n",
       "  20,\n",
       "  \"24 Hours in Cyberspace:  Painting on the Walls of the Digital Cave Photographed on One Day by 150 of the World's Leading\"]]"
      ]
     },
     "execution_count": 32,
     "metadata": {},
     "output_type": "execute_result"
    }
   ],
   "source": [
    "bookinfo_list[:2]"
   ]
  },
  {
   "cell_type": "code",
   "execution_count": 33,
   "metadata": {
    "collapsed": true
   },
   "outputs": [],
   "source": [
    "sorted_bookinfo_list = sorted(bookinfo_list, key=lambda row: row[0], reverse=False)"
   ]
  },
  {
   "cell_type": "markdown",
   "metadata": {},
   "source": [
    "Write the bookinfo_list to csv file"
   ]
  },
  {
   "cell_type": "code",
   "execution_count": 34,
   "metadata": {
    "collapsed": false
   },
   "outputs": [],
   "source": [
    "with open(os.getcwd()+'/'+'BookAPIAnalysis.csv','a',newline='') as fp:\n",
    "    fieldnames = ['bestsellers_date', 'list_name', 'rank', 'title']\n",
    "    writer = csv.DictWriter(fp, fieldnames = fieldnames)\n",
    "    \n",
    "    for bil in sorted_bookinfo_list:\n",
    "        bil_dict = {'bestsellers_date':bil[0],'list_name':bil[1], 'rank':bil[2], 'title':bil[3]}\n",
    "        writer.writerow(bil_dict)"
   ]
  },
  {
   "cell_type": "code",
   "execution_count": 27,
   "metadata": {
    "collapsed": true
   },
   "outputs": [],
   "source": []
  },
  {
   "cell_type": "code",
   "execution_count": null,
   "metadata": {
    "collapsed": false
   },
   "outputs": [],
   "source": []
  },
  {
   "cell_type": "code",
   "execution_count": null,
   "metadata": {
    "collapsed": true
   },
   "outputs": [],
   "source": []
  },
  {
   "cell_type": "code",
   "execution_count": null,
   "metadata": {
    "collapsed": true
   },
   "outputs": [],
   "source": []
  },
  {
   "cell_type": "code",
   "execution_count": null,
   "metadata": {
    "collapsed": true
   },
   "outputs": [],
   "source": []
  },
  {
   "cell_type": "code",
   "execution_count": null,
   "metadata": {
    "collapsed": true
   },
   "outputs": [],
   "source": []
  },
  {
   "cell_type": "code",
   "execution_count": null,
   "metadata": {
    "collapsed": true
   },
   "outputs": [],
   "source": []
  }
 ],
 "metadata": {
  "anaconda-cloud": {},
  "kernelspec": {
   "display_name": "Python [conda root]",
   "language": "python",
   "name": "conda-root-py"
  },
  "language_info": {
   "codemirror_mode": {
    "name": "ipython",
    "version": 3
   },
   "file_extension": ".py",
   "mimetype": "text/x-python",
   "name": "python",
   "nbconvert_exporter": "python",
   "pygments_lexer": "ipython3",
   "version": "3.5.2"
  }
 },
 "nbformat": 4,
 "nbformat_minor": 1
}
